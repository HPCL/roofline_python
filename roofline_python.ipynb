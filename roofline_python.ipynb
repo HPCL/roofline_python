{
  "nbformat": 4,
  "nbformat_minor": 0,
  "metadata": {
    "colab": {
      "name": "roofline_python.ipynb",
      "provenance": [],
      "collapsed_sections": [],
      "authorship_tag": "ABX9TyPx4t+sMaD/RAe7TY/0lFU1",
      "include_colab_link": true
    },
    "kernelspec": {
      "name": "python3",
      "display_name": "Python 3"
    },
    "language_info": {
      "name": "python"
    }
  },
  "cells": [
    {
      "cell_type": "markdown",
      "metadata": {
        "id": "view-in-github",
        "colab_type": "text"
      },
      "source": [
        "<a href=\"https://colab.research.google.com/github/HPCL/roofline_python/blob/main/roofline_python.ipynb\" target=\"_parent\"><img src=\"https://colab.research.google.com/assets/colab-badge.svg\" alt=\"Open In Colab\"/></a>"
      ]
    },
    {
      "cell_type": "code",
      "metadata": {
        "id": "-w3_yCQ2Rtxm"
      },
      "source": [
        "import io\n",
        "import json\n",
        "import pandas as pd\n",
        "import matplotlib.pyplot as plt\n",
        "import seaborn as sns\n",
        "import numpy as np\n",
        "import math\n",
        "import plotly.graph_objects as go"
      ],
      "execution_count": 1,
      "outputs": []
    },
    {
      "cell_type": "markdown",
      "metadata": {
        "id": "YIPJ80JK5eOI"
      },
      "source": [
        "## google colab users: you can run the next code cell (and comment out the jupyter code cell that is after)\n",
        "## jupyter notebook users do the opposite\n",
        "\n",
        "### change the file name to upload the json file that you want.\n"
      ]
    },
    {
      "cell_type": "code",
      "metadata": {
        "colab": {
          "resources": {
            "http://localhost:8080/nbextensions/google.colab/files.js": {
              "data": "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",
              "ok": true,
              "headers": [
                [
                  "content-type",
                  "application/javascript"
                ]
              ],
              "status": 200,
              "status_text": ""
            }
          },
          "base_uri": "https://localhost:8080/",
          "height": 619
        },
        "id": "FCYlmyCUS2bm",
        "outputId": "0d75f5d2-d5ed-426e-bce6-c11b0f83659d"
      },
      "source": [
        "# GOOGLE COLAB\n",
        "# Load the json file\n",
        "from google.colab import files\n",
        "uploaded = files.upload()\n",
        "\n",
        "# Load \n",
        "filename = \"roofline.json\"\n",
        "data = json.loads(uploaded[filename].decode(\"utf-8\"))\n",
        "data"
      ],
      "execution_count": 2,
      "outputs": [
        {
          "output_type": "display_data",
          "data": {
            "text/html": [
              "\n",
              "     <input type=\"file\" id=\"files-412f83fb-d8eb-4820-a20b-d34ad5e65c72\" name=\"files[]\" multiple disabled\n",
              "        style=\"border:none\" />\n",
              "     <output id=\"result-412f83fb-d8eb-4820-a20b-d34ad5e65c72\">\n",
              "      Upload widget is only available when the cell has been executed in the\n",
              "      current browser session. Please rerun this cell to enable.\n",
              "      </output>\n",
              "      <script src=\"/nbextensions/google.colab/files.js\"></script> "
            ],
            "text/plain": [
              "<IPython.core.display.HTML object>"
            ]
          },
          "metadata": {
            "tags": []
          }
        },
        {
          "output_type": "stream",
          "text": [
            "Saving roofline.json to roofline (2).json\n"
          ],
          "name": "stdout"
        },
        {
          "output_type": "execute_result",
          "data": {
            "text/plain": [
              "{'empirical': {'gbytes': {'data': [['L1', 5371.68],\n",
              "    ['L2', 3025.18],\n",
              "    ['DRAM', 196.82]],\n",
              "   'metadata': {'': ['FLOPS          2',\n",
              "     'OPENMP_THREADS 40',\n",
              "     'ERT_VERSION  1.1.0',\n",
              "     'TIMESTAMP_DATA  1611254535.89',\n",
              "     \"HOSTNAME  ('apollo.cs.uoregon.edu', [], ['128.223.8.36'])\",\n",
              "     \"UNAME  ('Linux', 'apollo', '4.15.0-88-generic', '#88-Ubuntu SMP Tue Feb 11 20:11:34 UTC 2020', 'x86_64', 'x86_64')\",\n",
              "     \"CONFIG  {'ERT_WORKING_SET_MIN': ['1'], 'ERT_CFLAGS': ['-O3', '-march=skylake-avx512'], 'ERT_CC': ['g++'], 'ERT_WSS_MULT': [1.1], 'ERT_HIP': [False], 'ERT_MPI_CFLAGS': [], 'ERT_MPI_LDFLAGS': [], 'ERT_MEMORY_MAX': ['2147482548'], 'ERT_PROCS_THREADS': ['112'], 'ERT_LDFLAGS': [], 'ERT_LDLIBS': [], 'ERT_RUN': ['export', 'OMP_NUM_THREADS=ERT_OPENMP_THREADS;', 'export', 'OMP_PLACES=threads;', 'export', 'OMP_PROC_BIND=spread;', './ERT_CODE'], 'ERT_OCL': [False], 'ERT_FLOPS': ['1,2,4,8,16,32,64,128'], 'ERT_OPENMP_CFLAGS': ['-fopenmp'], 'ERT_SYCL': [False], 'ERT_MPI': ['False'], 'ERT_TRIALS_MIN': ['1'], 'ERT_DRIVER': ['driver1'], 'ERT_RESULTS': ['Results.apollo.skylake_gold'], 'ERT_OPENMP': ['True'], 'ERT_OPENMP_THREADS': ['1,2,8,16,24,32,40,48,56,64,80,96,112,128'], 'ERT_KERNEL': ['kernel1'], 'ERT_PRECISION': ['FP64'], 'ERT_LD': ['g++'], 'ERT_NUM_EXPERIMENTS': ['5'], 'ERT_OPENMP_LDFLAGS': ['-fopenmp'], 'ERT_GPU': [False], 'ERT_ALIGN': ['32'], 'ERT_GNUPLOT': ['gnuplot']}\",\n",
              "     'TIMESTAMP_DATA  1611254541.04',\n",
              "     'TIMESTAMP_DATA  1611254546.18',\n",
              "     'TIMESTAMP_DATA  1611254551.27',\n",
              "     'TIMESTAMP_DATA  1611254556.38'],\n",
              "    'TIMESTAMP_DB': 1611337174.400063}},\n",
              "  'gflops': {'data': [['FP64 GFLOPs', 2038.8]],\n",
              "   'metadata': {'': ['META_DATA',\n",
              "     'FLOPS          64',\n",
              "     'OPENMP_THREADS 96',\n",
              "     'ERT_VERSION  1.1.0',\n",
              "     'TIMESTAMP_DATA  1611282082.69',\n",
              "     \"HOSTNAME  ('apollo.cs.uoregon.edu', [], ['128.223.8.36'])\",\n",
              "     \"UNAME  ('Linux', 'apollo', '4.15.0-88-generic', '#88-Ubuntu SMP Tue Feb 11 20:11:34 UTC 2020', 'x86_64', 'x86_64')\",\n",
              "     \"CONFIG  {'ERT_WORKING_SET_MIN': ['1'], 'ERT_CFLAGS': ['-O3', '-march=skylake-avx512'], 'ERT_CC': ['g++'], 'ERT_WSS_MULT': [1.1], 'ERT_HIP': [False], 'ERT_MPI_CFLAGS': [], 'ERT_MPI_LDFLAGS': [], 'ERT_MEMORY_MAX': ['2147482548'], 'ERT_PROCS_THREADS': ['112'], 'ERT_LDFLAGS': [], 'ERT_LDLIBS': [], 'ERT_RUN': ['export', 'OMP_NUM_THREADS=ERT_OPENMP_THREADS;', 'export', 'OMP_PLACES=threads;', 'export', 'OMP_PROC_BIND=spread;', './ERT_CODE'], 'ERT_OCL': [False], 'ERT_FLOPS': ['1,2,4,8,16,32,64,128'], 'ERT_OPENMP_CFLAGS': ['-fopenmp'], 'ERT_SYCL': [False], 'ERT_MPI': ['False'], 'ERT_TRIALS_MIN': ['1'], 'ERT_DRIVER': ['driver1'], 'ERT_RESULTS': ['Results.apollo.skylake_gold'], 'ERT_OPENMP': ['True'], 'ERT_OPENMP_THREADS': ['1,2,8,16,24,32,40,48,56,64,80,96,112,128'], 'ERT_KERNEL': ['kernel1'], 'ERT_PRECISION': ['FP64'], 'ERT_LD': ['g++'], 'ERT_NUM_EXPERIMENTS': ['5'], 'ERT_OPENMP_LDFLAGS': ['-fopenmp'], 'ERT_GPU': [False], 'ERT_ALIGN': ['32'], 'ERT_GNUPLOT': ['gnuplot']}\",\n",
              "     'TIMESTAMP_DATA  1611282094.87',\n",
              "     'TIMESTAMP_DATA  1611282107.01',\n",
              "     'TIMESTAMP_DATA  1611282119.16',\n",
              "     'TIMESTAMP_DATA  1611282131.31'],\n",
              "    'TIMESTAMP_DB': 1611337174.399988}},\n",
              "  'metadata': {}},\n",
              " 'spec': {'gbytes': {'data': []}, 'gflops': {'data': []}}}"
            ]
          },
          "metadata": {
            "tags": []
          },
          "execution_count": 2
        }
      ]
    },
    {
      "cell_type": "code",
      "metadata": {
        "id": "C637tDJ_2Rxh"
      },
      "source": [
        "# JUPYTER NOTEBOOK\n",
        "# filename = \"roofline.json\"\n",
        "# data = json.loads(filename)\n",
        "# data"
      ],
      "execution_count": 3,
      "outputs": []
    },
    {
      "cell_type": "markdown",
      "metadata": {
        "id": "picddnf2UUiF"
      },
      "source": [
        "## Run all below to automatically decode json and create a roofline plot."
      ]
    },
    {
      "cell_type": "code",
      "metadata": {
        "colab": {
          "base_uri": "https://localhost:8080/"
        },
        "id": "DCawuAKNZrQk",
        "outputId": "fc5b6b04-603a-433d-c5cd-c557e59b1d14"
      },
      "source": [
        "# Parse the gbytes section\n",
        "gbytes = data['empirical']['gbytes']\n",
        "gbytes"
      ],
      "execution_count": 4,
      "outputs": [
        {
          "output_type": "execute_result",
          "data": {
            "text/plain": [
              "{'data': [['L1', 5371.68], ['L2', 3025.18], ['DRAM', 196.82]],\n",
              " 'metadata': {'': ['FLOPS          2',\n",
              "   'OPENMP_THREADS 40',\n",
              "   'ERT_VERSION  1.1.0',\n",
              "   'TIMESTAMP_DATA  1611254535.89',\n",
              "   \"HOSTNAME  ('apollo.cs.uoregon.edu', [], ['128.223.8.36'])\",\n",
              "   \"UNAME  ('Linux', 'apollo', '4.15.0-88-generic', '#88-Ubuntu SMP Tue Feb 11 20:11:34 UTC 2020', 'x86_64', 'x86_64')\",\n",
              "   \"CONFIG  {'ERT_WORKING_SET_MIN': ['1'], 'ERT_CFLAGS': ['-O3', '-march=skylake-avx512'], 'ERT_CC': ['g++'], 'ERT_WSS_MULT': [1.1], 'ERT_HIP': [False], 'ERT_MPI_CFLAGS': [], 'ERT_MPI_LDFLAGS': [], 'ERT_MEMORY_MAX': ['2147482548'], 'ERT_PROCS_THREADS': ['112'], 'ERT_LDFLAGS': [], 'ERT_LDLIBS': [], 'ERT_RUN': ['export', 'OMP_NUM_THREADS=ERT_OPENMP_THREADS;', 'export', 'OMP_PLACES=threads;', 'export', 'OMP_PROC_BIND=spread;', './ERT_CODE'], 'ERT_OCL': [False], 'ERT_FLOPS': ['1,2,4,8,16,32,64,128'], 'ERT_OPENMP_CFLAGS': ['-fopenmp'], 'ERT_SYCL': [False], 'ERT_MPI': ['False'], 'ERT_TRIALS_MIN': ['1'], 'ERT_DRIVER': ['driver1'], 'ERT_RESULTS': ['Results.apollo.skylake_gold'], 'ERT_OPENMP': ['True'], 'ERT_OPENMP_THREADS': ['1,2,8,16,24,32,40,48,56,64,80,96,112,128'], 'ERT_KERNEL': ['kernel1'], 'ERT_PRECISION': ['FP64'], 'ERT_LD': ['g++'], 'ERT_NUM_EXPERIMENTS': ['5'], 'ERT_OPENMP_LDFLAGS': ['-fopenmp'], 'ERT_GPU': [False], 'ERT_ALIGN': ['32'], 'ERT_GNUPLOT': ['gnuplot']}\",\n",
              "   'TIMESTAMP_DATA  1611254541.04',\n",
              "   'TIMESTAMP_DATA  1611254546.18',\n",
              "   'TIMESTAMP_DATA  1611254551.27',\n",
              "   'TIMESTAMP_DATA  1611254556.38'],\n",
              "  'TIMESTAMP_DB': 1611337174.400063}}"
            ]
          },
          "metadata": {
            "tags": []
          },
          "execution_count": 4
        }
      ]
    },
    {
      "cell_type": "code",
      "metadata": {
        "colab": {
          "base_uri": "https://localhost:8080/",
          "height": 142
        },
        "id": "e6rnhZJaocTn",
        "outputId": "c45d8e85-ddd4-46c3-8713-33e2897f4b8a"
      },
      "source": [
        "# Load gbytes data into Pandas dataframe\n",
        "gbytes_df = pd.DataFrame(gbytes['data'], columns=['name', 'slope'])\n",
        "gbytes_df['slope'] = gbytes_df['slope'] \n",
        "# Add the default x and y intercept\n",
        "gbytes_df['x'] = 0\n",
        "gbytes_df['y'] = 0\n",
        "gbytes_df"
      ],
      "execution_count": 5,
      "outputs": [
        {
          "output_type": "execute_result",
          "data": {
            "text/html": [
              "<div>\n",
              "<style scoped>\n",
              "    .dataframe tbody tr th:only-of-type {\n",
              "        vertical-align: middle;\n",
              "    }\n",
              "\n",
              "    .dataframe tbody tr th {\n",
              "        vertical-align: top;\n",
              "    }\n",
              "\n",
              "    .dataframe thead th {\n",
              "        text-align: right;\n",
              "    }\n",
              "</style>\n",
              "<table border=\"1\" class=\"dataframe\">\n",
              "  <thead>\n",
              "    <tr style=\"text-align: right;\">\n",
              "      <th></th>\n",
              "      <th>name</th>\n",
              "      <th>slope</th>\n",
              "      <th>x</th>\n",
              "      <th>y</th>\n",
              "    </tr>\n",
              "  </thead>\n",
              "  <tbody>\n",
              "    <tr>\n",
              "      <th>0</th>\n",
              "      <td>L1</td>\n",
              "      <td>5371.68</td>\n",
              "      <td>0</td>\n",
              "      <td>0</td>\n",
              "    </tr>\n",
              "    <tr>\n",
              "      <th>1</th>\n",
              "      <td>L2</td>\n",
              "      <td>3025.18</td>\n",
              "      <td>0</td>\n",
              "      <td>0</td>\n",
              "    </tr>\n",
              "    <tr>\n",
              "      <th>2</th>\n",
              "      <td>DRAM</td>\n",
              "      <td>196.82</td>\n",
              "      <td>0</td>\n",
              "      <td>0</td>\n",
              "    </tr>\n",
              "  </tbody>\n",
              "</table>\n",
              "</div>"
            ],
            "text/plain": [
              "   name    slope  x  y\n",
              "0    L1  5371.68  0  0\n",
              "1    L2  3025.18  0  0\n",
              "2  DRAM   196.82  0  0"
            ]
          },
          "metadata": {
            "tags": []
          },
          "execution_count": 5
        }
      ]
    },
    {
      "cell_type": "code",
      "metadata": {
        "colab": {
          "base_uri": "https://localhost:8080/"
        },
        "id": "UYjKsEpbV1eQ",
        "outputId": "8143e434-303f-46cb-cdc8-1bfc6f7aa42e"
      },
      "source": [
        "# Parse the gflop data section\n",
        "gflops = data['empirical']['gflops']\n",
        "gflops"
      ],
      "execution_count": 6,
      "outputs": [
        {
          "output_type": "execute_result",
          "data": {
            "text/plain": [
              "{'data': [['FP64 GFLOPs', 2038.8]],\n",
              " 'metadata': {'': ['META_DATA',\n",
              "   'FLOPS          64',\n",
              "   'OPENMP_THREADS 96',\n",
              "   'ERT_VERSION  1.1.0',\n",
              "   'TIMESTAMP_DATA  1611282082.69',\n",
              "   \"HOSTNAME  ('apollo.cs.uoregon.edu', [], ['128.223.8.36'])\",\n",
              "   \"UNAME  ('Linux', 'apollo', '4.15.0-88-generic', '#88-Ubuntu SMP Tue Feb 11 20:11:34 UTC 2020', 'x86_64', 'x86_64')\",\n",
              "   \"CONFIG  {'ERT_WORKING_SET_MIN': ['1'], 'ERT_CFLAGS': ['-O3', '-march=skylake-avx512'], 'ERT_CC': ['g++'], 'ERT_WSS_MULT': [1.1], 'ERT_HIP': [False], 'ERT_MPI_CFLAGS': [], 'ERT_MPI_LDFLAGS': [], 'ERT_MEMORY_MAX': ['2147482548'], 'ERT_PROCS_THREADS': ['112'], 'ERT_LDFLAGS': [], 'ERT_LDLIBS': [], 'ERT_RUN': ['export', 'OMP_NUM_THREADS=ERT_OPENMP_THREADS;', 'export', 'OMP_PLACES=threads;', 'export', 'OMP_PROC_BIND=spread;', './ERT_CODE'], 'ERT_OCL': [False], 'ERT_FLOPS': ['1,2,4,8,16,32,64,128'], 'ERT_OPENMP_CFLAGS': ['-fopenmp'], 'ERT_SYCL': [False], 'ERT_MPI': ['False'], 'ERT_TRIALS_MIN': ['1'], 'ERT_DRIVER': ['driver1'], 'ERT_RESULTS': ['Results.apollo.skylake_gold'], 'ERT_OPENMP': ['True'], 'ERT_OPENMP_THREADS': ['1,2,8,16,24,32,40,48,56,64,80,96,112,128'], 'ERT_KERNEL': ['kernel1'], 'ERT_PRECISION': ['FP64'], 'ERT_LD': ['g++'], 'ERT_NUM_EXPERIMENTS': ['5'], 'ERT_OPENMP_LDFLAGS': ['-fopenmp'], 'ERT_GPU': [False], 'ERT_ALIGN': ['32'], 'ERT_GNUPLOT': ['gnuplot']}\",\n",
              "   'TIMESTAMP_DATA  1611282094.87',\n",
              "   'TIMESTAMP_DATA  1611282107.01',\n",
              "   'TIMESTAMP_DATA  1611282119.16',\n",
              "   'TIMESTAMP_DATA  1611282131.31'],\n",
              "  'TIMESTAMP_DB': 1611337174.399988}}"
            ]
          },
          "metadata": {
            "tags": []
          },
          "execution_count": 6
        }
      ]
    },
    {
      "cell_type": "code",
      "metadata": {
        "id": "GhPSCQx7jLbT",
        "colab": {
          "base_uri": "https://localhost:8080/",
          "height": 80
        },
        "outputId": "4e6cec1e-1227-40a2-ba13-1fd6b87782fc"
      },
      "source": [
        "# Load gflops data into a Pandas dataframe\n",
        "gflops_df = pd.DataFrame(gflops['data'], columns=['name', 'y'])\n",
        "# Add the default x intercept and \"slope\" (really the value)\n",
        "gflops_df['x'] = 100\n",
        "gflops_df['slope'] = gflops['data'][0][1]\n",
        "gflops_df"
      ],
      "execution_count": 7,
      "outputs": [
        {
          "output_type": "execute_result",
          "data": {
            "text/html": [
              "<div>\n",
              "<style scoped>\n",
              "    .dataframe tbody tr th:only-of-type {\n",
              "        vertical-align: middle;\n",
              "    }\n",
              "\n",
              "    .dataframe tbody tr th {\n",
              "        vertical-align: top;\n",
              "    }\n",
              "\n",
              "    .dataframe thead th {\n",
              "        text-align: right;\n",
              "    }\n",
              "</style>\n",
              "<table border=\"1\" class=\"dataframe\">\n",
              "  <thead>\n",
              "    <tr style=\"text-align: right;\">\n",
              "      <th></th>\n",
              "      <th>name</th>\n",
              "      <th>y</th>\n",
              "      <th>x</th>\n",
              "      <th>slope</th>\n",
              "    </tr>\n",
              "  </thead>\n",
              "  <tbody>\n",
              "    <tr>\n",
              "      <th>0</th>\n",
              "      <td>FP64 GFLOPs</td>\n",
              "      <td>2038.8</td>\n",
              "      <td>100</td>\n",
              "      <td>2038.8</td>\n",
              "    </tr>\n",
              "  </tbody>\n",
              "</table>\n",
              "</div>"
            ],
            "text/plain": [
              "          name       y    x   slope\n",
              "0  FP64 GFLOPs  2038.8  100  2038.8"
            ]
          },
          "metadata": {
            "tags": []
          },
          "execution_count": 7
        }
      ]
    },
    {
      "cell_type": "code",
      "metadata": {
        "colab": {
          "base_uri": "https://localhost:8080/",
          "height": 235
        },
        "id": "Y0qnnn9IxiXC",
        "outputId": "53f237b0-f9ab-4c30-8351-382172d7bb30"
      },
      "source": [
        "# Calculate the point where each memory line meets the peak line, add to dataframe\n",
        "# y=mx+b -> x = (y-b)/m = (y-0)/m = y/m\n",
        "rows = len(gbytes_df)\n",
        "peak = gflops_df['y'][0]\n",
        "new_xes = []\n",
        "\n",
        "for row in range(rows):\n",
        "  name = gbytes_df['name'][row]\n",
        "  x = peak / gbytes_df['slope'][row]\n",
        "  gbytes_df.loc[len(gbytes_df.index)] = [name, gbytes_df['slope'][row], x, peak]\n",
        "  new_xes.append(x)\n",
        "\n",
        "gbytes_df"
      ],
      "execution_count": 8,
      "outputs": [
        {
          "output_type": "execute_result",
          "data": {
            "text/html": [
              "<div>\n",
              "<style scoped>\n",
              "    .dataframe tbody tr th:only-of-type {\n",
              "        vertical-align: middle;\n",
              "    }\n",
              "\n",
              "    .dataframe tbody tr th {\n",
              "        vertical-align: top;\n",
              "    }\n",
              "\n",
              "    .dataframe thead th {\n",
              "        text-align: right;\n",
              "    }\n",
              "</style>\n",
              "<table border=\"1\" class=\"dataframe\">\n",
              "  <thead>\n",
              "    <tr style=\"text-align: right;\">\n",
              "      <th></th>\n",
              "      <th>name</th>\n",
              "      <th>slope</th>\n",
              "      <th>x</th>\n",
              "      <th>y</th>\n",
              "    </tr>\n",
              "  </thead>\n",
              "  <tbody>\n",
              "    <tr>\n",
              "      <th>0</th>\n",
              "      <td>L1</td>\n",
              "      <td>5371.68</td>\n",
              "      <td>0.000000</td>\n",
              "      <td>0.0</td>\n",
              "    </tr>\n",
              "    <tr>\n",
              "      <th>1</th>\n",
              "      <td>L2</td>\n",
              "      <td>3025.18</td>\n",
              "      <td>0.000000</td>\n",
              "      <td>0.0</td>\n",
              "    </tr>\n",
              "    <tr>\n",
              "      <th>2</th>\n",
              "      <td>DRAM</td>\n",
              "      <td>196.82</td>\n",
              "      <td>0.000000</td>\n",
              "      <td>0.0</td>\n",
              "    </tr>\n",
              "    <tr>\n",
              "      <th>3</th>\n",
              "      <td>L1</td>\n",
              "      <td>5371.68</td>\n",
              "      <td>0.379546</td>\n",
              "      <td>2038.8</td>\n",
              "    </tr>\n",
              "    <tr>\n",
              "      <th>4</th>\n",
              "      <td>L2</td>\n",
              "      <td>3025.18</td>\n",
              "      <td>0.673943</td>\n",
              "      <td>2038.8</td>\n",
              "    </tr>\n",
              "    <tr>\n",
              "      <th>5</th>\n",
              "      <td>DRAM</td>\n",
              "      <td>196.82</td>\n",
              "      <td>10.358703</td>\n",
              "      <td>2038.8</td>\n",
              "    </tr>\n",
              "  </tbody>\n",
              "</table>\n",
              "</div>"
            ],
            "text/plain": [
              "   name    slope          x       y\n",
              "0    L1  5371.68   0.000000     0.0\n",
              "1    L2  3025.18   0.000000     0.0\n",
              "2  DRAM   196.82   0.000000     0.0\n",
              "3    L1  5371.68   0.379546  2038.8\n",
              "4    L2  3025.18   0.673943  2038.8\n",
              "5  DRAM   196.82  10.358703  2038.8"
            ]
          },
          "metadata": {
            "tags": []
          },
          "execution_count": 8
        }
      ]
    },
    {
      "cell_type": "code",
      "metadata": {
        "id": "JEXfx8Wrin9g"
      },
      "source": [
        "# Find the x coordinate to start the peak line at\n",
        "peak_x_min = min(new_xes)\n",
        "gflops_df.loc[len(gflops_df)] = [gflops_df['name'][0], gflops_df['y'][0], peak_x_min, gflops_df['y'][0]]"
      ],
      "execution_count": 9,
      "outputs": []
    },
    {
      "cell_type": "code",
      "metadata": {
        "id": "XsOfiYddJ-5y"
      },
      "source": [
        "# Make the label columns for the graph\n",
        "gbytes_df['label'] = gbytes_df['name'] + ' ' + gbytes_df['slope'].astype(str) + ' ' + 'GB/s'\n",
        "gflops_df['label'] = gflops_df['name'] + ' ' + gflops_df['slope'].astype(str) + ' ' + 'GFLOPs/s'\n"
      ],
      "execution_count": 10,
      "outputs": []
    },
    {
      "cell_type": "code",
      "metadata": {
        "id": "luIW0XXCZ0Z9",
        "colab": {
          "base_uri": "https://localhost:8080/",
          "height": 297
        },
        "outputId": "5ac2271a-0bc2-4ec0-df15-5865537aafe7"
      },
      "source": [
        "# Concatenate the gbyte and gflop data into one dataframe to plot\n",
        "g_df = pd.concat([gflops_df, gbytes_df], ignore_index=True)\n",
        "g_df"
      ],
      "execution_count": 11,
      "outputs": [
        {
          "output_type": "execute_result",
          "data": {
            "text/html": [
              "<div>\n",
              "<style scoped>\n",
              "    .dataframe tbody tr th:only-of-type {\n",
              "        vertical-align: middle;\n",
              "    }\n",
              "\n",
              "    .dataframe tbody tr th {\n",
              "        vertical-align: top;\n",
              "    }\n",
              "\n",
              "    .dataframe thead th {\n",
              "        text-align: right;\n",
              "    }\n",
              "</style>\n",
              "<table border=\"1\" class=\"dataframe\">\n",
              "  <thead>\n",
              "    <tr style=\"text-align: right;\">\n",
              "      <th></th>\n",
              "      <th>name</th>\n",
              "      <th>y</th>\n",
              "      <th>x</th>\n",
              "      <th>slope</th>\n",
              "      <th>label</th>\n",
              "    </tr>\n",
              "  </thead>\n",
              "  <tbody>\n",
              "    <tr>\n",
              "      <th>0</th>\n",
              "      <td>FP64 GFLOPs</td>\n",
              "      <td>2038.8</td>\n",
              "      <td>100.000000</td>\n",
              "      <td>2038.80</td>\n",
              "      <td>FP64 GFLOPs 2038.8 GFLOPs/s</td>\n",
              "    </tr>\n",
              "    <tr>\n",
              "      <th>1</th>\n",
              "      <td>FP64 GFLOPs</td>\n",
              "      <td>2038.8</td>\n",
              "      <td>0.379546</td>\n",
              "      <td>2038.80</td>\n",
              "      <td>FP64 GFLOPs 2038.8 GFLOPs/s</td>\n",
              "    </tr>\n",
              "    <tr>\n",
              "      <th>2</th>\n",
              "      <td>L1</td>\n",
              "      <td>0.0</td>\n",
              "      <td>0.000000</td>\n",
              "      <td>5371.68</td>\n",
              "      <td>L1 5371.68 GB/s</td>\n",
              "    </tr>\n",
              "    <tr>\n",
              "      <th>3</th>\n",
              "      <td>L2</td>\n",
              "      <td>0.0</td>\n",
              "      <td>0.000000</td>\n",
              "      <td>3025.18</td>\n",
              "      <td>L2 3025.18 GB/s</td>\n",
              "    </tr>\n",
              "    <tr>\n",
              "      <th>4</th>\n",
              "      <td>DRAM</td>\n",
              "      <td>0.0</td>\n",
              "      <td>0.000000</td>\n",
              "      <td>196.82</td>\n",
              "      <td>DRAM 196.82 GB/s</td>\n",
              "    </tr>\n",
              "    <tr>\n",
              "      <th>5</th>\n",
              "      <td>L1</td>\n",
              "      <td>2038.8</td>\n",
              "      <td>0.379546</td>\n",
              "      <td>5371.68</td>\n",
              "      <td>L1 5371.68 GB/s</td>\n",
              "    </tr>\n",
              "    <tr>\n",
              "      <th>6</th>\n",
              "      <td>L2</td>\n",
              "      <td>2038.8</td>\n",
              "      <td>0.673943</td>\n",
              "      <td>3025.18</td>\n",
              "      <td>L2 3025.18 GB/s</td>\n",
              "    </tr>\n",
              "    <tr>\n",
              "      <th>7</th>\n",
              "      <td>DRAM</td>\n",
              "      <td>2038.8</td>\n",
              "      <td>10.358703</td>\n",
              "      <td>196.82</td>\n",
              "      <td>DRAM 196.82 GB/s</td>\n",
              "    </tr>\n",
              "  </tbody>\n",
              "</table>\n",
              "</div>"
            ],
            "text/plain": [
              "          name       y           x    slope                        label\n",
              "0  FP64 GFLOPs  2038.8  100.000000  2038.80  FP64 GFLOPs 2038.8 GFLOPs/s\n",
              "1  FP64 GFLOPs  2038.8    0.379546  2038.80  FP64 GFLOPs 2038.8 GFLOPs/s\n",
              "2           L1     0.0    0.000000  5371.68              L1 5371.68 GB/s\n",
              "3           L2     0.0    0.000000  3025.18              L2 3025.18 GB/s\n",
              "4         DRAM     0.0    0.000000   196.82             DRAM 196.82 GB/s\n",
              "5           L1  2038.8    0.379546  5371.68              L1 5371.68 GB/s\n",
              "6           L2  2038.8    0.673943  3025.18              L2 3025.18 GB/s\n",
              "7         DRAM  2038.8   10.358703   196.82             DRAM 196.82 GB/s"
            ]
          },
          "metadata": {
            "tags": []
          },
          "execution_count": 11
        }
      ]
    },
    {
      "cell_type": "code",
      "metadata": {
        "colab": {
          "base_uri": "https://localhost:8080/"
        },
        "id": "E99jsOFkmnJT",
        "outputId": "9c5666b5-87b5-454f-a304-e709991e5065"
      },
      "source": [
        "# Get config metadata to add to a table next to the plot\n",
        "host_info = gbytes['metadata'][''][4]\n",
        "\n",
        "host_list = host_info.split(\"'\")\n",
        "\n",
        "host_name = host_list[1]\n",
        "print(host_name)\n",
        "flop_info = gbytes['metadata'][''][0]\n",
        "\n",
        "flop_list = flop_info.split(\" \")\n",
        "\n",
        "mem_flops = flop_list[-1]\n",
        "print(mem_flops)\n",
        "omp_info = gbytes['metadata'][''][1]\n",
        "\n",
        "omp_list = omp_info.split(\" \")\n",
        "\n",
        "mem_omp_threads = omp_list[1]\n",
        "print(mem_omp_threads)\n",
        "# Not working yet - trying to load more config data into a table to display next to the plot...\n",
        "# print(type(gbytes['metadata']['']))\n",
        "# config_str = gbytes['metadata'][''][6]\n",
        "# print(config_str[8:])\n",
        "# config = json.loads(config_str[8:])\n",
        "# config\n",
        "# config = [x for x in config if 'CONFIG'.]\n",
        "# Load metadata into a Pandas dataframe\n",
        "# metadata = pd.DataFrame(config, columns=metadata.keys())\n",
        "# metadata.keys()"
      ],
      "execution_count": 12,
      "outputs": [
        {
          "output_type": "stream",
          "text": [
            "apollo.cs.uoregon.edu\n",
            "2\n",
            "40\n"
          ],
          "name": "stdout"
        }
      ]
    },
    {
      "cell_type": "code",
      "metadata": {
        "colab": {
          "base_uri": "https://localhost:8080/"
        },
        "id": "CnFsL_3WRxHy",
        "outputId": "ea21739b-f1d0-4fb3-854c-b77db77f2a27"
      },
      "source": [
        "flop_info = gflops['metadata'][''][1]\n",
        "print(flop_info)\n",
        "flop_list = flop_info.split(\" \")\n",
        "print(flop_list)\n",
        "flops = flop_list[-1]\n",
        "print(flops)\n",
        "omp_info = gflops['metadata'][''][2]\n",
        "print(omp_info)\n",
        "omp_list = omp_info.split(\" \")\n",
        "print(omp_list)\n",
        "omp_threads = omp_list[1]\n",
        "print(omp_threads)"
      ],
      "execution_count": 13,
      "outputs": [
        {
          "output_type": "stream",
          "text": [
            "FLOPS          64\n",
            "['FLOPS', '', '', '', '', '', '', '', '', '', '64']\n",
            "64\n",
            "OPENMP_THREADS 96\n",
            "['OPENMP_THREADS', '96']\n",
            "96\n"
          ],
          "name": "stdout"
        }
      ]
    },
    {
      "cell_type": "code",
      "metadata": {
        "colab": {
          "base_uri": "https://localhost:8080/",
          "height": 204
        },
        "id": "ghr0lJeJQUb_",
        "outputId": "0c600dbf-47c0-4e9a-cda7-380ab5616d78"
      },
      "source": [
        "metadata = [(\"Host\",host_name), (\"Flops\", flops), (\"OpenMP Threads\", omp_threads), (\"Memory Flops\", mem_flops), (\"Memory OpenMP Threads\", mem_omp_threads)]\n",
        "\n",
        "metadata_df = pd.DataFrame(metadata, columns=[\"Config\", \"Value\"])\n",
        "metadata_df"
      ],
      "execution_count": 14,
      "outputs": [
        {
          "output_type": "execute_result",
          "data": {
            "text/html": [
              "<div>\n",
              "<style scoped>\n",
              "    .dataframe tbody tr th:only-of-type {\n",
              "        vertical-align: middle;\n",
              "    }\n",
              "\n",
              "    .dataframe tbody tr th {\n",
              "        vertical-align: top;\n",
              "    }\n",
              "\n",
              "    .dataframe thead th {\n",
              "        text-align: right;\n",
              "    }\n",
              "</style>\n",
              "<table border=\"1\" class=\"dataframe\">\n",
              "  <thead>\n",
              "    <tr style=\"text-align: right;\">\n",
              "      <th></th>\n",
              "      <th>Config</th>\n",
              "      <th>Value</th>\n",
              "    </tr>\n",
              "  </thead>\n",
              "  <tbody>\n",
              "    <tr>\n",
              "      <th>0</th>\n",
              "      <td>Host</td>\n",
              "      <td>apollo.cs.uoregon.edu</td>\n",
              "    </tr>\n",
              "    <tr>\n",
              "      <th>1</th>\n",
              "      <td>Flops</td>\n",
              "      <td>64</td>\n",
              "    </tr>\n",
              "    <tr>\n",
              "      <th>2</th>\n",
              "      <td>OpenMP Threads</td>\n",
              "      <td>96</td>\n",
              "    </tr>\n",
              "    <tr>\n",
              "      <th>3</th>\n",
              "      <td>Memory Flops</td>\n",
              "      <td>2</td>\n",
              "    </tr>\n",
              "    <tr>\n",
              "      <th>4</th>\n",
              "      <td>Memory OpenMP Threads</td>\n",
              "      <td>40</td>\n",
              "    </tr>\n",
              "  </tbody>\n",
              "</table>\n",
              "</div>"
            ],
            "text/plain": [
              "                  Config                  Value\n",
              "0                   Host  apollo.cs.uoregon.edu\n",
              "1                  Flops                     64\n",
              "2         OpenMP Threads                     96\n",
              "3           Memory Flops                      2\n",
              "4  Memory OpenMP Threads                     40"
            ]
          },
          "metadata": {
            "tags": []
          },
          "execution_count": 14
        }
      ]
    },
    {
      "cell_type": "markdown",
      "metadata": {
        "id": "UpvVlhuY8jBs"
      },
      "source": [
        "## plot roofline without application points - using seaborn/matplotlib"
      ]
    },
    {
      "cell_type": "code",
      "metadata": {
        "colab": {
          "base_uri": "https://localhost:8080/",
          "height": 598
        },
        "id": "Zi6QtzwMuEkI",
        "outputId": "447c07f3-5fd1-4f53-9c45-2d7fb42daff6"
      },
      "source": [
        "# calculate the axes scale\n",
        "xmin =   0.01\n",
        "xmax = 100.00\n",
        "ymin = 10 # default\n",
        "ymin = 10 ** int(math.floor(math.log10(g_df['slope'][0]*xmin)))\n",
        "ymax = ymin ** int(math.floor(math.log10(g_df['slope'][0]*10)))\n",
        "\n",
        "#calculate the midpoints for labels\n",
        "xmid = math.sqrt(xmin * xmax)\n",
        "ymid = g_df['slope'][0] * xmid\n",
        "y0gbytes = ymid\n",
        "x0gbytes = y0gbytes/g_df['slope'][0]\n",
        "alpha = 1.065\n",
        "\n",
        "# set some general plot settings\n",
        "fig, (ax,ax2) = plt.subplots(2, 1, gridspec_kw={'height_ratios': [4, 1]})\n",
        "plt.figure(figsize=(24,24))\n",
        "title = \"Empirical Roofline Graph \"\n",
        "#sns.set(rc={'figure.figsize':(12,8)})\n",
        "palette = sns.color_palette( \"Dark2\", int(len(g_df)/2))\n",
        "\n",
        "# plot the lines and peak flop label\n",
        "#ax = fig.add_subplot(121)\n",
        "sns.lineplot(data=g_df, x=\"x\", y=\"y\", hue=\"label\",palette=palette, ax=ax)\n",
        "ax.set(xlabel='FLOPs / Byte', ylabel='GFLOPs / Second')\n",
        "ax.set(xscale=\"log\", yscale=\"log\", xlim=(xmin, xmax), ylim=(ymin,ymax))\n",
        "font_size=14\n",
        "\n",
        "# plot the line label(s)\n",
        "ax.text(x0gbytes, y0gbytes*alpha, g_df['label'][0], size='medium')\n",
        "for index in range(len(gbytes_df.name.unique())):\n",
        "  mem = gbytes_df['name'][index]\n",
        "  (xmax, slope) = max([(gbytes_df['x'][i],gbytes_df['slope'][i]) for i in range(len(gbytes_df['x'])) if gbytes_df['name'][i]==mem])\n",
        "  xmid = math.sqrt(xmin * xmax)\n",
        "  ymid = slope * xmid\n",
        "  y0gbytes = ymid\n",
        "  x0gbytes = y0gbytes/slope\n",
        "  alpha = 1.1\n",
        "  angle = math.degrees(math.atan(slope))/2\n",
        "  ax.text(x0gbytes, y0gbytes*alpha, gbytes_df['label'][index], size='medium', rotation=angle)\n",
        "\n",
        "# add grid lines, title, legend\n",
        "ax.grid(b=True, which='both',)\n",
        "ax.set_title(title, fontsize=20)\n",
        "ax.legend(loc='lower right')\n",
        "#sns.set(font_scale=2.5)\n",
        "\n",
        "bbox=[0, 0, 1, 1]\n",
        "ax2.axis('off')\n",
        "mpl_table = ax2.table(cellText = metadata_df.values, rowLabels = metadata_df.index, bbox=bbox, colLabels=metadata_df.columns, )\n",
        "mpl_table.auto_set_font_size(False)\n",
        "mpl_table.set_fontsize(font_size)\n",
        "\n",
        "fig.tight_layout();\n",
        "\n",
        "# save if desired\n",
        "ax.figure.savefig(\"roofline.svg\")\n",
        "\n",
        "plt.show();"
      ],
      "execution_count": 22,
      "outputs": [
        {
          "output_type": "display_data",
          "data": {
            "image/png": "[encoded data removed]",
            "text/plain": [
              "<Figure size 864x576 with 2 Axes>"
            ]
          },
          "metadata": {
            "tags": []
          }
        },
        {
          "output_type": "display_data",
          "data": {
            "text/plain": [
              "<Figure size 1728x1728 with 0 Axes>"
            ]
          },
          "metadata": {
            "tags": []
          }
        }
      ]
    },
    {
      "cell_type": "markdown",
      "metadata": {
        "id": "Aa67vUukE9pg"
      },
      "source": [
        "## Add application performance points\n",
        " - these can be loaded from a csv (below)"
      ]
    },
    {
      "cell_type": "code",
      "metadata": {
        "colab": {
          "base_uri": "https://localhost:8080/",
          "height": 204
        },
        "id": "7VeJACZRqUcX",
        "outputId": "980b7c7e-b281-4543-804b-982db5bae247"
      },
      "source": [
        "# Add application performance points\n",
        "# points are ai, flop (total across threads), time (s), cycles (max or avg across threads), label\n",
        "point_a = (1.062802, 4.60E+10, 1.290982, 4389488980, \"p2z niter 5  g++ 9\")\n",
        "point_b = (1.062802, 9.20E+10, 2.707726, 8472444802, \"p2z niter 10 g++ 9\")\n",
        " \n",
        "point_c = (1.425086, 6.14E+10, 0.412815, 1183696731, \"p2z niter 5  intel 19\")\n",
        "point_d = (1.396698, 1.23E+11, 0.826246, 2493241479, \"p2z niter 10 intel 19\")\n",
        "point_e = (1.06039, 4.58E+10, 3.053156, 10357917667, \"p2z niter 5  intel 19 scalar\")\n",
        "\n",
        "app_points= [point_a, point_b, point_c, point_d, point_e]\n",
        "\n",
        "app_df = pd.DataFrame(app_points, columns=['Arithmetic Intensity','Total Flops','Time (s)','Cycles','Label'])\n",
        "app_df['Gflops/Sec'] = (app_df['Total Flops']/app_df['Time (s)'])/1000000000\n",
        "app_df\n"
      ],
      "execution_count": 16,
      "outputs": [
        {
          "output_type": "execute_result",
          "data": {
            "text/html": [
              "<div>\n",
              "<style scoped>\n",
              "    .dataframe tbody tr th:only-of-type {\n",
              "        vertical-align: middle;\n",
              "    }\n",
              "\n",
              "    .dataframe tbody tr th {\n",
              "        vertical-align: top;\n",
              "    }\n",
              "\n",
              "    .dataframe thead th {\n",
              "        text-align: right;\n",
              "    }\n",
              "</style>\n",
              "<table border=\"1\" class=\"dataframe\">\n",
              "  <thead>\n",
              "    <tr style=\"text-align: right;\">\n",
              "      <th></th>\n",
              "      <th>arithmetic intensity</th>\n",
              "      <th>total flops</th>\n",
              "      <th>time (s)</th>\n",
              "      <th>cycles</th>\n",
              "      <th>label</th>\n",
              "      <th>gflops/sec</th>\n",
              "    </tr>\n",
              "  </thead>\n",
              "  <tbody>\n",
              "    <tr>\n",
              "      <th>0</th>\n",
              "      <td>1.062802</td>\n",
              "      <td>4.600000e+10</td>\n",
              "      <td>1.290982</td>\n",
              "      <td>4389488980</td>\n",
              "      <td>p2z niter 5  g++ 9</td>\n",
              "      <td>35.631790</td>\n",
              "    </tr>\n",
              "    <tr>\n",
              "      <th>1</th>\n",
              "      <td>1.062802</td>\n",
              "      <td>9.200000e+10</td>\n",
              "      <td>2.707726</td>\n",
              "      <td>8472444802</td>\n",
              "      <td>p2z niter 10 g++ 9</td>\n",
              "      <td>33.976850</td>\n",
              "    </tr>\n",
              "    <tr>\n",
              "      <th>2</th>\n",
              "      <td>1.425086</td>\n",
              "      <td>6.140000e+10</td>\n",
              "      <td>0.412815</td>\n",
              "      <td>1183696731</td>\n",
              "      <td>p2z niter 5  intel 19</td>\n",
              "      <td>148.734905</td>\n",
              "    </tr>\n",
              "    <tr>\n",
              "      <th>3</th>\n",
              "      <td>1.396698</td>\n",
              "      <td>1.230000e+11</td>\n",
              "      <td>0.826246</td>\n",
              "      <td>2493241479</td>\n",
              "      <td>p2z niter 10 intel 19</td>\n",
              "      <td>148.866076</td>\n",
              "    </tr>\n",
              "    <tr>\n",
              "      <th>4</th>\n",
              "      <td>1.060390</td>\n",
              "      <td>4.580000e+10</td>\n",
              "      <td>3.053156</td>\n",
              "      <td>10357917667</td>\n",
              "      <td>p2z niter 5  intel 19 scalar</td>\n",
              "      <td>15.000871</td>\n",
              "    </tr>\n",
              "  </tbody>\n",
              "</table>\n",
              "</div>"
            ],
            "text/plain": [
              "   arithmetic intensity   total flops  ...                         label  gflops/sec\n",
              "0              1.062802  4.600000e+10  ...            p2z niter 5  g++ 9   35.631790\n",
              "1              1.062802  9.200000e+10  ...            p2z niter 10 g++ 9   33.976850\n",
              "2              1.425086  6.140000e+10  ...         p2z niter 5  intel 19  148.734905\n",
              "3              1.396698  1.230000e+11  ...         p2z niter 10 intel 19  148.866076\n",
              "4              1.060390  4.580000e+10  ...  p2z niter 5  intel 19 scalar   15.000871\n",
              "\n",
              "[5 rows x 6 columns]"
            ]
          },
          "metadata": {
            "tags": []
          },
          "execution_count": 16
        }
      ]
    },
    {
      "cell_type": "code",
      "metadata": {
        "colab": {
          "resources": {
            "http://localhost:8080/nbextensions/google.colab/files.js": {
              "data": "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",
              "ok": true,
              "headers": [
                [
                  "content-type",
                  "application/javascript"
                ]
              ],
              "status": 200,
              "status_text": ""
            }
          },
          "base_uri": "https://localhost:8080/",
          "height": 259
        },
        "id": "e3kpwYicHhhf",
        "outputId": "39561822-9574-4369-a307-c23eefe827e6"
      },
      "source": [
        "# GOOGLE COLAB\n",
        "# Load the csv file\n",
        "from google.colab import files\n",
        "uploaded = files.upload()\n",
        "# Load \n",
        "csv_filename = \"app_data.csv\"\n",
        "app_df = pd.read_csv(csv_filename)\n",
        "\n",
        "# JUPYTER NOTEBOOK\n",
        "# csv_filename = \"app_data.csv\"\n",
        "# app_df = pd.read_csv(csv_filename)\n",
        "# data\n",
        "\n",
        "app_df['Gflops/Sec'] = (app_df['Total Flops']/app_df['Time (s)'])/1000000000\n",
        "app_df"
      ],
      "execution_count": 17,
      "outputs": [
        {
          "output_type": "display_data",
          "data": {
            "text/html": [
              "\n",
              "     <input type=\"file\" id=\"files-091c1934-c19d-4f5a-864a-71bb8efe7650\" name=\"files[]\" multiple disabled\n",
              "        style=\"border:none\" />\n",
              "     <output id=\"result-091c1934-c19d-4f5a-864a-71bb8efe7650\">\n",
              "      Upload widget is only available when the cell has been executed in the\n",
              "      current browser session. Please rerun this cell to enable.\n",
              "      </output>\n",
              "      <script src=\"/nbextensions/google.colab/files.js\"></script> "
            ],
            "text/plain": [
              "<IPython.core.display.HTML object>"
            ]
          },
          "metadata": {
            "tags": []
          }
        },
        {
          "output_type": "stream",
          "text": [
            "Saving app_data.csv to app_data (1).csv\n"
          ],
          "name": "stdout"
        },
        {
          "output_type": "execute_result",
          "data": {
            "text/html": [
              "<div>\n",
              "<style scoped>\n",
              "    .dataframe tbody tr th:only-of-type {\n",
              "        vertical-align: middle;\n",
              "    }\n",
              "\n",
              "    .dataframe tbody tr th {\n",
              "        vertical-align: top;\n",
              "    }\n",
              "\n",
              "    .dataframe thead th {\n",
              "        text-align: right;\n",
              "    }\n",
              "</style>\n",
              "<table border=\"1\" class=\"dataframe\">\n",
              "  <thead>\n",
              "    <tr style=\"text-align: right;\">\n",
              "      <th></th>\n",
              "      <th>Arithmetic Intensity</th>\n",
              "      <th>Total Flops</th>\n",
              "      <th>Time (s)</th>\n",
              "      <th>Cycles</th>\n",
              "      <th>Label</th>\n",
              "      <th>Gflops/Sec</th>\n",
              "    </tr>\n",
              "  </thead>\n",
              "  <tbody>\n",
              "    <tr>\n",
              "      <th>0</th>\n",
              "      <td>1.062802</td>\n",
              "      <td>4.600000e+10</td>\n",
              "      <td>1.290982</td>\n",
              "      <td>4389488980</td>\n",
              "      <td>p2z niter 5  g++ 9</td>\n",
              "      <td>35.631790</td>\n",
              "    </tr>\n",
              "    <tr>\n",
              "      <th>1</th>\n",
              "      <td>1.062802</td>\n",
              "      <td>9.200000e+10</td>\n",
              "      <td>2.707726</td>\n",
              "      <td>8472444802</td>\n",
              "      <td>p2z niter 10 g++ 9</td>\n",
              "      <td>33.976850</td>\n",
              "    </tr>\n",
              "    <tr>\n",
              "      <th>2</th>\n",
              "      <td>1.425086</td>\n",
              "      <td>6.140000e+10</td>\n",
              "      <td>0.412815</td>\n",
              "      <td>1183696731</td>\n",
              "      <td>p2z niter 5  intel 19</td>\n",
              "      <td>148.734905</td>\n",
              "    </tr>\n",
              "    <tr>\n",
              "      <th>3</th>\n",
              "      <td>1.396698</td>\n",
              "      <td>1.230000e+11</td>\n",
              "      <td>0.826246</td>\n",
              "      <td>2493241479</td>\n",
              "      <td>p2z niter 10 intel 19</td>\n",
              "      <td>148.866076</td>\n",
              "    </tr>\n",
              "    <tr>\n",
              "      <th>4</th>\n",
              "      <td>1.060390</td>\n",
              "      <td>4.580000e+10</td>\n",
              "      <td>3.053156</td>\n",
              "      <td>10357917667</td>\n",
              "      <td>p2z niter 5  intel 19 scalar</td>\n",
              "      <td>15.000871</td>\n",
              "    </tr>\n",
              "  </tbody>\n",
              "</table>\n",
              "</div>"
            ],
            "text/plain": [
              "   Arithmetic Intensity   Total Flops  ...                         Label  Gflops/Sec\n",
              "0              1.062802  4.600000e+10  ...            p2z niter 5  g++ 9   35.631790\n",
              "1              1.062802  9.200000e+10  ...            p2z niter 10 g++ 9   33.976850\n",
              "2              1.425086  6.140000e+10  ...         p2z niter 5  intel 19  148.734905\n",
              "3              1.396698  1.230000e+11  ...         p2z niter 10 intel 19  148.866076\n",
              "4              1.060390  4.580000e+10  ...  p2z niter 5  intel 19 scalar   15.000871\n",
              "\n",
              "[5 rows x 6 columns]"
            ]
          },
          "metadata": {
            "tags": []
          },
          "execution_count": 17
        }
      ]
    },
    {
      "cell_type": "code",
      "metadata": {
        "colab": {
          "base_uri": "https://localhost:8080/",
          "height": 526
        },
        "id": "Q3tXm2jVJLKn",
        "outputId": "9eb2475b-9ab2-4eb4-bd52-14f51617824c"
      },
      "source": [
        "# calculate the axes scale\n",
        "xmin =   0.01\n",
        "xmax = 100.00\n",
        "ymin = 10 # default - change this?\n",
        "ymin = 10 ** int(math.floor(math.log10(g_df['slope'][0]*xmin)))\n",
        "ymax = ymin ** int(math.floor(math.log10(g_df['slope'][0]*10)))\n",
        "\n",
        "#calculate the midpoints for labels\n",
        "xmid = math.sqrt(xmin * xmax)\n",
        "ymid = g_df['slope'][0] * xmid\n",
        "y0gbytes = ymid\n",
        "x0gbytes = y0gbytes/g_df['slope'][0]\n",
        "alpha = 1.065\n",
        "\n",
        "# general plot settings\n",
        "title = \"Empirical Roofline Graph \"\n",
        "sns.set(rc={'figure.figsize':(12,8)})\n",
        "palette = sns.color_palette( \"Dark2\", int(len(g_df)/2))\n",
        "\n",
        "# plot the lines\n",
        "ax = sns.lineplot(data=g_df, x=\"x\", y=\"y\", hue=\"label\",palette=palette)\n",
        "ax.set(xlabel='FLOPs / Byte', ylabel='GFLOPs / Second')\n",
        "ax.set(xscale=\"log\", yscale=\"log\", xlim=(xmin, xmax), ylim=(ymin,ymax))\n",
        "\n",
        "# plot the line label(s)\n",
        "ax.text(x0gbytes, y0gbytes*alpha, g_df['label'][0], size='medium')\n",
        "for index in range(len(gbytes_df.name.unique())):\n",
        "  mem = gbytes_df['name'][index]\n",
        "  (xmax, slope) = max([(gbytes_df['x'][i],gbytes_df['slope'][i]) for i in range(len(gbytes_df['x'])) if gbytes_df['name'][i]==mem])\n",
        "  xmid = math.sqrt(xmin * xmax)\n",
        "  ymid = slope * xmid\n",
        "  y0gbytes = ymid\n",
        "  x0gbytes = y0gbytes/slope\n",
        "  alpha = 1.1\n",
        "  #angle = math.degrees(math.atan(slope))/2\n",
        "  ax.text(x0gbytes, y0gbytes*alpha, gbytes_df['label'][index], size='medium', rotation=45)\n",
        "\n",
        "# plot the application information\n",
        "ax = sns.scatterplot(x=app_df['Arithmetic Intensity'], y=app_df['Gflops/Sec'], style=app_df['Label'], hue=app_df['Label'])\n",
        "\n",
        "ax.grid(b=True, which='both',)\n",
        "ax.set_title(title, size='large')\n",
        "ax.legend(loc=\"lower right\")\n",
        "\n",
        "# save if desired\n",
        "ax.figure.savefig(\"roofline.svg\")\n",
        "plt.show()"
      ],
      "execution_count": 18,
      "outputs": [
        {
          "output_type": "display_data",
          "data": {
            "image/png": "[encoded data removed]",
            "text/plain": [
              "<Figure size 864x576 with 1 Axes>"
            ]
          },
          "metadata": {
            "tags": []
          }
        }
      ]
    },
    {
      "cell_type": "markdown",
      "metadata": {
        "id": "mqscaFybfupc"
      },
      "source": [
        "### Plotly Version (Work in Progress)"
      ]
    },
    {
      "cell_type": "code",
      "metadata": {
        "colab": {
          "base_uri": "https://localhost:8080/",
          "height": 837
        },
        "id": "NZryeHPZZEDt",
        "outputId": "608816c6-79fe-4437-f23f-bcee31f80f71"
      },
      "source": [
        "# plot! plotly version\n",
        "fig = go.Figure()\n",
        "elements = g_df['name'].unique()\n",
        "fig.update_xaxes(type=\"log\", range=[-1,2]) \n",
        "fig.update_yaxes(type=\"log\", range=[1,4])\n",
        "# Create traces\n",
        "for cur_name in elements:\n",
        "  index = (g_df[g_df['name']==cur_name].index.values)[0]\n",
        "  x_vals = [g_df['x'][i] for i in range(g_df.shape[0]) if g_df['name'][i] == cur_name]\n",
        "  y_vals = [g_df['y'][i] for i in range(g_df.shape[0]) if g_df['name'][i] == cur_name]\n",
        "  fig.add_trace(go.Scatter(x=x_vals, y=y_vals,\n",
        "                      mode=\"lines\",\n",
        "                      name=g_df['label'][index]\n",
        "                      ))\n",
        "  slope = g_df['slope'][index]\n",
        "  # get the mid-ish point to add the label\n",
        "  #calculate the midpoints for labels\n",
        "  xmid = math.sqrt(xmin * xmax)\n",
        "  ymid = slope * xmid\n",
        "  y0gbytes = ymid\n",
        "  x0gbytes = y0gbytes/slope\n",
        "  fig.add_annotation(text=cur_name+str(slope),\n",
        "                  xref=\"paper\", yref=\"paper\",\n",
        "                  x=x0gbytes, y=y0gbytes, showarrow=False,\n",
        "                  textangle=-45)\n",
        "fig.update_layout(\n",
        "    autosize=False,\n",
        "    width=1200,\n",
        "    height=800,\n",
        "    title=\"Empirical Roofline Graph\",\n",
        "    xaxis_title=\"FLOPs / Byte\",\n",
        "    yaxis_title=\"GFLOPs / Second\"\n",
        ")\n",
        "\n",
        "\n",
        "fig.show()"
      ],
      "execution_count": 19,
      "outputs": [
        {
          "output_type": "display_data",
          "data": {
            "text/html": [
              "<html>\n",
              "<head><meta charset=\"utf-8\" /></head>\n",
              "<body>\n",
              "    <div>\n",
              "            <script src=\"https://cdnjs.cloudflare.com/ajax/libs/mathjax/2.7.5/MathJax.js?config=TeX-AMS-MML_SVG\"></script><script type=\"text/javascript\">if (window.MathJax) {MathJax.Hub.Config({SVG: {font: \"STIX-Web\"}});}</script>\n",
              "                <script type=\"text/javascript\">window.PlotlyConfig = {MathJaxConfig: 'local'};</script>\n",
              "        <script src=\"https://cdn.plot.ly/plotly-latest.min.js\"></script>    \n",
              "            <div id=\"0f7379d7-3b98-4e9b-b991-ae2b936eb7c5\" class=\"plotly-graph-div\" style=\"height:800px; width:1200px;\"></div>\n",
              "            <script type=\"text/javascript\">\n",
              "                \n",
              "                    window.PLOTLYENV=window.PLOTLYENV || {};\n",
              "                    \n",
              "                if (document.getElementById(\"0f7379d7-3b98-4e9b-b991-ae2b936eb7c5\")) {\n",
              "                    Plotly.newPlot(\n",
              "                        '0f7379d7-3b98-4e9b-b991-ae2b936eb7c5',\n",
              "                        [{\"mode\": \"lines\", \"name\": \"FP64 GFLOPs 2038.8 GFLOPs/s\", \"type\": \"scatter\", \"x\": [100.0, 0.3795460638012689], \"y\": [2038.8, 2038.8]}, {\"mode\": \"lines\", \"name\": \"L1 5371.68 GB/s\", \"type\": \"scatter\", \"x\": [0.0, 0.3795460638012689], \"y\": [0.0, 2038.8]}, {\"mode\": \"lines\", \"name\": \"L2 3025.18 GB/s\", \"type\": \"scatter\", \"x\": [0.0, 0.673943368659055], \"y\": [0.0, 2038.8]}, {\"mode\": \"lines\", \"name\": \"DRAM 196.82 GB/s\", \"type\": \"scatter\", \"x\": [0.0, 10.358703383802458], \"y\": [0.0, 2038.8]}],\n",
              "                        {\"annotations\": [{\"showarrow\": false, \"text\": \"FP64 GFLOPs2038.8\", \"textangle\": -45, \"x\": 0.3218493962057791, \"xref\": \"paper\", \"y\": 656.1865489843425, \"yref\": \"paper\"}, {\"showarrow\": false, \"text\": \"L15371.68\", \"textangle\": -45, \"x\": 0.3218493962057791, \"xref\": \"paper\", \"y\": 1728.8719646106597, \"yref\": \"paper\"}, {\"showarrow\": false, \"text\": \"L23025.18\", \"textangle\": -45, \"x\": 0.3218493962057791, \"xref\": \"paper\", \"y\": 973.6523564137989, \"yref\": \"paper\"}, {\"showarrow\": false, \"text\": \"DRAM196.82\", \"textangle\": -45, \"x\": 0.3218493962057791, \"xref\": \"paper\", \"y\": 63.346398161221444, \"yref\": \"paper\"}], \"autosize\": false, \"height\": 800, \"template\": {\"data\": {\"bar\": [{\"error_x\": {\"color\": \"#2a3f5f\"}, \"error_y\": {\"color\": \"#2a3f5f\"}, \"marker\": {\"line\": {\"color\": \"#E5ECF6\", \"width\": 0.5}}, \"type\": \"bar\"}], \"barpolar\": [{\"marker\": {\"line\": {\"color\": \"#E5ECF6\", \"width\": 0.5}}, \"type\": \"barpolar\"}], \"carpet\": [{\"aaxis\": {\"endlinecolor\": \"#2a3f5f\", \"gridcolor\": \"white\", \"linecolor\": \"white\", \"minorgridcolor\": \"white\", \"startlinecolor\": \"#2a3f5f\"}, \"baxis\": {\"endlinecolor\": \"#2a3f5f\", \"gridcolor\": \"white\", \"linecolor\": \"white\", \"minorgridcolor\": \"white\", \"startlinecolor\": \"#2a3f5f\"}, \"type\": \"carpet\"}], \"choropleth\": [{\"colorbar\": {\"outlinewidth\": 0, \"ticks\": \"\"}, \"type\": \"choropleth\"}], \"contour\": [{\"colorbar\": {\"outlinewidth\": 0, \"ticks\": \"\"}, \"colorscale\": [[0.0, \"#0d0887\"], [0.1111111111111111, \"#46039f\"], [0.2222222222222222, \"#7201a8\"], [0.3333333333333333, \"#9c179e\"], [0.4444444444444444, \"#bd3786\"], [0.5555555555555556, \"#d8576b\"], [0.6666666666666666, \"#ed7953\"], [0.7777777777777778, \"#fb9f3a\"], [0.8888888888888888, \"#fdca26\"], [1.0, \"#f0f921\"]], \"type\": \"contour\"}], \"contourcarpet\": [{\"colorbar\": {\"outlinewidth\": 0, \"ticks\": \"\"}, \"type\": \"contourcarpet\"}], \"heatmap\": [{\"colorbar\": {\"outlinewidth\": 0, \"ticks\": \"\"}, \"colorscale\": [[0.0, \"#0d0887\"], [0.1111111111111111, \"#46039f\"], [0.2222222222222222, \"#7201a8\"], [0.3333333333333333, \"#9c179e\"], [0.4444444444444444, \"#bd3786\"], [0.5555555555555556, \"#d8576b\"], [0.6666666666666666, \"#ed7953\"], [0.7777777777777778, \"#fb9f3a\"], [0.8888888888888888, \"#fdca26\"], [1.0, \"#f0f921\"]], \"type\": \"heatmap\"}], \"heatmapgl\": [{\"colorbar\": {\"outlinewidth\": 0, \"ticks\": \"\"}, \"colorscale\": [[0.0, \"#0d0887\"], [0.1111111111111111, \"#46039f\"], [0.2222222222222222, \"#7201a8\"], [0.3333333333333333, \"#9c179e\"], [0.4444444444444444, \"#bd3786\"], [0.5555555555555556, \"#d8576b\"], [0.6666666666666666, \"#ed7953\"], [0.7777777777777778, \"#fb9f3a\"], [0.8888888888888888, \"#fdca26\"], [1.0, \"#f0f921\"]], \"type\": \"heatmapgl\"}], \"histogram\": [{\"marker\": {\"colorbar\": {\"outlinewidth\": 0, \"ticks\": \"\"}}, \"type\": \"histogram\"}], \"histogram2d\": [{\"colorbar\": {\"outlinewidth\": 0, \"ticks\": \"\"}, \"colorscale\": [[0.0, \"#0d0887\"], [0.1111111111111111, \"#46039f\"], [0.2222222222222222, \"#7201a8\"], [0.3333333333333333, \"#9c179e\"], [0.4444444444444444, \"#bd3786\"], [0.5555555555555556, \"#d8576b\"], [0.6666666666666666, \"#ed7953\"], [0.7777777777777778, \"#fb9f3a\"], [0.8888888888888888, \"#fdca26\"], [1.0, \"#f0f921\"]], \"type\": \"histogram2d\"}], \"histogram2dcontour\": [{\"colorbar\": {\"outlinewidth\": 0, \"ticks\": \"\"}, \"colorscale\": [[0.0, \"#0d0887\"], [0.1111111111111111, \"#46039f\"], [0.2222222222222222, \"#7201a8\"], [0.3333333333333333, \"#9c179e\"], [0.4444444444444444, \"#bd3786\"], [0.5555555555555556, \"#d8576b\"], [0.6666666666666666, \"#ed7953\"], [0.7777777777777778, \"#fb9f3a\"], [0.8888888888888888, \"#fdca26\"], [1.0, \"#f0f921\"]], \"type\": \"histogram2dcontour\"}], \"mesh3d\": [{\"colorbar\": {\"outlinewidth\": 0, \"ticks\": \"\"}, \"type\": \"mesh3d\"}], \"parcoords\": [{\"line\": {\"colorbar\": {\"outlinewidth\": 0, \"ticks\": \"\"}}, \"type\": \"parcoords\"}], \"pie\": [{\"automargin\": true, \"type\": \"pie\"}], \"scatter\": [{\"marker\": {\"colorbar\": {\"outlinewidth\": 0, \"ticks\": \"\"}}, \"type\": \"scatter\"}], \"scatter3d\": [{\"line\": {\"colorbar\": {\"outlinewidth\": 0, \"ticks\": \"\"}}, \"marker\": {\"colorbar\": {\"outlinewidth\": 0, \"ticks\": \"\"}}, \"type\": \"scatter3d\"}], \"scattercarpet\": [{\"marker\": {\"colorbar\": {\"outlinewidth\": 0, \"ticks\": \"\"}}, \"type\": \"scattercarpet\"}], \"scattergeo\": [{\"marker\": {\"colorbar\": {\"outlinewidth\": 0, \"ticks\": \"\"}}, \"type\": \"scattergeo\"}], \"scattergl\": [{\"marker\": {\"colorbar\": {\"outlinewidth\": 0, \"ticks\": \"\"}}, \"type\": \"scattergl\"}], \"scattermapbox\": [{\"marker\": {\"colorbar\": {\"outlinewidth\": 0, \"ticks\": \"\"}}, \"type\": \"scattermapbox\"}], \"scatterpolar\": [{\"marker\": {\"colorbar\": {\"outlinewidth\": 0, \"ticks\": \"\"}}, \"type\": \"scatterpolar\"}], \"scatterpolargl\": [{\"marker\": {\"colorbar\": {\"outlinewidth\": 0, \"ticks\": \"\"}}, \"type\": \"scatterpolargl\"}], \"scatterternary\": [{\"marker\": {\"colorbar\": {\"outlinewidth\": 0, \"ticks\": \"\"}}, \"type\": \"scatterternary\"}], \"surface\": [{\"colorbar\": {\"outlinewidth\": 0, \"ticks\": \"\"}, \"colorscale\": [[0.0, \"#0d0887\"], [0.1111111111111111, \"#46039f\"], [0.2222222222222222, \"#7201a8\"], [0.3333333333333333, \"#9c179e\"], [0.4444444444444444, \"#bd3786\"], [0.5555555555555556, \"#d8576b\"], [0.6666666666666666, \"#ed7953\"], [0.7777777777777778, \"#fb9f3a\"], [0.8888888888888888, \"#fdca26\"], [1.0, \"#f0f921\"]], \"type\": \"surface\"}], \"table\": [{\"cells\": {\"fill\": {\"color\": \"#EBF0F8\"}, \"line\": {\"color\": \"white\"}}, \"header\": {\"fill\": {\"color\": \"#C8D4E3\"}, \"line\": {\"color\": \"white\"}}, \"type\": \"table\"}]}, \"layout\": {\"annotationdefaults\": {\"arrowcolor\": \"#2a3f5f\", \"arrowhead\": 0, \"arrowwidth\": 1}, \"coloraxis\": {\"colorbar\": {\"outlinewidth\": 0, \"ticks\": \"\"}}, \"colorscale\": {\"diverging\": [[0, \"#8e0152\"], [0.1, \"#c51b7d\"], [0.2, \"#de77ae\"], [0.3, \"#f1b6da\"], [0.4, \"#fde0ef\"], [0.5, \"#f7f7f7\"], [0.6, \"#e6f5d0\"], [0.7, \"#b8e186\"], [0.8, \"#7fbc41\"], [0.9, \"#4d9221\"], [1, \"#276419\"]], \"sequential\": [[0.0, \"#0d0887\"], [0.1111111111111111, \"#46039f\"], [0.2222222222222222, \"#7201a8\"], [0.3333333333333333, \"#9c179e\"], [0.4444444444444444, \"#bd3786\"], [0.5555555555555556, \"#d8576b\"], [0.6666666666666666, \"#ed7953\"], [0.7777777777777778, \"#fb9f3a\"], [0.8888888888888888, \"#fdca26\"], [1.0, \"#f0f921\"]], \"sequentialminus\": [[0.0, \"#0d0887\"], [0.1111111111111111, \"#46039f\"], [0.2222222222222222, \"#7201a8\"], [0.3333333333333333, \"#9c179e\"], [0.4444444444444444, \"#bd3786\"], [0.5555555555555556, \"#d8576b\"], [0.6666666666666666, \"#ed7953\"], [0.7777777777777778, \"#fb9f3a\"], [0.8888888888888888, \"#fdca26\"], [1.0, \"#f0f921\"]]}, \"colorway\": [\"#636efa\", \"#EF553B\", \"#00cc96\", \"#ab63fa\", \"#FFA15A\", \"#19d3f3\", \"#FF6692\", \"#B6E880\", \"#FF97FF\", \"#FECB52\"], \"font\": {\"color\": \"#2a3f5f\"}, \"geo\": {\"bgcolor\": \"white\", \"lakecolor\": \"white\", \"landcolor\": \"#E5ECF6\", \"showlakes\": true, \"showland\": true, \"subunitcolor\": \"white\"}, \"hoverlabel\": {\"align\": \"left\"}, \"hovermode\": \"closest\", \"mapbox\": {\"style\": \"light\"}, \"paper_bgcolor\": \"white\", \"plot_bgcolor\": \"#E5ECF6\", \"polar\": {\"angularaxis\": {\"gridcolor\": \"white\", \"linecolor\": \"white\", \"ticks\": \"\"}, \"bgcolor\": \"#E5ECF6\", \"radialaxis\": {\"gridcolor\": \"white\", \"linecolor\": \"white\", \"ticks\": \"\"}}, \"scene\": {\"xaxis\": {\"backgroundcolor\": \"#E5ECF6\", \"gridcolor\": \"white\", \"gridwidth\": 2, \"linecolor\": \"white\", \"showbackground\": true, \"ticks\": \"\", \"zerolinecolor\": \"white\"}, \"yaxis\": {\"backgroundcolor\": \"#E5ECF6\", \"gridcolor\": \"white\", \"gridwidth\": 2, \"linecolor\": \"white\", \"showbackground\": true, \"ticks\": \"\", \"zerolinecolor\": \"white\"}, \"zaxis\": {\"backgroundcolor\": \"#E5ECF6\", \"gridcolor\": \"white\", \"gridwidth\": 2, \"linecolor\": \"white\", \"showbackground\": true, \"ticks\": \"\", \"zerolinecolor\": \"white\"}}, \"shapedefaults\": {\"line\": {\"color\": \"#2a3f5f\"}}, \"ternary\": {\"aaxis\": {\"gridcolor\": \"white\", \"linecolor\": \"white\", \"ticks\": \"\"}, \"baxis\": {\"gridcolor\": \"white\", \"linecolor\": \"white\", \"ticks\": \"\"}, \"bgcolor\": \"#E5ECF6\", \"caxis\": {\"gridcolor\": \"white\", \"linecolor\": \"white\", \"ticks\": \"\"}}, \"title\": {\"x\": 0.05}, \"xaxis\": {\"automargin\": true, \"gridcolor\": \"white\", \"linecolor\": \"white\", \"ticks\": \"\", \"title\": {\"standoff\": 15}, \"zerolinecolor\": \"white\", \"zerolinewidth\": 2}, \"yaxis\": {\"automargin\": true, \"gridcolor\": \"white\", \"linecolor\": \"white\", \"ticks\": \"\", \"title\": {\"standoff\": 15}, \"zerolinecolor\": \"white\", \"zerolinewidth\": 2}}}, \"title\": {\"text\": \"Empirical Roofline Graph\"}, \"width\": 1200, \"xaxis\": {\"range\": [-1, 2], \"title\": {\"text\": \"FLOPs / Byte\"}, \"type\": \"log\"}, \"yaxis\": {\"range\": [1, 4], \"title\": {\"text\": \"GFLOPs / Second\"}, \"type\": \"log\"}},\n",
              "                        {\"responsive\": true}\n",
              "                    ).then(function(){\n",
              "                            \n",
              "var gd = document.getElementById('0f7379d7-3b98-4e9b-b991-ae2b936eb7c5');\n",
              "var x = new MutationObserver(function (mutations, observer) {{\n",
              "        var display = window.getComputedStyle(gd).display;\n",
              "        if (!display || display === 'none') {{\n",
              "            console.log([gd, 'removed!']);\n",
              "            Plotly.purge(gd);\n",
              "            observer.disconnect();\n",
              "        }}\n",
              "}});\n",
              "\n",
              "// Listen for the removal of the full notebook cells\n",
              "var notebookContainer = gd.closest('#notebook-container');\n",
              "if (notebookContainer) {{\n",
              "    x.observe(notebookContainer, {childList: true});\n",
              "}}\n",
              "\n",
              "// Listen for the clearing of the current output cell\n",
              "var outputEl = gd.closest('.output');\n",
              "if (outputEl) {{\n",
              "    x.observe(outputEl, {childList: true});\n",
              "}}\n",
              "\n",
              "                        })\n",
              "                };\n",
              "                \n",
              "            </script>\n",
              "        </div>\n",
              "</body>\n",
              "</html>"
            ]
          },
          "metadata": {
            "tags": []
          }
        }
      ]
    }
  ]
}