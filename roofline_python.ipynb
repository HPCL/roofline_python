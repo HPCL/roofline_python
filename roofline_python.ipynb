{
 "cells": [
  {
   "cell_type": "markdown",
   "metadata": {
    "colab_type": "text",
    "id": "view-in-github"
   },
   "source": [
    "<a href=\"https://colab.research.google.com/github/HPCL/roofline_python/blob/main/roofline_python.ipynb\" target=\"_parent\"><img src=\"https://colab.research.google.com/assets/colab-badge.svg\" alt=\"Open In Colab\"/></a>"
   ]
  },
  {
   "cell_type": "code",
   "execution_count": 23,
   "metadata": {
    "id": "-w3_yCQ2Rtxm"
   },
   "outputs": [],
   "source": [
    "import io\n",
    "import json\n",
    "import pandas as pd\n",
    "import matplotlib.pyplot as plt\n",
    "import seaborn as sns\n",
    "import numpy as np\n",
    "import math\n",
    "import plotly.graph_objects as go"
   ]
  },
  {
   "cell_type": "markdown",
   "metadata": {
    "id": "YIPJ80JK5eOI"
   },
   "source": [
    "## google colab users: you can run the next code cell (and comment out the jupyter code cell that is after)\n",
    "## jupyter notebook users do the opposite\n",
    "\n",
    "### change the file name to upload the json file that you want.\n"
   ]
  },
  {
   "cell_type": "code",
   "execution_count": 24,
   "metadata": {
    "colab": {
     "base_uri": "https://localhost:8080/",
     "height": 619,
     "resources": {
      "http://localhost:8080/nbextensions/google.colab/files.js": {
       "data": "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",
       "headers": [
        [
         "content-type",
         "application/javascript"
        ]
       ],
       "ok": true,
       "status": 200,
       "status_text": ""
      }
     }
    },
    "id": "FCYlmyCUS2bm",
    "outputId": "73090afc-b20f-4a33-fc7b-2c2c034ce5d7"
   },
   "outputs": [],
   "source": [
    "# GOOGLE COLAB\n",
    "# Load the json file\n",
    "#from google.colab import files\n",
    "#uploaded = files.upload()\n",
    "\n",
    "# Load \n",
    "#filename = \"roofline.json\"\n",
    "#data = json.loads(uploaded[filename].decode(\"utf-8\"))\n",
    "#data"
   ]
  },
  {
   "cell_type": "code",
   "execution_count": 25,
   "metadata": {
    "id": "C637tDJ_2Rxh"
   },
   "outputs": [
    {
     "data": {
      "text/plain": [
       "{'empirical': {'metadata': {},\n",
       "  'gflops': {'data': [['FP64 GFLOPs', 2772.78]],\n",
       "   'metadata': {'': ['META_DATA',\n",
       "     'FLOPS          64',\n",
       "     'OPENMP_THREADS 80',\n",
       "     'ERT_VERSION  1.1.0',\n",
       "     \"HOSTNAME  ('apollo.cs.uoregon.edu', [], ['128.223.8.36'])\",\n",
       "     \"UNAME  uname_result(system='Linux', node='apollo', release='5.3.0-70-generic', version='#66-Ubuntu SMP Fri Jan 29 21:31:57 UTC 2021', machine='x86_64', processor='x86_64')\",\n",
       "     'TIMESTAMP_DATA  1619038298.9375675',\n",
       "     \"CONFIG  {'ERT_RESULTS': ['Results.apollo.skylake_gold'], 'ERT_DRIVER': ['driver1'], 'ERT_KERNEL': ['kernel1'], 'ERT_MPI': ['False'], 'ERT_MPI_CFLAGS': [], 'ERT_MPI_LDFLAGS': [], 'ERT_OPENMP': ['True'], 'ERT_OPENMP_CFLAGS': ['-fopenmp'], 'ERT_OPENMP_LDFLAGS': ['-fopenmp'], 'ERT_FLOPS': ['1,2,4,8,16,32,64,128'], 'ERT_ALIGN': ['32'], 'ERT_CC': ['icpc'], 'ERT_CFLAGS': ['-O3', '-march=skylake-avx512', '-qopt-zmm-usage=high'], 'ERT_LD': ['icpc'], 'ERT_LDFLAGS': [], 'ERT_LDLIBS': [], 'ERT_PRECISION': ['FP64'], 'ERT_RUN': ['export', 'OMP_ORC_BIND=close;', 'export', 'OMP_PLACES=sockets;', './ERT_CODE'], 'ERT_PROCS_THREADS': ['112'], 'ERT_OPENMP_THREADS': ['18,20,38,40,78,80'], 'ERT_NUM_EXPERIMENTS': ['5'], 'ERT_MEMORY_MAX': ['2147482548'], 'ERT_WORKING_SET_MIN': ['1'], 'ERT_TRIALS_MIN': ['1'], 'ERT_GNUPLOT': ['gnuplot'], 'ERT_GPU': [False], 'ERT_HIP': [False], 'ERT_OCL': [False], 'ERT_SYCL': [False], 'ERT_WSS_MULT': [1.1]}\",\n",
       "     'TIMESTAMP_DATA  1619038305.7113626',\n",
       "     'TIMESTAMP_DATA  1619038312.447366',\n",
       "     'TIMESTAMP_DATA  1619038319.1575305',\n",
       "     'TIMESTAMP_DATA  1619038325.916049'],\n",
       "    'TIMESTAMP_DB': 1619038621.4781697}},\n",
       "  'gbytes': {'data': [['L1', 8259.44], ['L2', 3120.85], ['DRAM', 200.3]],\n",
       "   'metadata': {'': ['FLOPS          4',\n",
       "     'OPENMP_THREADS 80',\n",
       "     'ERT_VERSION  1.1.0',\n",
       "     \"HOSTNAME  ('apollo.cs.uoregon.edu', [], ['128.223.8.36'])\",\n",
       "     \"UNAME  uname_result(system='Linux', node='apollo', release='5.3.0-70-generic', version='#66-Ubuntu SMP Fri Jan 29 21:31:57 UTC 2021', machine='x86_64', processor='x86_64')\",\n",
       "     'TIMESTAMP_DATA  1619037592.3827763',\n",
       "     \"CONFIG  {'ERT_RESULTS': ['Results.apollo.skylake_gold'], 'ERT_DRIVER': ['driver1'], 'ERT_KERNEL': ['kernel1'], 'ERT_MPI': ['False'], 'ERT_MPI_CFLAGS': [], 'ERT_MPI_LDFLAGS': [], 'ERT_OPENMP': ['True'], 'ERT_OPENMP_CFLAGS': ['-fopenmp'], 'ERT_OPENMP_LDFLAGS': ['-fopenmp'], 'ERT_FLOPS': ['1,2,4,8,16,32,64,128'], 'ERT_ALIGN': ['32'], 'ERT_CC': ['icpc'], 'ERT_CFLAGS': ['-O3', '-march=skylake-avx512', '-qopt-zmm-usage=high'], 'ERT_LD': ['icpc'], 'ERT_LDFLAGS': [], 'ERT_LDLIBS': [], 'ERT_PRECISION': ['FP64'], 'ERT_RUN': ['export', 'OMP_ORC_BIND=close;', 'export', 'OMP_PLACES=sockets;', './ERT_CODE'], 'ERT_PROCS_THREADS': ['112'], 'ERT_OPENMP_THREADS': ['18,20,38,40,78,80'], 'ERT_NUM_EXPERIMENTS': ['5'], 'ERT_MEMORY_MAX': ['2147482548'], 'ERT_WORKING_SET_MIN': ['1'], 'ERT_TRIALS_MIN': ['1'], 'ERT_GNUPLOT': ['gnuplot'], 'ERT_GPU': [False], 'ERT_HIP': [False], 'ERT_OCL': [False], 'ERT_SYCL': [False], 'ERT_WSS_MULT': [1.1]}\",\n",
       "     'TIMESTAMP_DATA  1619037597.3764522',\n",
       "     'TIMESTAMP_DATA  1619037602.4575253',\n",
       "     'TIMESTAMP_DATA  1619037607.320476',\n",
       "     'TIMESTAMP_DATA  1619037612.2389545'],\n",
       "    'TIMESTAMP_DB': 1619038621.4782283}}},\n",
       " 'spec': {'gflops': {'data': []}, 'gbytes': {'data': []}}}"
      ]
     },
     "execution_count": 25,
     "metadata": {},
     "output_type": "execute_result"
    }
   ],
   "source": [
    "# JUPYTER NOTEBOOK\n",
    "#filename = \"roofline_a64_DP.json\"\n",
    "filename = \"roofline.json\"\n",
    "with open(filename) as file:\n",
    "    data = json.load(file)\n",
    "data"
   ]
  },
  {
   "cell_type": "markdown",
   "metadata": {
    "id": "picddnf2UUiF"
   },
   "source": [
    "## Run all below to automatically decode json and create a roofline plot."
   ]
  },
  {
   "cell_type": "code",
   "execution_count": 26,
   "metadata": {
    "colab": {
     "base_uri": "https://localhost:8080/"
    },
    "id": "DCawuAKNZrQk",
    "outputId": "ff39e7ae-096c-4408-9537-6628c68cecdc"
   },
   "outputs": [
    {
     "data": {
      "text/plain": [
       "{'data': [['L1', 8259.44], ['L2', 3120.85], ['DRAM', 200.3]],\n",
       " 'metadata': {'': ['FLOPS          4',\n",
       "   'OPENMP_THREADS 80',\n",
       "   'ERT_VERSION  1.1.0',\n",
       "   \"HOSTNAME  ('apollo.cs.uoregon.edu', [], ['128.223.8.36'])\",\n",
       "   \"UNAME  uname_result(system='Linux', node='apollo', release='5.3.0-70-generic', version='#66-Ubuntu SMP Fri Jan 29 21:31:57 UTC 2021', machine='x86_64', processor='x86_64')\",\n",
       "   'TIMESTAMP_DATA  1619037592.3827763',\n",
       "   \"CONFIG  {'ERT_RESULTS': ['Results.apollo.skylake_gold'], 'ERT_DRIVER': ['driver1'], 'ERT_KERNEL': ['kernel1'], 'ERT_MPI': ['False'], 'ERT_MPI_CFLAGS': [], 'ERT_MPI_LDFLAGS': [], 'ERT_OPENMP': ['True'], 'ERT_OPENMP_CFLAGS': ['-fopenmp'], 'ERT_OPENMP_LDFLAGS': ['-fopenmp'], 'ERT_FLOPS': ['1,2,4,8,16,32,64,128'], 'ERT_ALIGN': ['32'], 'ERT_CC': ['icpc'], 'ERT_CFLAGS': ['-O3', '-march=skylake-avx512', '-qopt-zmm-usage=high'], 'ERT_LD': ['icpc'], 'ERT_LDFLAGS': [], 'ERT_LDLIBS': [], 'ERT_PRECISION': ['FP64'], 'ERT_RUN': ['export', 'OMP_ORC_BIND=close;', 'export', 'OMP_PLACES=sockets;', './ERT_CODE'], 'ERT_PROCS_THREADS': ['112'], 'ERT_OPENMP_THREADS': ['18,20,38,40,78,80'], 'ERT_NUM_EXPERIMENTS': ['5'], 'ERT_MEMORY_MAX': ['2147482548'], 'ERT_WORKING_SET_MIN': ['1'], 'ERT_TRIALS_MIN': ['1'], 'ERT_GNUPLOT': ['gnuplot'], 'ERT_GPU': [False], 'ERT_HIP': [False], 'ERT_OCL': [False], 'ERT_SYCL': [False], 'ERT_WSS_MULT': [1.1]}\",\n",
       "   'TIMESTAMP_DATA  1619037597.3764522',\n",
       "   'TIMESTAMP_DATA  1619037602.4575253',\n",
       "   'TIMESTAMP_DATA  1619037607.320476',\n",
       "   'TIMESTAMP_DATA  1619037612.2389545'],\n",
       "  'TIMESTAMP_DB': 1619038621.4782283}}"
      ]
     },
     "execution_count": 26,
     "metadata": {},
     "output_type": "execute_result"
    }
   ],
   "source": [
    "# Parse the gbytes section\n",
    "gbytes = data['empirical']['gbytes']\n",
    "gbytes"
   ]
  },
  {
   "cell_type": "code",
   "execution_count": 27,
   "metadata": {
    "colab": {
     "base_uri": "https://localhost:8080/",
     "height": 142
    },
    "id": "e6rnhZJaocTn",
    "outputId": "48e882d7-caa2-4d42-bfb0-98aa39441200"
   },
   "outputs": [
    {
     "data": {
      "text/html": [
       "<div>\n",
       "<style scoped>\n",
       "    .dataframe tbody tr th:only-of-type {\n",
       "        vertical-align: middle;\n",
       "    }\n",
       "\n",
       "    .dataframe tbody tr th {\n",
       "        vertical-align: top;\n",
       "    }\n",
       "\n",
       "    .dataframe thead th {\n",
       "        text-align: right;\n",
       "    }\n",
       "</style>\n",
       "<table border=\"1\" class=\"dataframe\">\n",
       "  <thead>\n",
       "    <tr style=\"text-align: right;\">\n",
       "      <th></th>\n",
       "      <th>name</th>\n",
       "      <th>slope</th>\n",
       "      <th>x</th>\n",
       "      <th>y</th>\n",
       "    </tr>\n",
       "  </thead>\n",
       "  <tbody>\n",
       "    <tr>\n",
       "      <th>0</th>\n",
       "      <td>L1</td>\n",
       "      <td>8259.44</td>\n",
       "      <td>0</td>\n",
       "      <td>0</td>\n",
       "    </tr>\n",
       "    <tr>\n",
       "      <th>1</th>\n",
       "      <td>L2</td>\n",
       "      <td>3120.85</td>\n",
       "      <td>0</td>\n",
       "      <td>0</td>\n",
       "    </tr>\n",
       "    <tr>\n",
       "      <th>2</th>\n",
       "      <td>DRAM</td>\n",
       "      <td>200.30</td>\n",
       "      <td>0</td>\n",
       "      <td>0</td>\n",
       "    </tr>\n",
       "  </tbody>\n",
       "</table>\n",
       "</div>"
      ],
      "text/plain": [
       "   name    slope  x  y\n",
       "0    L1  8259.44  0  0\n",
       "1    L2  3120.85  0  0\n",
       "2  DRAM   200.30  0  0"
      ]
     },
     "execution_count": 27,
     "metadata": {},
     "output_type": "execute_result"
    }
   ],
   "source": [
    "# Load gbytes data into Pandas dataframe\n",
    "gbytes_df = pd.DataFrame(gbytes['data'], columns=['name', 'slope'])\n",
    "gbytes_df['slope'] = gbytes_df['slope'] \n",
    "# Add the default x and y intercept\n",
    "gbytes_df['x'] = 0\n",
    "gbytes_df['y'] = 0\n",
    "gbytes_df"
   ]
  },
  {
   "cell_type": "code",
   "execution_count": 28,
   "metadata": {
    "colab": {
     "base_uri": "https://localhost:8080/"
    },
    "id": "UYjKsEpbV1eQ",
    "outputId": "901e7238-2260-44c4-c44d-4361adc6dc06"
   },
   "outputs": [
    {
     "data": {
      "text/plain": [
       "{'data': [['FP64 GFLOPs', 2772.78]],\n",
       " 'metadata': {'': ['META_DATA',\n",
       "   'FLOPS          64',\n",
       "   'OPENMP_THREADS 80',\n",
       "   'ERT_VERSION  1.1.0',\n",
       "   \"HOSTNAME  ('apollo.cs.uoregon.edu', [], ['128.223.8.36'])\",\n",
       "   \"UNAME  uname_result(system='Linux', node='apollo', release='5.3.0-70-generic', version='#66-Ubuntu SMP Fri Jan 29 21:31:57 UTC 2021', machine='x86_64', processor='x86_64')\",\n",
       "   'TIMESTAMP_DATA  1619038298.9375675',\n",
       "   \"CONFIG  {'ERT_RESULTS': ['Results.apollo.skylake_gold'], 'ERT_DRIVER': ['driver1'], 'ERT_KERNEL': ['kernel1'], 'ERT_MPI': ['False'], 'ERT_MPI_CFLAGS': [], 'ERT_MPI_LDFLAGS': [], 'ERT_OPENMP': ['True'], 'ERT_OPENMP_CFLAGS': ['-fopenmp'], 'ERT_OPENMP_LDFLAGS': ['-fopenmp'], 'ERT_FLOPS': ['1,2,4,8,16,32,64,128'], 'ERT_ALIGN': ['32'], 'ERT_CC': ['icpc'], 'ERT_CFLAGS': ['-O3', '-march=skylake-avx512', '-qopt-zmm-usage=high'], 'ERT_LD': ['icpc'], 'ERT_LDFLAGS': [], 'ERT_LDLIBS': [], 'ERT_PRECISION': ['FP64'], 'ERT_RUN': ['export', 'OMP_ORC_BIND=close;', 'export', 'OMP_PLACES=sockets;', './ERT_CODE'], 'ERT_PROCS_THREADS': ['112'], 'ERT_OPENMP_THREADS': ['18,20,38,40,78,80'], 'ERT_NUM_EXPERIMENTS': ['5'], 'ERT_MEMORY_MAX': ['2147482548'], 'ERT_WORKING_SET_MIN': ['1'], 'ERT_TRIALS_MIN': ['1'], 'ERT_GNUPLOT': ['gnuplot'], 'ERT_GPU': [False], 'ERT_HIP': [False], 'ERT_OCL': [False], 'ERT_SYCL': [False], 'ERT_WSS_MULT': [1.1]}\",\n",
       "   'TIMESTAMP_DATA  1619038305.7113626',\n",
       "   'TIMESTAMP_DATA  1619038312.447366',\n",
       "   'TIMESTAMP_DATA  1619038319.1575305',\n",
       "   'TIMESTAMP_DATA  1619038325.916049'],\n",
       "  'TIMESTAMP_DB': 1619038621.4781697}}"
      ]
     },
     "execution_count": 28,
     "metadata": {},
     "output_type": "execute_result"
    }
   ],
   "source": [
    "# Parse the gflop data section\n",
    "gflops = data['empirical']['gflops']\n",
    "gflops"
   ]
  },
  {
   "cell_type": "code",
   "execution_count": 29,
   "metadata": {
    "colab": {
     "base_uri": "https://localhost:8080/",
     "height": 80
    },
    "id": "GhPSCQx7jLbT",
    "outputId": "0a6f3850-06fd-47cc-e52f-8be209ffc672"
   },
   "outputs": [
    {
     "data": {
      "text/html": [
       "<div>\n",
       "<style scoped>\n",
       "    .dataframe tbody tr th:only-of-type {\n",
       "        vertical-align: middle;\n",
       "    }\n",
       "\n",
       "    .dataframe tbody tr th {\n",
       "        vertical-align: top;\n",
       "    }\n",
       "\n",
       "    .dataframe thead th {\n",
       "        text-align: right;\n",
       "    }\n",
       "</style>\n",
       "<table border=\"1\" class=\"dataframe\">\n",
       "  <thead>\n",
       "    <tr style=\"text-align: right;\">\n",
       "      <th></th>\n",
       "      <th>name</th>\n",
       "      <th>y</th>\n",
       "      <th>x</th>\n",
       "      <th>slope</th>\n",
       "    </tr>\n",
       "  </thead>\n",
       "  <tbody>\n",
       "    <tr>\n",
       "      <th>0</th>\n",
       "      <td>FP64 GFLOPs</td>\n",
       "      <td>2772.78</td>\n",
       "      <td>100</td>\n",
       "      <td>2772.78</td>\n",
       "    </tr>\n",
       "  </tbody>\n",
       "</table>\n",
       "</div>"
      ],
      "text/plain": [
       "          name        y    x    slope\n",
       "0  FP64 GFLOPs  2772.78  100  2772.78"
      ]
     },
     "execution_count": 29,
     "metadata": {},
     "output_type": "execute_result"
    }
   ],
   "source": [
    "# Load gflops data into a Pandas dataframe\n",
    "gflops_df = pd.DataFrame(gflops['data'], columns=['name', 'y'])\n",
    "# Add the default x intercept and \"slope\" (really the value)\n",
    "gflops_df['x'] = 100\n",
    "gflops_df['slope'] = gflops['data'][0][1]\n",
    "gflops_df"
   ]
  },
  {
   "cell_type": "code",
   "execution_count": 30,
   "metadata": {
    "colab": {
     "base_uri": "https://localhost:8080/",
     "height": 235
    },
    "id": "Y0qnnn9IxiXC",
    "outputId": "e44ad544-dcc5-4618-8974-779b7b816c7e"
   },
   "outputs": [
    {
     "data": {
      "text/html": [
       "<div>\n",
       "<style scoped>\n",
       "    .dataframe tbody tr th:only-of-type {\n",
       "        vertical-align: middle;\n",
       "    }\n",
       "\n",
       "    .dataframe tbody tr th {\n",
       "        vertical-align: top;\n",
       "    }\n",
       "\n",
       "    .dataframe thead th {\n",
       "        text-align: right;\n",
       "    }\n",
       "</style>\n",
       "<table border=\"1\" class=\"dataframe\">\n",
       "  <thead>\n",
       "    <tr style=\"text-align: right;\">\n",
       "      <th></th>\n",
       "      <th>name</th>\n",
       "      <th>slope</th>\n",
       "      <th>x</th>\n",
       "      <th>y</th>\n",
       "    </tr>\n",
       "  </thead>\n",
       "  <tbody>\n",
       "    <tr>\n",
       "      <th>0</th>\n",
       "      <td>L1</td>\n",
       "      <td>8259.44</td>\n",
       "      <td>0.000000</td>\n",
       "      <td>0.00</td>\n",
       "    </tr>\n",
       "    <tr>\n",
       "      <th>1</th>\n",
       "      <td>L2</td>\n",
       "      <td>3120.85</td>\n",
       "      <td>0.000000</td>\n",
       "      <td>0.00</td>\n",
       "    </tr>\n",
       "    <tr>\n",
       "      <th>2</th>\n",
       "      <td>DRAM</td>\n",
       "      <td>200.30</td>\n",
       "      <td>0.000000</td>\n",
       "      <td>0.00</td>\n",
       "    </tr>\n",
       "    <tr>\n",
       "      <th>3</th>\n",
       "      <td>L1</td>\n",
       "      <td>8259.44</td>\n",
       "      <td>0.335710</td>\n",
       "      <td>2772.78</td>\n",
       "    </tr>\n",
       "    <tr>\n",
       "      <th>4</th>\n",
       "      <td>L2</td>\n",
       "      <td>3120.85</td>\n",
       "      <td>0.888469</td>\n",
       "      <td>2772.78</td>\n",
       "    </tr>\n",
       "    <tr>\n",
       "      <th>5</th>\n",
       "      <td>DRAM</td>\n",
       "      <td>200.30</td>\n",
       "      <td>13.843135</td>\n",
       "      <td>2772.78</td>\n",
       "    </tr>\n",
       "  </tbody>\n",
       "</table>\n",
       "</div>"
      ],
      "text/plain": [
       "   name    slope          x        y\n",
       "0    L1  8259.44   0.000000     0.00\n",
       "1    L2  3120.85   0.000000     0.00\n",
       "2  DRAM   200.30   0.000000     0.00\n",
       "3    L1  8259.44   0.335710  2772.78\n",
       "4    L2  3120.85   0.888469  2772.78\n",
       "5  DRAM   200.30  13.843135  2772.78"
      ]
     },
     "execution_count": 30,
     "metadata": {},
     "output_type": "execute_result"
    }
   ],
   "source": [
    "# Calculate the point where each memory line meets the peak line, add to dataframe\n",
    "# y=mx+b -> x = (y-b)/m = (y-0)/m = y/m\n",
    "rows = len(gbytes_df)\n",
    "peak = gflops_df['y'][0]\n",
    "new_xes = []\n",
    "\n",
    "for row in range(rows):\n",
    "  name = gbytes_df['name'][row]\n",
    "  x = peak / gbytes_df['slope'][row]\n",
    "  gbytes_df.loc[len(gbytes_df.index)] = [name, gbytes_df['slope'][row], x, peak]\n",
    "  new_xes.append(x)\n",
    "\n",
    "gbytes_df"
   ]
  },
  {
   "cell_type": "code",
   "execution_count": 31,
   "metadata": {
    "id": "JEXfx8Wrin9g"
   },
   "outputs": [],
   "source": [
    "# Find the x coordinate to start the peak line at\n",
    "peak_x_min = min(new_xes)\n",
    "gflops_df.loc[len(gflops_df)] = [gflops_df['name'][0], gflops_df['y'][0], peak_x_min, gflops_df['y'][0]]"
   ]
  },
  {
   "cell_type": "code",
   "execution_count": 32,
   "metadata": {
    "id": "XsOfiYddJ-5y"
   },
   "outputs": [],
   "source": [
    "# Make the label columns for the graph\n",
    "gbytes_df['label'] = gbytes_df['name'] + ' ' + gbytes_df['slope'].astype(str) + ' ' + 'GB/s'\n",
    "gflops_df['label'] = gflops_df['name'] + ' ' + gflops_df['slope'].astype(str) + ' ' + 'GFLOPs/s'\n"
   ]
  },
  {
   "cell_type": "code",
   "execution_count": 33,
   "metadata": {
    "colab": {
     "base_uri": "https://localhost:8080/",
     "height": 297
    },
    "id": "luIW0XXCZ0Z9",
    "outputId": "b8c0e6fe-e433-45d9-ef36-81e87bf701bd"
   },
   "outputs": [
    {
     "data": {
      "text/html": [
       "<div>\n",
       "<style scoped>\n",
       "    .dataframe tbody tr th:only-of-type {\n",
       "        vertical-align: middle;\n",
       "    }\n",
       "\n",
       "    .dataframe tbody tr th {\n",
       "        vertical-align: top;\n",
       "    }\n",
       "\n",
       "    .dataframe thead th {\n",
       "        text-align: right;\n",
       "    }\n",
       "</style>\n",
       "<table border=\"1\" class=\"dataframe\">\n",
       "  <thead>\n",
       "    <tr style=\"text-align: right;\">\n",
       "      <th></th>\n",
       "      <th>name</th>\n",
       "      <th>y</th>\n",
       "      <th>x</th>\n",
       "      <th>slope</th>\n",
       "      <th>label</th>\n",
       "    </tr>\n",
       "  </thead>\n",
       "  <tbody>\n",
       "    <tr>\n",
       "      <th>0</th>\n",
       "      <td>FP64 GFLOPs</td>\n",
       "      <td>2772.78</td>\n",
       "      <td>100.000000</td>\n",
       "      <td>2772.78</td>\n",
       "      <td>FP64 GFLOPs 2772.78 GFLOPs/s</td>\n",
       "    </tr>\n",
       "    <tr>\n",
       "      <th>1</th>\n",
       "      <td>FP64 GFLOPs</td>\n",
       "      <td>2772.78</td>\n",
       "      <td>0.335710</td>\n",
       "      <td>2772.78</td>\n",
       "      <td>FP64 GFLOPs 2772.78 GFLOPs/s</td>\n",
       "    </tr>\n",
       "    <tr>\n",
       "      <th>2</th>\n",
       "      <td>L1</td>\n",
       "      <td>0.00</td>\n",
       "      <td>0.000000</td>\n",
       "      <td>8259.44</td>\n",
       "      <td>L1 8259.44 GB/s</td>\n",
       "    </tr>\n",
       "    <tr>\n",
       "      <th>3</th>\n",
       "      <td>L2</td>\n",
       "      <td>0.00</td>\n",
       "      <td>0.000000</td>\n",
       "      <td>3120.85</td>\n",
       "      <td>L2 3120.85 GB/s</td>\n",
       "    </tr>\n",
       "    <tr>\n",
       "      <th>4</th>\n",
       "      <td>DRAM</td>\n",
       "      <td>0.00</td>\n",
       "      <td>0.000000</td>\n",
       "      <td>200.30</td>\n",
       "      <td>DRAM 200.3 GB/s</td>\n",
       "    </tr>\n",
       "    <tr>\n",
       "      <th>5</th>\n",
       "      <td>L1</td>\n",
       "      <td>2772.78</td>\n",
       "      <td>0.335710</td>\n",
       "      <td>8259.44</td>\n",
       "      <td>L1 8259.44 GB/s</td>\n",
       "    </tr>\n",
       "    <tr>\n",
       "      <th>6</th>\n",
       "      <td>L2</td>\n",
       "      <td>2772.78</td>\n",
       "      <td>0.888469</td>\n",
       "      <td>3120.85</td>\n",
       "      <td>L2 3120.85 GB/s</td>\n",
       "    </tr>\n",
       "    <tr>\n",
       "      <th>7</th>\n",
       "      <td>DRAM</td>\n",
       "      <td>2772.78</td>\n",
       "      <td>13.843135</td>\n",
       "      <td>200.30</td>\n",
       "      <td>DRAM 200.3 GB/s</td>\n",
       "    </tr>\n",
       "  </tbody>\n",
       "</table>\n",
       "</div>"
      ],
      "text/plain": [
       "          name        y           x    slope                         label\n",
       "0  FP64 GFLOPs  2772.78  100.000000  2772.78  FP64 GFLOPs 2772.78 GFLOPs/s\n",
       "1  FP64 GFLOPs  2772.78    0.335710  2772.78  FP64 GFLOPs 2772.78 GFLOPs/s\n",
       "2           L1     0.00    0.000000  8259.44               L1 8259.44 GB/s\n",
       "3           L2     0.00    0.000000  3120.85               L2 3120.85 GB/s\n",
       "4         DRAM     0.00    0.000000   200.30               DRAM 200.3 GB/s\n",
       "5           L1  2772.78    0.335710  8259.44               L1 8259.44 GB/s\n",
       "6           L2  2772.78    0.888469  3120.85               L2 3120.85 GB/s\n",
       "7         DRAM  2772.78   13.843135   200.30               DRAM 200.3 GB/s"
      ]
     },
     "execution_count": 33,
     "metadata": {},
     "output_type": "execute_result"
    }
   ],
   "source": [
    "# Concatenate the gbyte and gflop data into one dataframe to plot\n",
    "g_df = pd.concat([gflops_df, gbytes_df], ignore_index=True)\n",
    "g_df"
   ]
  },
  {
   "cell_type": "code",
   "execution_count": 34,
   "metadata": {
    "colab": {
     "base_uri": "https://localhost:8080/"
    },
    "id": "E99jsOFkmnJT",
    "outputId": "39a8b712-885d-45a3-c665-be8e27c26800"
   },
   "outputs": [
    {
     "name": "stdout",
     "output_type": "stream",
     "text": [
      "apollo.cs.uoregon.edu\n",
      "4\n",
      "80\n"
     ]
    }
   ],
   "source": [
    "# Get config metadata to add to a table next to the plot\n",
    "host_info = gbytes['metadata'][''][3]\n",
    "\n",
    "host_list = host_info.split(\"'\")\n",
    "\n",
    "host_name = host_list[1]\n",
    "print(host_name)\n",
    "flop_info = gbytes['metadata'][''][0]\n",
    "\n",
    "flop_list = flop_info.split(\" \")\n",
    "\n",
    "mem_flops = flop_list[-1]\n",
    "print(mem_flops)\n",
    "omp_info = gbytes['metadata'][''][1]\n",
    "\n",
    "omp_list = omp_info.split(\" \")\n",
    "\n",
    "mem_omp_threads = omp_list[1]\n",
    "print(mem_omp_threads)\n",
    "# Not working yet - trying to load more config data into a table to display next to the plot...\n",
    "# print(type(gbytes['metadata']['']))\n",
    "# config_str = gbytes['metadata'][''][6]\n",
    "# print(config_str[8:])\n",
    "# config = json.loads(config_str[8:])\n",
    "# config\n",
    "# config = [x for x in config if 'CONFIG'.]\n",
    "# Load metadata into a Pandas dataframe\n",
    "# metadata = pd.DataFrame(config, columns=metadata.keys())\n",
    "# metadata.keys()"
   ]
  },
  {
   "cell_type": "code",
   "execution_count": 35,
   "metadata": {
    "colab": {
     "base_uri": "https://localhost:8080/"
    },
    "id": "CnFsL_3WRxHy",
    "outputId": "4a97d20f-531b-46bd-eebb-a5a204208235"
   },
   "outputs": [
    {
     "name": "stdout",
     "output_type": "stream",
     "text": [
      "FLOPS          64\n",
      "['FLOPS', '', '', '', '', '', '', '', '', '', '64']\n",
      "64\n",
      "OPENMP_THREADS 80\n",
      "['OPENMP_THREADS', '80']\n",
      "80\n"
     ]
    }
   ],
   "source": [
    "flop_info = gflops['metadata'][''][1]\n",
    "print(flop_info)\n",
    "flop_list = flop_info.split(\" \")\n",
    "print(flop_list)\n",
    "flops = flop_list[-1]\n",
    "print(flops)\n",
    "omp_info = gflops['metadata'][''][2]\n",
    "print(omp_info)\n",
    "omp_list = omp_info.split(\" \")\n",
    "print(omp_list)\n",
    "omp_threads = omp_list[1]\n",
    "print(omp_threads)"
   ]
  },
  {
   "cell_type": "code",
   "execution_count": 36,
   "metadata": {
    "colab": {
     "base_uri": "https://localhost:8080/"
    },
    "id": "aGarO-3t4XU6",
    "outputId": "9fb8c5eb-a50d-4f20-9514-c89a7be2b4b5"
   },
   "outputs": [
    {
     "data": {
      "text/plain": [
       "[('HOST', 'apollo.cs.uoregon.edu'),\n",
       " ('ERT_RESULTS', 'Results.apollo.skylake_gold'),\n",
       " ('ERT_DRIVER', 'driver1'),\n",
       " ('ERT_KERNEL', 'kernel1'),\n",
       " ('ERT_MPI', 'False'),\n",
       " ('ERT_MPI_CFLAGS', 'ERT_MPI_LDFLAGS'),\n",
       " ('ERT_OPENMP', 'True'),\n",
       " ('ERT_OPENMP_CFLAGS', '-fopenmp'),\n",
       " ('ERT_OPENMP_LDFLAGS', '-fopenmp'),\n",
       " ('ERT_FLOPS', '1,2,4,8,16,32,64,128'),\n",
       " ('ERT_ALIGN', '32'),\n",
       " ('ERT_CC', 'icpc'),\n",
       " ('ERT_CFLAGS', '-O3'),\n",
       " ('-march=skylake-avx512', '-qopt-zmm-usage=high'),\n",
       " ('ERT_LD', 'icpc'),\n",
       " ('ERT_LDFLAGS', 'ERT_LDLIBS'),\n",
       " ('ERT_PRECISION', 'FP64'),\n",
       " ('ERT_RUN', 'export'),\n",
       " ('OMP_ORC_BIND=close;', 'export'),\n",
       " ('OMP_PLACES=sockets;', './ERT_CODE'),\n",
       " ('ERT_PROCS_THREADS', '112'),\n",
       " ('ERT_OPENMP_THREADS', '18,20,38,40,78,80'),\n",
       " ('ERT_NUM_EXPERIMENTS', '5'),\n",
       " ('ERT_MEMORY_MAX', '2147482548'),\n",
       " ('ERT_WORKING_SET_MIN', '1'),\n",
       " ('ERT_TRIALS_MIN', '1'),\n",
       " ('ERT_GNUPLOT', 'gnuplot'),\n",
       " ('ERT_GPU', 'ERT_HIP'),\n",
       " ('ERT_OCL', 'ERT_SYCL')]"
      ]
     },
     "execution_count": 36,
     "metadata": {},
     "output_type": "execute_result"
    }
   ],
   "source": [
    "import re\n",
    "# parse the config file to add to the table \n",
    "metad = gflops['metadata']['']\n",
    "for i in range(len(metad)):\n",
    "  conf = metad[i]\n",
    "  if conf.startswith('CONFIG'):\n",
    "    config = metad[i]\n",
    "    break\n",
    "config_list = config.split(\"'\")\n",
    "config_list = config_list[1:]\n",
    "\n",
    "config_for_pd = [('HOST',host_name)]\n",
    "for j in range(0, len(config_list)-2, 4):\n",
    "  # add logic to deal with flags - multiple values per key\n",
    "  value = config_list[j+2]\n",
    "  if re.search('[a-zA-Z0-9]', value):\n",
    "    config_for_pd.append((config_list[j], value))\n",
    "config_for_pd"
   ]
  },
  {
   "cell_type": "code",
   "execution_count": 37,
   "metadata": {
    "colab": {
     "base_uri": "https://localhost:8080/",
     "height": 948
    },
    "id": "ZfP2gGl-CGhi",
    "outputId": "5f3b6378-dd29-4e8f-d3ef-49329907a907"
   },
   "outputs": [
    {
     "data": {
      "text/html": [
       "<div>\n",
       "<style scoped>\n",
       "    .dataframe tbody tr th:only-of-type {\n",
       "        vertical-align: middle;\n",
       "    }\n",
       "\n",
       "    .dataframe tbody tr th {\n",
       "        vertical-align: top;\n",
       "    }\n",
       "\n",
       "    .dataframe thead th {\n",
       "        text-align: right;\n",
       "    }\n",
       "</style>\n",
       "<table border=\"1\" class=\"dataframe\">\n",
       "  <thead>\n",
       "    <tr style=\"text-align: right;\">\n",
       "      <th></th>\n",
       "      <th>Config</th>\n",
       "      <th>Value</th>\n",
       "    </tr>\n",
       "  </thead>\n",
       "  <tbody>\n",
       "    <tr>\n",
       "      <th>0</th>\n",
       "      <td>HOST</td>\n",
       "      <td>apollo.cs.uoregon.edu</td>\n",
       "    </tr>\n",
       "    <tr>\n",
       "      <th>1</th>\n",
       "      <td>ERT_RESULTS</td>\n",
       "      <td>Results.apollo.skylake_gold</td>\n",
       "    </tr>\n",
       "    <tr>\n",
       "      <th>2</th>\n",
       "      <td>ERT_DRIVER</td>\n",
       "      <td>driver1</td>\n",
       "    </tr>\n",
       "    <tr>\n",
       "      <th>3</th>\n",
       "      <td>ERT_KERNEL</td>\n",
       "      <td>kernel1</td>\n",
       "    </tr>\n",
       "    <tr>\n",
       "      <th>4</th>\n",
       "      <td>ERT_MPI</td>\n",
       "      <td>False</td>\n",
       "    </tr>\n",
       "    <tr>\n",
       "      <th>5</th>\n",
       "      <td>ERT_MPI_CFLAGS</td>\n",
       "      <td>ERT_MPI_LDFLAGS</td>\n",
       "    </tr>\n",
       "    <tr>\n",
       "      <th>6</th>\n",
       "      <td>ERT_OPENMP</td>\n",
       "      <td>True</td>\n",
       "    </tr>\n",
       "    <tr>\n",
       "      <th>7</th>\n",
       "      <td>ERT_OPENMP_CFLAGS</td>\n",
       "      <td>-fopenmp</td>\n",
       "    </tr>\n",
       "    <tr>\n",
       "      <th>8</th>\n",
       "      <td>ERT_OPENMP_LDFLAGS</td>\n",
       "      <td>-fopenmp</td>\n",
       "    </tr>\n",
       "    <tr>\n",
       "      <th>9</th>\n",
       "      <td>ERT_FLOPS</td>\n",
       "      <td>1,2,4,8,16,32,64,128</td>\n",
       "    </tr>\n",
       "    <tr>\n",
       "      <th>10</th>\n",
       "      <td>ERT_ALIGN</td>\n",
       "      <td>32</td>\n",
       "    </tr>\n",
       "    <tr>\n",
       "      <th>11</th>\n",
       "      <td>ERT_CC</td>\n",
       "      <td>icpc</td>\n",
       "    </tr>\n",
       "    <tr>\n",
       "      <th>12</th>\n",
       "      <td>ERT_CFLAGS</td>\n",
       "      <td>-O3</td>\n",
       "    </tr>\n",
       "    <tr>\n",
       "      <th>13</th>\n",
       "      <td>-march=skylake-avx512</td>\n",
       "      <td>-qopt-zmm-usage=high</td>\n",
       "    </tr>\n",
       "    <tr>\n",
       "      <th>14</th>\n",
       "      <td>ERT_LD</td>\n",
       "      <td>icpc</td>\n",
       "    </tr>\n",
       "    <tr>\n",
       "      <th>15</th>\n",
       "      <td>ERT_LDFLAGS</td>\n",
       "      <td>ERT_LDLIBS</td>\n",
       "    </tr>\n",
       "    <tr>\n",
       "      <th>16</th>\n",
       "      <td>ERT_PRECISION</td>\n",
       "      <td>FP64</td>\n",
       "    </tr>\n",
       "    <tr>\n",
       "      <th>17</th>\n",
       "      <td>ERT_RUN</td>\n",
       "      <td>export</td>\n",
       "    </tr>\n",
       "    <tr>\n",
       "      <th>18</th>\n",
       "      <td>OMP_ORC_BIND=close;</td>\n",
       "      <td>export</td>\n",
       "    </tr>\n",
       "    <tr>\n",
       "      <th>19</th>\n",
       "      <td>OMP_PLACES=sockets;</td>\n",
       "      <td>./ERT_CODE</td>\n",
       "    </tr>\n",
       "    <tr>\n",
       "      <th>20</th>\n",
       "      <td>ERT_PROCS_THREADS</td>\n",
       "      <td>112</td>\n",
       "    </tr>\n",
       "    <tr>\n",
       "      <th>21</th>\n",
       "      <td>ERT_OPENMP_THREADS</td>\n",
       "      <td>18,20,38,40,78,80</td>\n",
       "    </tr>\n",
       "    <tr>\n",
       "      <th>22</th>\n",
       "      <td>ERT_NUM_EXPERIMENTS</td>\n",
       "      <td>5</td>\n",
       "    </tr>\n",
       "    <tr>\n",
       "      <th>23</th>\n",
       "      <td>ERT_MEMORY_MAX</td>\n",
       "      <td>2147482548</td>\n",
       "    </tr>\n",
       "    <tr>\n",
       "      <th>24</th>\n",
       "      <td>ERT_WORKING_SET_MIN</td>\n",
       "      <td>1</td>\n",
       "    </tr>\n",
       "    <tr>\n",
       "      <th>25</th>\n",
       "      <td>ERT_TRIALS_MIN</td>\n",
       "      <td>1</td>\n",
       "    </tr>\n",
       "    <tr>\n",
       "      <th>26</th>\n",
       "      <td>ERT_GNUPLOT</td>\n",
       "      <td>gnuplot</td>\n",
       "    </tr>\n",
       "    <tr>\n",
       "      <th>27</th>\n",
       "      <td>ERT_GPU</td>\n",
       "      <td>ERT_HIP</td>\n",
       "    </tr>\n",
       "    <tr>\n",
       "      <th>28</th>\n",
       "      <td>ERT_OCL</td>\n",
       "      <td>ERT_SYCL</td>\n",
       "    </tr>\n",
       "  </tbody>\n",
       "</table>\n",
       "</div>"
      ],
      "text/plain": [
       "                   Config                        Value\n",
       "0                    HOST        apollo.cs.uoregon.edu\n",
       "1             ERT_RESULTS  Results.apollo.skylake_gold\n",
       "2              ERT_DRIVER                      driver1\n",
       "3              ERT_KERNEL                      kernel1\n",
       "4                 ERT_MPI                        False\n",
       "5          ERT_MPI_CFLAGS              ERT_MPI_LDFLAGS\n",
       "6              ERT_OPENMP                         True\n",
       "7       ERT_OPENMP_CFLAGS                     -fopenmp\n",
       "8      ERT_OPENMP_LDFLAGS                     -fopenmp\n",
       "9               ERT_FLOPS         1,2,4,8,16,32,64,128\n",
       "10              ERT_ALIGN                           32\n",
       "11                 ERT_CC                         icpc\n",
       "12             ERT_CFLAGS                          -O3\n",
       "13  -march=skylake-avx512         -qopt-zmm-usage=high\n",
       "14                 ERT_LD                         icpc\n",
       "15            ERT_LDFLAGS                   ERT_LDLIBS\n",
       "16          ERT_PRECISION                         FP64\n",
       "17                ERT_RUN                       export\n",
       "18    OMP_ORC_BIND=close;                       export\n",
       "19    OMP_PLACES=sockets;                   ./ERT_CODE\n",
       "20      ERT_PROCS_THREADS                          112\n",
       "21     ERT_OPENMP_THREADS            18,20,38,40,78,80\n",
       "22    ERT_NUM_EXPERIMENTS                            5\n",
       "23         ERT_MEMORY_MAX                   2147482548\n",
       "24    ERT_WORKING_SET_MIN                            1\n",
       "25         ERT_TRIALS_MIN                            1\n",
       "26            ERT_GNUPLOT                      gnuplot\n",
       "27                ERT_GPU                      ERT_HIP\n",
       "28                ERT_OCL                     ERT_SYCL"
      ]
     },
     "execution_count": 37,
     "metadata": {},
     "output_type": "execute_result"
    }
   ],
   "source": [
    "metadata_df = pd.DataFrame(config_for_pd, columns=[\"Config\", \"Value\"])\n",
    "metadata_df"
   ]
  },
  {
   "cell_type": "markdown",
   "metadata": {
    "id": "UpvVlhuY8jBs"
   },
   "source": [
    "## plot roofline without application points - using seaborn/matplotlib"
   ]
  },
  {
   "cell_type": "code",
   "execution_count": 38,
   "metadata": {
    "colab": {
     "base_uri": "https://localhost:8080/",
     "height": 598
    },
    "id": "Zi6QtzwMuEkI",
    "outputId": "1005c1a5-fe63-4a8a-a746-23ef91701668"
   },
   "outputs": [
    {
     "data": {
      "image/png": "[encoded data removed]",
      "text/plain": [
       "<Figure size 720x720 with 2 Axes>"
      ]
     },
     "metadata": {},
     "output_type": "display_data"
    },
    {
     "data": {
      "text/plain": [
       "<Figure size 3456x3456 with 0 Axes>"
      ]
     },
     "metadata": {},
     "output_type": "display_data"
    }
   ],
   "source": [
    "# calculate the axes scale\n",
    "xmin =   0.01\n",
    "xmax = 100.00\n",
    "ymin = 10 # default\n",
    "ymin = 10 ** int(math.floor(math.log10(g_df['slope'][0]*xmin)))\n",
    "ymax = ymin ** int(math.floor(math.log10(g_df['slope'][0]*10)))\n",
    "\n",
    "#calculate the midpoints for labels\n",
    "xmid = math.sqrt(xmin * xmax)\n",
    "ymid = g_df['slope'][0] * xmid\n",
    "y0gbytes = ymid\n",
    "x0gbytes = y0gbytes/g_df['slope'][0]\n",
    "alpha = 1.065\n",
    "\n",
    "# set some general plot settings\n",
    "fig, (ax,ax2) = plt.subplots(1, 2, gridspec_kw={'width_ratios': [2, 1]})\n",
    "plt.figure(figsize=(48,48))\n",
    "title = \"Empirical Roofline Graph \"\n",
    "sns.set(rc={'figure.figsize':(12,8)})\n",
    "palette = sns.color_palette( \"Dark2\", int(len(g_df)/2))\n",
    "\n",
    "# plot the lines and peak flop label\n",
    "#ax = fig.add_subplot(121)\n",
    "sns.lineplot(data=g_df, x=\"x\", y=\"y\", hue=\"label\",palette=palette, ax=ax)\n",
    "ax.set(xlabel='FLOPs / Byte', ylabel='GFLOPs / Second')\n",
    "ax.set(xscale=\"log\", yscale=\"log\", xlim=(xmin, xmax), ylim=(ymin,ymax))\n",
    "font_size=10\n",
    "\n",
    "# plot the line label(s)\n",
    "ax.text(xmax, y0gbytes*alpha, g_df['label'][0], size='medium', ha=\"right\")\n",
    "for index in range(len(gbytes_df.name.unique())):\n",
    "    mem = gbytes_df['name'][index]\n",
    "    (xmax, slope) = max([(gbytes_df['x'][i],gbytes_df['slope'][i]) for i in range(len(gbytes_df['x'])) if gbytes_df['name'][i]==mem])\n",
    "    xmid = math.sqrt(xmin * xmax)\n",
    "    ymid = slope * xmid\n",
    "    y0gbytes = ymid\n",
    "    x0gbytes = y0gbytes/slope\n",
    "    alpha = 1.25\n",
    "    angle = math.degrees(math.atan(slope))/2\n",
    "    ax.text(x0gbytes, y0gbytes*alpha, gbytes_df['label'][index], size='medium', rotation=angle)\n",
    "\n",
    "# add table of configs\n",
    "bbox=[0, 0, 1, 1]\n",
    "ax2.axis('off')\n",
    "ax2.axis('tight')\n",
    "mpl_table = ax2.table(cellText = metadata_df.values, bbox=bbox, colLabels=metadata_df.columns, edges='horizontal')\n",
    "mpl_table.auto_set_font_size(False)\n",
    "mpl_table.set_fontsize(font_size)\n",
    "\n",
    "# add grid lines, title, legend\n",
    "ax.grid(b=True, which='both')\n",
    "ax.set_title(title, fontsize=20)\n",
    "ax.legend(loc='lower right')\n",
    "#sns.set(font_scale=2.5)\n",
    "\n",
    "fig.tight_layout();\n",
    "\n",
    "# save if desired\n",
    "ax.figure.savefig(\"roofline.svg\");\n",
    "\n",
    "plt.show();"
   ]
  },
  {
   "cell_type": "markdown",
   "metadata": {
    "id": "Aa67vUukE9pg"
   },
   "source": [
    "## Add application performance points\n",
    " - these can be loaded from a csv (below)"
   ]
  },
  {
   "cell_type": "code",
   "execution_count": 39,
   "metadata": {
    "colab": {
     "base_uri": "https://localhost:8080/",
     "height": 259,
     "resources": {
      "http://localhost:8080/nbextensions/google.colab/files.js": {
       "data": "Ly8gQ29weXJpZ2h0IDIwMTcgR29vZ2xlIExMQwovLwovLyBMaWNlbnNlZCB1bmRlciB0aGUgQXBhY2hlIExpY2Vuc2UsIFZlcnNpb24gMi4wICh0aGUgIkxpY2Vuc2UiKTsKLy8geW91IG1heSBub3QgdXNlIHRoaXMgZmlsZSBleGNlcHQgaW4gY29tcGxpYW5jZSB3aXRoIHRoZSBMaWNlbnNlLgovLyBZb3UgbWF5IG9idGFpbiBhIGNvcHkgb2YgdGhlIExpY2Vuc2UgYXQKLy8KLy8gICAgICBodHRwOi8vd3d3LmFwYWNoZS5vcmcvbGljZW5zZXMvTElDRU5TRS0yLjAKLy8KLy8gVW5sZXNzIHJlcXVpcmVkIGJ5IGFwcGxpY2FibGUgbGF3IG9yIGFncmVlZCB0byBpbiB3cml0aW5nLCBzb2Z0d2FyZQovLyBkaXN0cmlidXRlZCB1bmRlciB0aGUgTGljZW5zZSBpcyBkaXN0cmlidXRlZCBvbiBhbiAiQVMgSVMiIEJBU0lTLAovLyBXSVRIT1VUIFdBUlJBTlRJRVMgT1IgQ09ORElUSU9OUyBPRiBBTlkgS0lORCwgZWl0aGVyIGV4cHJlc3Mgb3IgaW1wbGllZC4KLy8gU2VlIHRoZSBMaWNlbnNlIGZvciB0aGUgc3BlY2lmaWMgbGFuZ3VhZ2UgZ292ZXJuaW5nIHBlcm1pc3Npb25zIGFuZAovLyBsaW1pdGF0aW9ucyB1bmRlciB0aGUgTGljZW5zZS4KCi8qKgogKiBAZmlsZW92ZXJ2aWV3IEhlbHBlcnMgZm9yIGdvb2dsZS5jb2xhYiBQeXRob24gbW9kdWxlLgogKi8KKGZ1bmN0aW9uKHNjb3BlKSB7CmZ1bmN0aW9uIHNwYW4odGV4dCwgc3R5bGVBdHRyaWJ1dGVzID0ge30pIHsKICBjb25zdCBlbGVtZW50ID0gZG9jdW1lbnQuY3JlYXRlRWxlbWVudCgnc3BhbicpOwogIGVsZW1lbnQudGV4dENvbnRlbnQgPSB0ZXh0OwogIGZvciAoY29uc3Qga2V5IG9mIE9iamVjdC5rZXlzKHN0eWxlQXR0cmlidXRlcykpIHsKICAgIGVsZW1lbnQuc3R5bGVba2V5XSA9IHN0eWxlQXR0cmlidXRlc1trZXldOwogIH0KICByZXR1cm4gZWxlbWVudDsKfQoKLy8gTWF4IG51bWJlciBvZiBieXRlcyB3aGljaCB3aWxsIGJlIHVwbG9hZGVkIGF0IGEgdGltZS4KY29uc3QgTUFYX1BBWUxPQURfU0laRSA9IDEwMCAqIDEwMjQ7CgpmdW5jdGlvbiBfdXBsb2FkRmlsZXMoaW5wdXRJZCwgb3V0cHV0SWQpIHsKICBjb25zdCBzdGVwcyA9IHVwbG9hZEZpbGVzU3RlcChpbnB1dElkLCBvdXRwdXRJZCk7CiAgY29uc3Qgb3V0cHV0RWxlbWVudCA9IGRvY3VtZW50LmdldEVsZW1lbnRCeUlkKG91dHB1dElkKTsKICAvLyBDYWNoZSBzdGVwcyBvbiB0aGUgb3V0cHV0RWxlbWVudCB0byBtYWtlIGl0IGF2YWlsYWJsZSBmb3IgdGhlIG5leHQgY2FsbAogIC8vIHRvIHVwbG9hZEZpbGVzQ29udGludWUgZnJvbSBQeXRob24uCiAgb3V0cHV0RWxlbWVudC5zdGVwcyA9IHN0ZXBzOwoKICByZXR1cm4gX3VwbG9hZEZpbGVzQ29udGludWUob3V0cHV0SWQpOwp9CgovLyBUaGlzIGlzIHJvdWdobHkgYW4gYXN5bmMgZ2VuZXJhdG9yIChub3Qgc3VwcG9ydGVkIGluIHRoZSBicm93c2VyIHlldCksCi8vIHdoZXJlIHRoZXJlIGFyZSBtdWx0aXBsZSBhc3luY2hyb25vdXMgc3RlcHMgYW5kIHRoZSBQeXRob24gc2lkZSBpcyBnb2luZwovLyB0byBwb2xsIGZvciBjb21wbGV0aW9uIG9mIGVhY2ggc3RlcC4KLy8gVGhpcyB1c2VzIGEgUHJvbWlzZSB0byBibG9jayB0aGUgcHl0aG9uIHNpZGUgb24gY29tcGxldGlvbiBvZiBlYWNoIHN0ZXAsCi8vIHRoZW4gcGFzc2VzIHRoZSByZXN1bHQgb2YgdGhlIHByZXZpb3VzIHN0ZXAgYXMgdGhlIGlucHV0IHRvIHRoZSBuZXh0IHN0ZXAuCmZ1bmN0aW9uIF91cGxvYWRGaWxlc0NvbnRpbnVlKG91dHB1dElkKSB7CiAgY29uc3Qgb3V0cHV0RWxlbWVudCA9IGRvY3VtZW50LmdldEVsZW1lbnRCeUlkKG91dHB1dElkKTsKICBjb25zdCBzdGVwcyA9IG91dHB1dEVsZW1lbnQuc3RlcHM7CgogIGNvbnN0IG5leHQgPSBzdGVwcy5uZXh0KG91dHB1dEVsZW1lbnQubGFzdFByb21pc2VWYWx1ZSk7CiAgcmV0dXJuIFByb21pc2UucmVzb2x2ZShuZXh0LnZhbHVlLnByb21pc2UpLnRoZW4oKHZhbHVlKSA9PiB7CiAgICAvLyBDYWNoZSB0aGUgbGFzdCBwcm9taXNlIHZhbHVlIHRvIG1ha2UgaXQgYXZhaWxhYmxlIHRvIHRoZSBuZXh0CiAgICAvLyBzdGVwIG9mIHRoZSBnZW5lcmF0b3IuCiAgICBvdXRwdXRFbGVtZW50Lmxhc3RQcm9taXNlVmFsdWUgPSB2YWx1ZTsKICAgIHJldHVybiBuZXh0LnZhbHVlLnJlc3BvbnNlOwogIH0pOwp9CgovKioKICogR2VuZXJhdG9yIGZ1bmN0aW9uIHdoaWNoIGlzIGNhbGxlZCBiZXR3ZWVuIGVhY2ggYXN5bmMgc3RlcCBvZiB0aGUgdXBsb2FkCiAqIHByb2Nlc3MuCiAqIEBwYXJhbSB7c3RyaW5nfSBpbnB1dElkIEVsZW1lbnQgSUQgb2YgdGhlIGlucHV0IGZpbGUgcGlja2VyIGVsZW1lbnQuCiAqIEBwYXJhbSB7c3RyaW5nfSBvdXRwdXRJZCBFbGVtZW50IElEIG9mIHRoZSBvdXRwdXQgZGlzcGxheS4KICogQHJldHVybiB7IUl0ZXJhYmxlPCFPYmplY3Q+fSBJdGVyYWJsZSBvZiBuZXh0IHN0ZXBzLgogKi8KZnVuY3Rpb24qIHVwbG9hZEZpbGVzU3RlcChpbnB1dElkLCBvdXRwdXRJZCkgewogIGNvbnN0IGlucHV0RWxlbWVudCA9IGRvY3VtZW50LmdldEVsZW1lbnRCeUlkKGlucHV0SWQpOwogIGlucHV0RWxlbWVudC5kaXNhYmxlZCA9IGZhbHNlOwoKICBjb25zdCBvdXRwdXRFbGVtZW50ID0gZG9jdW1lbnQuZ2V0RWxlbWVudEJ5SWQob3V0cHV0SWQpOwogIG91dHB1dEVsZW1lbnQuaW5uZXJIVE1MID0gJyc7CgogIGNvbnN0IHBpY2tlZFByb21pc2UgPSBuZXcgUHJvbWlzZSgocmVzb2x2ZSkgPT4gewogICAgaW5wdXRFbGVtZW50LmFkZEV2ZW50TGlzdGVuZXIoJ2NoYW5nZScsIChlKSA9PiB7CiAgICAgIHJlc29sdmUoZS50YXJnZXQuZmlsZXMpOwogICAgfSk7CiAgfSk7CgogIGNvbnN0IGNhbmNlbCA9IGRvY3VtZW50LmNyZWF0ZUVsZW1lbnQoJ2J1dHRvbicpOwogIGlucHV0RWxlbWVudC5wYXJlbnRFbGVtZW50LmFwcGVuZENoaWxkKGNhbmNlbCk7CiAgY2FuY2VsLnRleHRDb250ZW50ID0gJ0NhbmNlbCB1cGxvYWQnOwogIGNvbnN0IGNhbmNlbFByb21pc2UgPSBuZXcgUHJvbWlzZSgocmVzb2x2ZSkgPT4gewogICAgY2FuY2VsLm9uY2xpY2sgPSAoKSA9PiB7CiAgICAgIHJlc29sdmUobnVsbCk7CiAgICB9OwogIH0pOwoKICAvLyBXYWl0IGZvciB0aGUgdXNlciB0byBwaWNrIHRoZSBmaWxlcy4KICBjb25zdCBmaWxlcyA9IHlpZWxkIHsKICAgIHByb21pc2U6IFByb21pc2UucmFjZShbcGlja2VkUHJvbWlzZSwgY2FuY2VsUHJvbWlzZV0pLAogICAgcmVzcG9uc2U6IHsKICAgICAgYWN0aW9uOiAnc3RhcnRpbmcnLAogICAgfQogIH07CgogIGNhbmNlbC5yZW1vdmUoKTsKCiAgLy8gRGlzYWJsZSB0aGUgaW5wdXQgZWxlbWVudCBzaW5jZSBmdXJ0aGVyIHBpY2tzIGFyZSBub3QgYWxsb3dlZC4KICBpbnB1dEVsZW1lbnQuZGlzYWJsZWQgPSB0cnVlOwoKICBpZiAoIWZpbGVzKSB7CiAgICByZXR1cm4gewogICAgICByZXNwb25zZTogewogICAgICAgIGFjdGlvbjogJ2NvbXBsZXRlJywKICAgICAgfQogICAgfTsKICB9CgogIGZvciAoY29uc3QgZmlsZSBvZiBmaWxlcykgewogICAgY29uc3QgbGkgPSBkb2N1bWVudC5jcmVhdGVFbGVtZW50KCdsaScpOwogICAgbGkuYXBwZW5kKHNwYW4oZmlsZS5uYW1lLCB7Zm9udFdlaWdodDogJ2JvbGQnfSkpOwogICAgbGkuYXBwZW5kKHNwYW4oCiAgICAgICAgYCgke2ZpbGUudHlwZSB8fCAnbi9hJ30pIC0gJHtmaWxlLnNpemV9IGJ5dGVzLCBgICsKICAgICAgICBgbGFzdCBtb2RpZmllZDogJHsKICAgICAgICAgICAgZmlsZS5sYXN0TW9kaWZpZWREYXRlID8gZmlsZS5sYXN0TW9kaWZpZWREYXRlLnRvTG9jYWxlRGF0ZVN0cmluZygpIDoKICAgICAgICAgICAgICAgICAgICAgICAgICAgICAgICAgICAgJ24vYSd9IC0gYCkpOwogICAgY29uc3QgcGVyY2VudCA9IHNwYW4oJzAlIGRvbmUnKTsKICAgIGxpLmFwcGVuZENoaWxkKHBlcmNlbnQpOwoKICAgIG91dHB1dEVsZW1lbnQuYXBwZW5kQ2hpbGQobGkpOwoKICAgIGNvbnN0IGZpbGVEYXRhUHJvbWlzZSA9IG5ldyBQcm9taXNlKChyZXNvbHZlKSA9PiB7CiAgICAgIGNvbnN0IHJlYWRlciA9IG5ldyBGaWxlUmVhZGVyKCk7CiAgICAgIHJlYWRlci5vbmxvYWQgPSAoZSkgPT4gewogICAgICAgIHJlc29sdmUoZS50YXJnZXQucmVzdWx0KTsKICAgICAgfTsKICAgICAgcmVhZGVyLnJlYWRBc0FycmF5QnVmZmVyKGZpbGUpOwogICAgfSk7CiAgICAvLyBXYWl0IGZvciB0aGUgZGF0YSB0byBiZSByZWFkeS4KICAgIGxldCBmaWxlRGF0YSA9IHlpZWxkIHsKICAgICAgcHJvbWlzZTogZmlsZURhdGFQcm9taXNlLAogICAgICByZXNwb25zZTogewogICAgICAgIGFjdGlvbjogJ2NvbnRpbnVlJywKICAgICAgfQogICAgfTsKCiAgICAvLyBVc2UgYSBjaHVua2VkIHNlbmRpbmcgdG8gYXZvaWQgbWVzc2FnZSBzaXplIGxpbWl0cy4gU2VlIGIvNjIxMTU2NjAuCiAgICBsZXQgcG9zaXRpb24gPSAwOwogICAgd2hpbGUgKHBvc2l0aW9uIDwgZmlsZURhdGEuYnl0ZUxlbmd0aCkgewogICAgICBjb25zdCBsZW5ndGggPSBNYXRoLm1pbihmaWxlRGF0YS5ieXRlTGVuZ3RoIC0gcG9zaXRpb24sIE1BWF9QQVlMT0FEX1NJWkUpOwogICAgICBjb25zdCBjaHVuayA9IG5ldyBVaW50OEFycmF5KGZpbGVEYXRhLCBwb3NpdGlvbiwgbGVuZ3RoKTsKICAgICAgcG9zaXRpb24gKz0gbGVuZ3RoOwoKICAgICAgY29uc3QgYmFzZTY0ID0gYnRvYShTdHJpbmcuZnJvbUNoYXJDb2RlLmFwcGx5KG51bGwsIGNodW5rKSk7CiAgICAgIHlpZWxkIHsKICAgICAgICByZXNwb25zZTogewogICAgICAgICAgYWN0aW9uOiAnYXBwZW5kJywKICAgICAgICAgIGZpbGU6IGZpbGUubmFtZSwKICAgICAgICAgIGRhdGE6IGJhc2U2NCwKICAgICAgICB9LAogICAgICB9OwogICAgICBwZXJjZW50LnRleHRDb250ZW50ID0KICAgICAgICAgIGAke01hdGgucm91bmQoKHBvc2l0aW9uIC8gZmlsZURhdGEuYnl0ZUxlbmd0aCkgKiAxMDApfSUgZG9uZWA7CiAgICB9CiAgfQoKICAvLyBBbGwgZG9uZS4KICB5aWVsZCB7CiAgICByZXNwb25zZTogewogICAgICBhY3Rpb246ICdjb21wbGV0ZScsCiAgICB9CiAgfTsKfQoKc2NvcGUuZ29vZ2xlID0gc2NvcGUuZ29vZ2xlIHx8IHt9OwpzY29wZS5nb29nbGUuY29sYWIgPSBzY29wZS5nb29nbGUuY29sYWIgfHwge307CnNjb3BlLmdvb2dsZS5jb2xhYi5fZmlsZXMgPSB7CiAgX3VwbG9hZEZpbGVzLAogIF91cGxvYWRGaWxlc0NvbnRpbnVlLAp9Owp9KShzZWxmKTsK",
       "headers": [
        [
         "content-type",
         "application/javascript"
        ]
       ],
       "ok": true,
       "status": 200,
       "status_text": ""
      }
     }
    },
    "id": "e3kpwYicHhhf",
    "outputId": "ae157216-918f-4b5e-f5d8-4387e6e73ab3"
   },
   "outputs": [
    {
     "data": {
      "text/html": [
       "<div>\n",
       "<style scoped>\n",
       "    .dataframe tbody tr th:only-of-type {\n",
       "        vertical-align: middle;\n",
       "    }\n",
       "\n",
       "    .dataframe tbody tr th {\n",
       "        vertical-align: top;\n",
       "    }\n",
       "\n",
       "    .dataframe thead th {\n",
       "        text-align: right;\n",
       "    }\n",
       "</style>\n",
       "<table border=\"1\" class=\"dataframe\">\n",
       "  <thead>\n",
       "    <tr style=\"text-align: right;\">\n",
       "      <th></th>\n",
       "      <th>Arithmetic Intensity</th>\n",
       "      <th>Total Flops</th>\n",
       "      <th>Time (s)</th>\n",
       "      <th>Cycles</th>\n",
       "      <th>Label</th>\n",
       "      <th>Gflops/Sec</th>\n",
       "    </tr>\n",
       "  </thead>\n",
       "  <tbody>\n",
       "    <tr>\n",
       "      <th>0</th>\n",
       "      <td>1.062802</td>\n",
       "      <td>4.600000e+10</td>\n",
       "      <td>1.290982</td>\n",
       "      <td>4389488980</td>\n",
       "      <td>p2z niter 5  g++ 9</td>\n",
       "      <td>35.631790</td>\n",
       "    </tr>\n",
       "    <tr>\n",
       "      <th>1</th>\n",
       "      <td>1.062802</td>\n",
       "      <td>9.200000e+10</td>\n",
       "      <td>2.707726</td>\n",
       "      <td>8472444802</td>\n",
       "      <td>p2z niter 10 g++ 9</td>\n",
       "      <td>33.976850</td>\n",
       "    </tr>\n",
       "    <tr>\n",
       "      <th>2</th>\n",
       "      <td>1.425086</td>\n",
       "      <td>6.140000e+10</td>\n",
       "      <td>0.412815</td>\n",
       "      <td>1183696731</td>\n",
       "      <td>p2z niter 5  intel 19</td>\n",
       "      <td>148.734905</td>\n",
       "    </tr>\n",
       "    <tr>\n",
       "      <th>3</th>\n",
       "      <td>1.396698</td>\n",
       "      <td>1.230000e+11</td>\n",
       "      <td>0.826246</td>\n",
       "      <td>2493241479</td>\n",
       "      <td>p2z niter 10 intel 19</td>\n",
       "      <td>148.866076</td>\n",
       "    </tr>\n",
       "    <tr>\n",
       "      <th>4</th>\n",
       "      <td>1.060390</td>\n",
       "      <td>4.580000e+10</td>\n",
       "      <td>3.053156</td>\n",
       "      <td>10357917667</td>\n",
       "      <td>p2z niter 5  intel 19 scalar</td>\n",
       "      <td>15.000871</td>\n",
       "    </tr>\n",
       "  </tbody>\n",
       "</table>\n",
       "</div>"
      ],
      "text/plain": [
       "   Arithmetic Intensity   Total Flops  Time (s)       Cycles  \\\n",
       "0              1.062802  4.600000e+10  1.290982   4389488980   \n",
       "1              1.062802  9.200000e+10  2.707726   8472444802   \n",
       "2              1.425086  6.140000e+10  0.412815   1183696731   \n",
       "3              1.396698  1.230000e+11  0.826246   2493241479   \n",
       "4              1.060390  4.580000e+10  3.053156  10357917667   \n",
       "\n",
       "                          Label  Gflops/Sec  \n",
       "0            p2z niter 5  g++ 9   35.631790  \n",
       "1            p2z niter 10 g++ 9   33.976850  \n",
       "2         p2z niter 5  intel 19  148.734905  \n",
       "3         p2z niter 10 intel 19  148.866076  \n",
       "4  p2z niter 5  intel 19 scalar   15.000871  "
      ]
     },
     "execution_count": 39,
     "metadata": {},
     "output_type": "execute_result"
    }
   ],
   "source": [
    "# GOOGLE COLAB\n",
    "# Load the csv file\n",
    "#from google.colab import files\n",
    "#uploaded = files.upload()\n",
    "# Load \n",
    "#csv_filename = \"app_data.csv\"\n",
    "#app_df = pd.read_csv(csv_filename)\n",
    "\n",
    "# JUPYTER NOTEBOOK\n",
    "csv_filename = \"app_data.csv\"\n",
    "#csv_filename = \"n_body_a64.csv\"\n",
    "with open(csv_filename) as csv_file:\n",
    "    app_df = pd.read_csv(csv_file)\n",
    "# data\n",
    "\n",
    "app_df['Gflops/Sec'] = (app_df['Total Flops']/app_df['Time (s)'])/1000000000\n",
    "app_df"
   ]
  },
  {
   "cell_type": "code",
   "execution_count": 40,
   "metadata": {
    "colab": {
     "base_uri": "https://localhost:8080/",
     "height": 526
    },
    "id": "Q3tXm2jVJLKn",
    "outputId": "857c10e3-84fa-45b0-f68c-514c3990db55"
   },
   "outputs": [
    {
     "data": {
      "image/png": "[encoded data removed]",
      "text/plain": [
       "<Figure size 720x720 with 1 Axes>"
      ]
     },
     "metadata": {},
     "output_type": "display_data"
    }
   ],
   "source": [
    "# calculate the axes scale\n",
    "xmin =   0.01\n",
    "xmax = 100.00\n",
    "ymin = 10 # default - change this?\n",
    "ymin = 10 ** int(math.floor(math.log10(g_df['slope'][0]*xmin)))\n",
    "ymax = ymin ** int(math.floor(math.log10(g_df['slope'][0]*10)))\n",
    "\n",
    "#calculate the midpoints for labels\n",
    "xmid = math.sqrt(xmin * xmax)\n",
    "ymid = g_df['slope'][0] * xmid\n",
    "y0gbytes = ymid\n",
    "x0gbytes = y0gbytes/g_df['slope'][0]\n",
    "alpha = 1.065\n",
    "\n",
    "# general plot settings\n",
    "title = \"Empirical Roofline Graph \"\n",
    "sns.set(rc={'figure.figsize':(10,10)})\n",
    "palette = sns.color_palette( \"Dark2\", int(len(g_df)/2))\n",
    "\n",
    "# plot the lines\n",
    "ax = sns.lineplot(data=g_df, x=\"x\", y=\"y\", hue=\"label\",palette=palette)\n",
    "ax.set(xlabel='FLOPs / Byte', ylabel='GFLOPs / Second')\n",
    "ax.set(xscale=\"log\", yscale=\"log\", xlim=(xmin, xmax), ylim=(ymin,ymax))\n",
    "\n",
    "# plot the line label(s)\n",
    "for i in range(len(gflops_df.name.unique())):\n",
    "    ax.text(xmax, y0gbytes*alpha, g_df['label'][i], size='medium', ha=\"right\")\n",
    "for index in range(len(gbytes_df.name.unique())):\n",
    "    mem = gbytes_df['name'][index]\n",
    "    (xmax, slope) = max([(gbytes_df['x'][i],gbytes_df['slope'][i]) for i in range(len(gbytes_df['x'])) if gbytes_df['name'][i]==mem])\n",
    "    xmid = math.sqrt(xmin * xmax)\n",
    "    ymid = slope * xmid\n",
    "    y0gbytes = ymid\n",
    "    x0gbytes = y0gbytes/slope\n",
    "    alpha = 1.1\n",
    "    #angle = math.degrees(math.atan(slope))/2\n",
    "    ax.text(x0gbytes, y0gbytes*alpha, gbytes_df['label'][index], size='medium', rotation=45)\n",
    "\n",
    "# plot the application information\n",
    "ax = sns.scatterplot(x=app_df['Arithmetic Intensity'], y=app_df['Gflops/Sec'], style=app_df['Label'], hue=app_df['Label'])\n",
    "\n",
    "ax.grid(b=True, which='both',)\n",
    "ax.set_title(title, size='large')\n",
    "ax.legend(loc=\"lower right\")\n",
    "\n",
    "# save if desired\n",
    "ax.figure.savefig(\"roofline.svg\")\n",
    "plt.show()"
   ]
  },
  {
   "cell_type": "code",
   "execution_count": 43,
   "metadata": {
    "id": "xv8fQMJ1POw5"
   },
   "outputs": [
    {
     "data": {
      "image/png": "[encoded data removed]",
      "text/plain": [
       "<Figure size 720x720 with 1 Axes>"
      ]
     },
     "metadata": {},
     "output_type": "display_data"
    }
   ],
   "source": [
    "# # calculate the axes scale\n",
    "# xmin =   0.01\n",
    "# xmax = 100.00\n",
    "# ymin = 10 # default - change this?\n",
    "# ymin = 10 ** int(math.floor(math.log10(g_df['slope'][0]*xmin)))\n",
    "# ymax = ymin ** int(math.floor(math.log10(g_df['slope'][0]*10)))\n",
    "\n",
    "# #calculate the midpoints for labels\n",
    "# xmid = math.sqrt(xmin * xmax)\n",
    "# ymid = g_df['slope'][0] * xmid\n",
    "# y0gbytes = ymid\n",
    "# x0gbytes = y0gbytes/g_df['slope'][0]\n",
    "# alpha = 1.065\n",
    "\n",
    "xmin =   0.01\n",
    "xmax = 100.00\n",
    "ymin = 10 ** int(math.floor(math.log10(g_df['slope'][0]*xmin)))\n",
    "ymax = ymin ** int(math.floor(math.log10(g_df['slope'][0]*10)))\n",
    "\n",
    "#calculate the midpoints for labels\n",
    "xmid = math.sqrt(xmin * xmax)\n",
    "ymid = g_df['slope'][0] * xmid\n",
    "y0gbytes = ymid\n",
    "x0gbytes = y0gbytes/g_df['slope'][0]\n",
    "alpha = 1.065\n",
    "\n",
    "\n",
    "# general plot settings\n",
    "title = \"Empirical Roofline Graph \"\n",
    "#sns.set(rc={'figure.figsize':(12,8)})\n",
    "palette = sns.color_palette( \"Dark2\", int(len(g_df)/2))\n",
    "\n",
    "# plot the lines\n",
    "ax = sns.lineplot(data=g_df, x=\"x\", y=\"y\", hue=\"label\",palette=palette)\n",
    "ax.set(xlabel='FLOPs / Byte', ylabel='GFLOPs / Second')\n",
    "ax.set(xscale=\"log\", yscale=\"log\", xlim=(xmin, xmax), ylim=(ymin,ymax))\n",
    "#ax = sns.lineplot(x=[0.85849, 0.85849], y=[0.0,1406.31], palette=\"Dark2_r\")\n",
    "#print(len(ax.lines))\n",
    "#ax.lines[4].set_linestyle(\"--\")\n",
    "\n",
    "# plot the line label(s)\n",
    "for i in range(len(gflops_df.name.unique())):\n",
    "    ax.text(xmax, y0gbytes*alpha, g_df['label'][i], size='medium', ha=\"right\")\n",
    "for index in range(len(gbytes_df.name.unique())):\n",
    "    mem = gbytes_df['name'][index]\n",
    "    (xmax, slope) = max([(gbytes_df['x'][i],gbytes_df['slope'][i]) for i in range(len(gbytes_df['x'])) if gbytes_df['name'][i]==mem])\n",
    "    xmid = math.sqrt(xmin * xmax)\n",
    "    ymid = slope * xmid\n",
    "    y0gbytes = ymid\n",
    "    x0gbytes = y0gbytes/slope\n",
    "    alpha = 1.2\n",
    "    #angle = math.degrees(math.atan(slope))/2\n",
    "    ax.text(x0gbytes, y0gbytes*alpha, gbytes_df['label'][index], size='medium', rotation=42)\n",
    "\n",
    "ax.grid(b=True, which='both',)\n",
    "ax.set_title(title, size='large')\n",
    "ax.legend(loc=\"lower right\")\n",
    "\n",
    "#ymaxx = 1-(1406.31/10000)\n",
    "#plt.axvline(x=0.85849, ymax=.72,  color=\"k\", linestyle='--', )\n",
    "#ax.text(0.85849*0.8, y0gbytes, \"Machine Balance\", size='medium', rotation=90)\n",
    "\n",
    "# save if desired\n",
    "ax.figure.savefig(\"roofline.svg\")\n",
    "plt.show()"
   ]
  },
  {
   "cell_type": "markdown",
   "metadata": {
    "id": "mqscaFybfupc"
   },
   "source": [
    "### Plotly Version (Work in Progress)"
   ]
  },
  {
   "cell_type": "code",
   "execution_count": 42,
   "metadata": {
    "id": "NZryeHPZZEDt"
   },
   "outputs": [
    {
     "data": {
      "application/vnd.plotly.v1+json": {
       "config": {
        "plotlyServerURL": "https://plot.ly"
       },
       "data": [
        {
         "mode": "lines",
         "name": "FP64 GFLOPs 2772.78 GFLOPs/s",
         "type": "scatter",
         "x": [
          100,
          0.33571041135960794
         ],
         "y": [
          2772.78,
          2772.78
         ]
        },
        {
         "mode": "lines",
         "name": "L1 8259.44 GB/s",
         "type": "scatter",
         "x": [
          0,
          0.33571041135960794
         ],
         "y": [
          0,
          2772.78
         ]
        },
        {
         "mode": "lines",
         "name": "L2 3120.85 GB/s",
         "type": "scatter",
         "x": [
          0,
          0.8884694874793727
         ],
         "y": [
          0,
          2772.78
         ]
        },
        {
         "mode": "lines",
         "name": "DRAM 200.3 GB/s",
         "type": "scatter",
         "x": [
          0,
          13.843135297054419
         ],
         "y": [
          0,
          2772.78
         ]
        }
       ],
       "layout": {
        "annotations": [
         {
          "showarrow": false,
          "text": "FP64 GFLOPs2772.78",
          "textangle": -45,
          "x": 0.3720636410219953,
          "xref": "paper",
          "y": 1031.6506225529681,
          "yref": "paper"
         },
         {
          "showarrow": false,
          "text": "L18259.44",
          "textangle": -45,
          "x": 0.3720636410219953,
          "xref": "paper",
          "y": 3073.037319202709,
          "yref": "paper"
         },
         {
          "showarrow": false,
          "text": "L23120.85",
          "textangle": -45,
          "x": 0.37206364102199524,
          "xref": "paper",
          "y": 1161.1548140834939,
          "yref": "paper"
         },
         {
          "showarrow": false,
          "text": "DRAM200.3",
          "textangle": -45,
          "x": 0.37206364102199524,
          "xref": "paper",
          "y": 74.52434729670566,
          "yref": "paper"
         }
        ],
        "autosize": false,
        "height": 800,
        "template": {
         "data": {
          "bar": [
           {
            "error_x": {
             "color": "#2a3f5f"
            },
            "error_y": {
             "color": "#2a3f5f"
            },
            "marker": {
             "line": {
              "color": "#E5ECF6",
              "width": 0.5
             }
            },
            "type": "bar"
           }
          ],
          "barpolar": [
           {
            "marker": {
             "line": {
              "color": "#E5ECF6",
              "width": 0.5
             }
            },
            "type": "barpolar"
           }
          ],
          "carpet": [
           {
            "aaxis": {
             "endlinecolor": "#2a3f5f",
             "gridcolor": "white",
             "linecolor": "white",
             "minorgridcolor": "white",
             "startlinecolor": "#2a3f5f"
            },
            "baxis": {
             "endlinecolor": "#2a3f5f",
             "gridcolor": "white",
             "linecolor": "white",
             "minorgridcolor": "white",
             "startlinecolor": "#2a3f5f"
            },
            "type": "carpet"
           }
          ],
          "choropleth": [
           {
            "colorbar": {
             "outlinewidth": 0,
             "ticks": ""
            },
            "type": "choropleth"
           }
          ],
          "contour": [
           {
            "colorbar": {
             "outlinewidth": 0,
             "ticks": ""
            },
            "colorscale": [
             [
              0,
              "#0d0887"
             ],
             [
              0.1111111111111111,
              "#46039f"
             ],
             [
              0.2222222222222222,
              "#7201a8"
             ],
             [
              0.3333333333333333,
              "#9c179e"
             ],
             [
              0.4444444444444444,
              "#bd3786"
             ],
             [
              0.5555555555555556,
              "#d8576b"
             ],
             [
              0.6666666666666666,
              "#ed7953"
             ],
             [
              0.7777777777777778,
              "#fb9f3a"
             ],
             [
              0.8888888888888888,
              "#fdca26"
             ],
             [
              1,
              "#f0f921"
             ]
            ],
            "type": "contour"
           }
          ],
          "contourcarpet": [
           {
            "colorbar": {
             "outlinewidth": 0,
             "ticks": ""
            },
            "type": "contourcarpet"
           }
          ],
          "heatmap": [
           {
            "colorbar": {
             "outlinewidth": 0,
             "ticks": ""
            },
            "colorscale": [
             [
              0,
              "#0d0887"
             ],
             [
              0.1111111111111111,
              "#46039f"
             ],
             [
              0.2222222222222222,
              "#7201a8"
             ],
             [
              0.3333333333333333,
              "#9c179e"
             ],
             [
              0.4444444444444444,
              "#bd3786"
             ],
             [
              0.5555555555555556,
              "#d8576b"
             ],
             [
              0.6666666666666666,
              "#ed7953"
             ],
             [
              0.7777777777777778,
              "#fb9f3a"
             ],
             [
              0.8888888888888888,
              "#fdca26"
             ],
             [
              1,
              "#f0f921"
             ]
            ],
            "type": "heatmap"
           }
          ],
          "heatmapgl": [
           {
            "colorbar": {
             "outlinewidth": 0,
             "ticks": ""
            },
            "colorscale": [
             [
              0,
              "#0d0887"
             ],
             [
              0.1111111111111111,
              "#46039f"
             ],
             [
              0.2222222222222222,
              "#7201a8"
             ],
             [
              0.3333333333333333,
              "#9c179e"
             ],
             [
              0.4444444444444444,
              "#bd3786"
             ],
             [
              0.5555555555555556,
              "#d8576b"
             ],
             [
              0.6666666666666666,
              "#ed7953"
             ],
             [
              0.7777777777777778,
              "#fb9f3a"
             ],
             [
              0.8888888888888888,
              "#fdca26"
             ],
             [
              1,
              "#f0f921"
             ]
            ],
            "type": "heatmapgl"
           }
          ],
          "histogram": [
           {
            "marker": {
             "colorbar": {
              "outlinewidth": 0,
              "ticks": ""
             }
            },
            "type": "histogram"
           }
          ],
          "histogram2d": [
           {
            "colorbar": {
             "outlinewidth": 0,
             "ticks": ""
            },
            "colorscale": [
             [
              0,
              "#0d0887"
             ],
             [
              0.1111111111111111,
              "#46039f"
             ],
             [
              0.2222222222222222,
              "#7201a8"
             ],
             [
              0.3333333333333333,
              "#9c179e"
             ],
             [
              0.4444444444444444,
              "#bd3786"
             ],
             [
              0.5555555555555556,
              "#d8576b"
             ],
             [
              0.6666666666666666,
              "#ed7953"
             ],
             [
              0.7777777777777778,
              "#fb9f3a"
             ],
             [
              0.8888888888888888,
              "#fdca26"
             ],
             [
              1,
              "#f0f921"
             ]
            ],
            "type": "histogram2d"
           }
          ],
          "histogram2dcontour": [
           {
            "colorbar": {
             "outlinewidth": 0,
             "ticks": ""
            },
            "colorscale": [
             [
              0,
              "#0d0887"
             ],
             [
              0.1111111111111111,
              "#46039f"
             ],
             [
              0.2222222222222222,
              "#7201a8"
             ],
             [
              0.3333333333333333,
              "#9c179e"
             ],
             [
              0.4444444444444444,
              "#bd3786"
             ],
             [
              0.5555555555555556,
              "#d8576b"
             ],
             [
              0.6666666666666666,
              "#ed7953"
             ],
             [
              0.7777777777777778,
              "#fb9f3a"
             ],
             [
              0.8888888888888888,
              "#fdca26"
             ],
             [
              1,
              "#f0f921"
             ]
            ],
            "type": "histogram2dcontour"
           }
          ],
          "mesh3d": [
           {
            "colorbar": {
             "outlinewidth": 0,
             "ticks": ""
            },
            "type": "mesh3d"
           }
          ],
          "parcoords": [
           {
            "line": {
             "colorbar": {
              "outlinewidth": 0,
              "ticks": ""
             }
            },
            "type": "parcoords"
           }
          ],
          "pie": [
           {
            "automargin": true,
            "type": "pie"
           }
          ],
          "scatter": [
           {
            "marker": {
             "colorbar": {
              "outlinewidth": 0,
              "ticks": ""
             }
            },
            "type": "scatter"
           }
          ],
          "scatter3d": [
           {
            "line": {
             "colorbar": {
              "outlinewidth": 0,
              "ticks": ""
             }
            },
            "marker": {
             "colorbar": {
              "outlinewidth": 0,
              "ticks": ""
             }
            },
            "type": "scatter3d"
           }
          ],
          "scattercarpet": [
           {
            "marker": {
             "colorbar": {
              "outlinewidth": 0,
              "ticks": ""
             }
            },
            "type": "scattercarpet"
           }
          ],
          "scattergeo": [
           {
            "marker": {
             "colorbar": {
              "outlinewidth": 0,
              "ticks": ""
             }
            },
            "type": "scattergeo"
           }
          ],
          "scattergl": [
           {
            "marker": {
             "colorbar": {
              "outlinewidth": 0,
              "ticks": ""
             }
            },
            "type": "scattergl"
           }
          ],
          "scattermapbox": [
           {
            "marker": {
             "colorbar": {
              "outlinewidth": 0,
              "ticks": ""
             }
            },
            "type": "scattermapbox"
           }
          ],
          "scatterpolar": [
           {
            "marker": {
             "colorbar": {
              "outlinewidth": 0,
              "ticks": ""
             }
            },
            "type": "scatterpolar"
           }
          ],
          "scatterpolargl": [
           {
            "marker": {
             "colorbar": {
              "outlinewidth": 0,
              "ticks": ""
             }
            },
            "type": "scatterpolargl"
           }
          ],
          "scatterternary": [
           {
            "marker": {
             "colorbar": {
              "outlinewidth": 0,
              "ticks": ""
             }
            },
            "type": "scatterternary"
           }
          ],
          "surface": [
           {
            "colorbar": {
             "outlinewidth": 0,
             "ticks": ""
            },
            "colorscale": [
             [
              0,
              "#0d0887"
             ],
             [
              0.1111111111111111,
              "#46039f"
             ],
             [
              0.2222222222222222,
              "#7201a8"
             ],
             [
              0.3333333333333333,
              "#9c179e"
             ],
             [
              0.4444444444444444,
              "#bd3786"
             ],
             [
              0.5555555555555556,
              "#d8576b"
             ],
             [
              0.6666666666666666,
              "#ed7953"
             ],
             [
              0.7777777777777778,
              "#fb9f3a"
             ],
             [
              0.8888888888888888,
              "#fdca26"
             ],
             [
              1,
              "#f0f921"
             ]
            ],
            "type": "surface"
           }
          ],
          "table": [
           {
            "cells": {
             "fill": {
              "color": "#EBF0F8"
             },
             "line": {
              "color": "white"
             }
            },
            "header": {
             "fill": {
              "color": "#C8D4E3"
             },
             "line": {
              "color": "white"
             }
            },
            "type": "table"
           }
          ]
         },
         "layout": {
          "annotationdefaults": {
           "arrowcolor": "#2a3f5f",
           "arrowhead": 0,
           "arrowwidth": 1
          },
          "autotypenumbers": "strict",
          "coloraxis": {
           "colorbar": {
            "outlinewidth": 0,
            "ticks": ""
           }
          },
          "colorscale": {
           "diverging": [
            [
             0,
             "#8e0152"
            ],
            [
             0.1,
             "#c51b7d"
            ],
            [
             0.2,
             "#de77ae"
            ],
            [
             0.3,
             "#f1b6da"
            ],
            [
             0.4,
             "#fde0ef"
            ],
            [
             0.5,
             "#f7f7f7"
            ],
            [
             0.6,
             "#e6f5d0"
            ],
            [
             0.7,
             "#b8e186"
            ],
            [
             0.8,
             "#7fbc41"
            ],
            [
             0.9,
             "#4d9221"
            ],
            [
             1,
             "#276419"
            ]
           ],
           "sequential": [
            [
             0,
             "#0d0887"
            ],
            [
             0.1111111111111111,
             "#46039f"
            ],
            [
             0.2222222222222222,
             "#7201a8"
            ],
            [
             0.3333333333333333,
             "#9c179e"
            ],
            [
             0.4444444444444444,
             "#bd3786"
            ],
            [
             0.5555555555555556,
             "#d8576b"
            ],
            [
             0.6666666666666666,
             "#ed7953"
            ],
            [
             0.7777777777777778,
             "#fb9f3a"
            ],
            [
             0.8888888888888888,
             "#fdca26"
            ],
            [
             1,
             "#f0f921"
            ]
           ],
           "sequentialminus": [
            [
             0,
             "#0d0887"
            ],
            [
             0.1111111111111111,
             "#46039f"
            ],
            [
             0.2222222222222222,
             "#7201a8"
            ],
            [
             0.3333333333333333,
             "#9c179e"
            ],
            [
             0.4444444444444444,
             "#bd3786"
            ],
            [
             0.5555555555555556,
             "#d8576b"
            ],
            [
             0.6666666666666666,
             "#ed7953"
            ],
            [
             0.7777777777777778,
             "#fb9f3a"
            ],
            [
             0.8888888888888888,
             "#fdca26"
            ],
            [
             1,
             "#f0f921"
            ]
           ]
          },
          "colorway": [
           "#636efa",
           "#EF553B",
           "#00cc96",
           "#ab63fa",
           "#FFA15A",
           "#19d3f3",
           "#FF6692",
           "#B6E880",
           "#FF97FF",
           "#FECB52"
          ],
          "font": {
           "color": "#2a3f5f"
          },
          "geo": {
           "bgcolor": "white",
           "lakecolor": "white",
           "landcolor": "#E5ECF6",
           "showlakes": true,
           "showland": true,
           "subunitcolor": "white"
          },
          "hoverlabel": {
           "align": "left"
          },
          "hovermode": "closest",
          "mapbox": {
           "style": "light"
          },
          "paper_bgcolor": "white",
          "plot_bgcolor": "#E5ECF6",
          "polar": {
           "angularaxis": {
            "gridcolor": "white",
            "linecolor": "white",
            "ticks": ""
           },
           "bgcolor": "#E5ECF6",
           "radialaxis": {
            "gridcolor": "white",
            "linecolor": "white",
            "ticks": ""
           }
          },
          "scene": {
           "xaxis": {
            "backgroundcolor": "#E5ECF6",
            "gridcolor": "white",
            "gridwidth": 2,
            "linecolor": "white",
            "showbackground": true,
            "ticks": "",
            "zerolinecolor": "white"
           },
           "yaxis": {
            "backgroundcolor": "#E5ECF6",
            "gridcolor": "white",
            "gridwidth": 2,
            "linecolor": "white",
            "showbackground": true,
            "ticks": "",
            "zerolinecolor": "white"
           },
           "zaxis": {
            "backgroundcolor": "#E5ECF6",
            "gridcolor": "white",
            "gridwidth": 2,
            "linecolor": "white",
            "showbackground": true,
            "ticks": "",
            "zerolinecolor": "white"
           }
          },
          "shapedefaults": {
           "line": {
            "color": "#2a3f5f"
           }
          },
          "ternary": {
           "aaxis": {
            "gridcolor": "white",
            "linecolor": "white",
            "ticks": ""
           },
           "baxis": {
            "gridcolor": "white",
            "linecolor": "white",
            "ticks": ""
           },
           "bgcolor": "#E5ECF6",
           "caxis": {
            "gridcolor": "white",
            "linecolor": "white",
            "ticks": ""
           }
          },
          "title": {
           "x": 0.05
          },
          "xaxis": {
           "automargin": true,
           "gridcolor": "white",
           "linecolor": "white",
           "ticks": "",
           "title": {
            "standoff": 15
           },
           "zerolinecolor": "white",
           "zerolinewidth": 2
          },
          "yaxis": {
           "automargin": true,
           "gridcolor": "white",
           "linecolor": "white",
           "ticks": "",
           "title": {
            "standoff": 15
           },
           "zerolinecolor": "white",
           "zerolinewidth": 2
          }
         }
        },
        "title": {
         "text": "Empirical Roofline Graph"
        },
        "width": 1200,
        "xaxis": {
         "range": [
          -1,
          2
         ],
         "title": {
          "text": "FLOPs / Byte"
         },
         "type": "log"
        },
        "yaxis": {
         "range": [
          1,
          4
         ],
         "title": {
          "text": "GFLOPs / Second"
         },
         "type": "log"
        }
       }
      },
      "text/html": [
       "<div>                            <div id=\"558ef1db-3582-4618-a2de-5933308d0d5d\" class=\"plotly-graph-div\" style=\"height:800px; width:1200px;\"></div>            <script type=\"text/javascript\">                require([\"plotly\"], function(Plotly) {                    window.PLOTLYENV=window.PLOTLYENV || {};                                    if (document.getElementById(\"558ef1db-3582-4618-a2de-5933308d0d5d\")) {                    Plotly.newPlot(                        \"558ef1db-3582-4618-a2de-5933308d0d5d\",                        [{\"mode\": \"lines\", \"name\": \"FP64 GFLOPs 2772.78 GFLOPs/s\", \"type\": \"scatter\", \"x\": [100.0, 0.33571041135960794], \"y\": [2772.78, 2772.78]}, {\"mode\": \"lines\", \"name\": \"L1 8259.44 GB/s\", \"type\": \"scatter\", \"x\": [0.0, 0.33571041135960794], \"y\": [0.0, 2772.78]}, {\"mode\": \"lines\", \"name\": \"L2 3120.85 GB/s\", \"type\": \"scatter\", \"x\": [0.0, 0.8884694874793727], \"y\": [0.0, 2772.78]}, {\"mode\": \"lines\", \"name\": \"DRAM 200.3 GB/s\", \"type\": \"scatter\", \"x\": [0.0, 13.843135297054419], \"y\": [0.0, 2772.78]}],                        {\"annotations\": [{\"showarrow\": false, \"text\": \"FP64 GFLOPs2772.78\", \"textangle\": -45, \"x\": 0.3720636410219953, \"xref\": \"paper\", \"y\": 1031.6506225529681, \"yref\": \"paper\"}, {\"showarrow\": false, \"text\": \"L18259.44\", \"textangle\": -45, \"x\": 0.3720636410219953, \"xref\": \"paper\", \"y\": 3073.037319202709, \"yref\": \"paper\"}, {\"showarrow\": false, \"text\": \"L23120.85\", \"textangle\": -45, \"x\": 0.37206364102199524, \"xref\": \"paper\", \"y\": 1161.1548140834939, \"yref\": \"paper\"}, {\"showarrow\": false, \"text\": \"DRAM200.3\", \"textangle\": -45, \"x\": 0.37206364102199524, \"xref\": \"paper\", \"y\": 74.52434729670566, \"yref\": \"paper\"}], \"autosize\": false, \"height\": 800, \"template\": {\"data\": {\"bar\": [{\"error_x\": {\"color\": \"#2a3f5f\"}, \"error_y\": {\"color\": \"#2a3f5f\"}, \"marker\": {\"line\": {\"color\": \"#E5ECF6\", \"width\": 0.5}}, \"type\": \"bar\"}], \"barpolar\": [{\"marker\": {\"line\": {\"color\": \"#E5ECF6\", \"width\": 0.5}}, \"type\": \"barpolar\"}], \"carpet\": [{\"aaxis\": {\"endlinecolor\": \"#2a3f5f\", \"gridcolor\": \"white\", \"linecolor\": \"white\", \"minorgridcolor\": \"white\", \"startlinecolor\": \"#2a3f5f\"}, \"baxis\": {\"endlinecolor\": \"#2a3f5f\", \"gridcolor\": \"white\", \"linecolor\": \"white\", \"minorgridcolor\": \"white\", \"startlinecolor\": \"#2a3f5f\"}, \"type\": \"carpet\"}], \"choropleth\": [{\"colorbar\": {\"outlinewidth\": 0, \"ticks\": \"\"}, \"type\": \"choropleth\"}], \"contour\": [{\"colorbar\": {\"outlinewidth\": 0, \"ticks\": \"\"}, \"colorscale\": [[0.0, \"#0d0887\"], [0.1111111111111111, \"#46039f\"], [0.2222222222222222, \"#7201a8\"], [0.3333333333333333, \"#9c179e\"], [0.4444444444444444, \"#bd3786\"], [0.5555555555555556, \"#d8576b\"], [0.6666666666666666, \"#ed7953\"], [0.7777777777777778, \"#fb9f3a\"], [0.8888888888888888, \"#fdca26\"], [1.0, \"#f0f921\"]], \"type\": \"contour\"}], \"contourcarpet\": [{\"colorbar\": {\"outlinewidth\": 0, \"ticks\": \"\"}, \"type\": \"contourcarpet\"}], \"heatmap\": [{\"colorbar\": {\"outlinewidth\": 0, \"ticks\": \"\"}, \"colorscale\": [[0.0, \"#0d0887\"], [0.1111111111111111, \"#46039f\"], [0.2222222222222222, \"#7201a8\"], [0.3333333333333333, \"#9c179e\"], [0.4444444444444444, \"#bd3786\"], [0.5555555555555556, \"#d8576b\"], [0.6666666666666666, \"#ed7953\"], [0.7777777777777778, \"#fb9f3a\"], [0.8888888888888888, \"#fdca26\"], [1.0, \"#f0f921\"]], \"type\": \"heatmap\"}], \"heatmapgl\": [{\"colorbar\": {\"outlinewidth\": 0, \"ticks\": \"\"}, \"colorscale\": [[0.0, \"#0d0887\"], [0.1111111111111111, \"#46039f\"], [0.2222222222222222, \"#7201a8\"], [0.3333333333333333, \"#9c179e\"], [0.4444444444444444, \"#bd3786\"], [0.5555555555555556, \"#d8576b\"], [0.6666666666666666, \"#ed7953\"], [0.7777777777777778, \"#fb9f3a\"], [0.8888888888888888, \"#fdca26\"], [1.0, \"#f0f921\"]], \"type\": \"heatmapgl\"}], \"histogram\": [{\"marker\": {\"colorbar\": {\"outlinewidth\": 0, \"ticks\": \"\"}}, \"type\": \"histogram\"}], \"histogram2d\": [{\"colorbar\": {\"outlinewidth\": 0, \"ticks\": \"\"}, \"colorscale\": [[0.0, \"#0d0887\"], [0.1111111111111111, \"#46039f\"], [0.2222222222222222, \"#7201a8\"], [0.3333333333333333, \"#9c179e\"], [0.4444444444444444, \"#bd3786\"], [0.5555555555555556, \"#d8576b\"], [0.6666666666666666, \"#ed7953\"], [0.7777777777777778, \"#fb9f3a\"], [0.8888888888888888, \"#fdca26\"], [1.0, \"#f0f921\"]], \"type\": \"histogram2d\"}], \"histogram2dcontour\": [{\"colorbar\": {\"outlinewidth\": 0, \"ticks\": \"\"}, \"colorscale\": [[0.0, \"#0d0887\"], [0.1111111111111111, \"#46039f\"], [0.2222222222222222, \"#7201a8\"], [0.3333333333333333, \"#9c179e\"], [0.4444444444444444, \"#bd3786\"], [0.5555555555555556, \"#d8576b\"], [0.6666666666666666, \"#ed7953\"], [0.7777777777777778, \"#fb9f3a\"], [0.8888888888888888, \"#fdca26\"], [1.0, \"#f0f921\"]], \"type\": \"histogram2dcontour\"}], \"mesh3d\": [{\"colorbar\": {\"outlinewidth\": 0, \"ticks\": \"\"}, \"type\": \"mesh3d\"}], \"parcoords\": [{\"line\": {\"colorbar\": {\"outlinewidth\": 0, \"ticks\": \"\"}}, \"type\": \"parcoords\"}], \"pie\": [{\"automargin\": true, \"type\": \"pie\"}], \"scatter\": [{\"marker\": {\"colorbar\": {\"outlinewidth\": 0, \"ticks\": \"\"}}, \"type\": \"scatter\"}], \"scatter3d\": [{\"line\": {\"colorbar\": {\"outlinewidth\": 0, \"ticks\": \"\"}}, \"marker\": {\"colorbar\": {\"outlinewidth\": 0, \"ticks\": \"\"}}, \"type\": \"scatter3d\"}], \"scattercarpet\": [{\"marker\": {\"colorbar\": {\"outlinewidth\": 0, \"ticks\": \"\"}}, \"type\": \"scattercarpet\"}], \"scattergeo\": [{\"marker\": {\"colorbar\": {\"outlinewidth\": 0, \"ticks\": \"\"}}, \"type\": \"scattergeo\"}], \"scattergl\": [{\"marker\": {\"colorbar\": {\"outlinewidth\": 0, \"ticks\": \"\"}}, \"type\": \"scattergl\"}], \"scattermapbox\": [{\"marker\": {\"colorbar\": {\"outlinewidth\": 0, \"ticks\": \"\"}}, \"type\": \"scattermapbox\"}], \"scatterpolar\": [{\"marker\": {\"colorbar\": {\"outlinewidth\": 0, \"ticks\": \"\"}}, \"type\": \"scatterpolar\"}], \"scatterpolargl\": [{\"marker\": {\"colorbar\": {\"outlinewidth\": 0, \"ticks\": \"\"}}, \"type\": \"scatterpolargl\"}], \"scatterternary\": [{\"marker\": {\"colorbar\": {\"outlinewidth\": 0, \"ticks\": \"\"}}, \"type\": \"scatterternary\"}], \"surface\": [{\"colorbar\": {\"outlinewidth\": 0, \"ticks\": \"\"}, \"colorscale\": [[0.0, \"#0d0887\"], [0.1111111111111111, \"#46039f\"], [0.2222222222222222, \"#7201a8\"], [0.3333333333333333, \"#9c179e\"], [0.4444444444444444, \"#bd3786\"], [0.5555555555555556, \"#d8576b\"], [0.6666666666666666, \"#ed7953\"], [0.7777777777777778, \"#fb9f3a\"], [0.8888888888888888, \"#fdca26\"], [1.0, \"#f0f921\"]], \"type\": \"surface\"}], \"table\": [{\"cells\": {\"fill\": {\"color\": \"#EBF0F8\"}, \"line\": {\"color\": \"white\"}}, \"header\": {\"fill\": {\"color\": \"#C8D4E3\"}, \"line\": {\"color\": \"white\"}}, \"type\": \"table\"}]}, \"layout\": {\"annotationdefaults\": {\"arrowcolor\": \"#2a3f5f\", \"arrowhead\": 0, \"arrowwidth\": 1}, \"autotypenumbers\": \"strict\", \"coloraxis\": {\"colorbar\": {\"outlinewidth\": 0, \"ticks\": \"\"}}, \"colorscale\": {\"diverging\": [[0, \"#8e0152\"], [0.1, \"#c51b7d\"], [0.2, \"#de77ae\"], [0.3, \"#f1b6da\"], [0.4, \"#fde0ef\"], [0.5, \"#f7f7f7\"], [0.6, \"#e6f5d0\"], [0.7, \"#b8e186\"], [0.8, \"#7fbc41\"], [0.9, \"#4d9221\"], [1, \"#276419\"]], \"sequential\": [[0.0, \"#0d0887\"], [0.1111111111111111, \"#46039f\"], [0.2222222222222222, \"#7201a8\"], [0.3333333333333333, \"#9c179e\"], [0.4444444444444444, \"#bd3786\"], [0.5555555555555556, \"#d8576b\"], [0.6666666666666666, \"#ed7953\"], [0.7777777777777778, \"#fb9f3a\"], [0.8888888888888888, \"#fdca26\"], [1.0, \"#f0f921\"]], \"sequentialminus\": [[0.0, \"#0d0887\"], [0.1111111111111111, \"#46039f\"], [0.2222222222222222, \"#7201a8\"], [0.3333333333333333, \"#9c179e\"], [0.4444444444444444, \"#bd3786\"], [0.5555555555555556, \"#d8576b\"], [0.6666666666666666, \"#ed7953\"], [0.7777777777777778, \"#fb9f3a\"], [0.8888888888888888, \"#fdca26\"], [1.0, \"#f0f921\"]]}, \"colorway\": [\"#636efa\", \"#EF553B\", \"#00cc96\", \"#ab63fa\", \"#FFA15A\", \"#19d3f3\", \"#FF6692\", \"#B6E880\", \"#FF97FF\", \"#FECB52\"], \"font\": {\"color\": \"#2a3f5f\"}, \"geo\": {\"bgcolor\": \"white\", \"lakecolor\": \"white\", \"landcolor\": \"#E5ECF6\", \"showlakes\": true, \"showland\": true, \"subunitcolor\": \"white\"}, \"hoverlabel\": {\"align\": \"left\"}, \"hovermode\": \"closest\", \"mapbox\": {\"style\": \"light\"}, \"paper_bgcolor\": \"white\", \"plot_bgcolor\": \"#E5ECF6\", \"polar\": {\"angularaxis\": {\"gridcolor\": \"white\", \"linecolor\": \"white\", \"ticks\": \"\"}, \"bgcolor\": \"#E5ECF6\", \"radialaxis\": {\"gridcolor\": \"white\", \"linecolor\": \"white\", \"ticks\": \"\"}}, \"scene\": {\"xaxis\": {\"backgroundcolor\": \"#E5ECF6\", \"gridcolor\": \"white\", \"gridwidth\": 2, \"linecolor\": \"white\", \"showbackground\": true, \"ticks\": \"\", \"zerolinecolor\": \"white\"}, \"yaxis\": {\"backgroundcolor\": \"#E5ECF6\", \"gridcolor\": \"white\", \"gridwidth\": 2, \"linecolor\": \"white\", \"showbackground\": true, \"ticks\": \"\", \"zerolinecolor\": \"white\"}, \"zaxis\": {\"backgroundcolor\": \"#E5ECF6\", \"gridcolor\": \"white\", \"gridwidth\": 2, \"linecolor\": \"white\", \"showbackground\": true, \"ticks\": \"\", \"zerolinecolor\": \"white\"}}, \"shapedefaults\": {\"line\": {\"color\": \"#2a3f5f\"}}, \"ternary\": {\"aaxis\": {\"gridcolor\": \"white\", \"linecolor\": \"white\", \"ticks\": \"\"}, \"baxis\": {\"gridcolor\": \"white\", \"linecolor\": \"white\", \"ticks\": \"\"}, \"bgcolor\": \"#E5ECF6\", \"caxis\": {\"gridcolor\": \"white\", \"linecolor\": \"white\", \"ticks\": \"\"}}, \"title\": {\"x\": 0.05}, \"xaxis\": {\"automargin\": true, \"gridcolor\": \"white\", \"linecolor\": \"white\", \"ticks\": \"\", \"title\": {\"standoff\": 15}, \"zerolinecolor\": \"white\", \"zerolinewidth\": 2}, \"yaxis\": {\"automargin\": true, \"gridcolor\": \"white\", \"linecolor\": \"white\", \"ticks\": \"\", \"title\": {\"standoff\": 15}, \"zerolinecolor\": \"white\", \"zerolinewidth\": 2}}}, \"title\": {\"text\": \"Empirical Roofline Graph\"}, \"width\": 1200, \"xaxis\": {\"range\": [-1, 2], \"title\": {\"text\": \"FLOPs / Byte\"}, \"type\": \"log\"}, \"yaxis\": {\"range\": [1, 4], \"title\": {\"text\": \"GFLOPs / Second\"}, \"type\": \"log\"}},                        {\"responsive\": true}                    ).then(function(){\n",
       "                            \n",
       "var gd = document.getElementById('558ef1db-3582-4618-a2de-5933308d0d5d');\n",
       "var x = new MutationObserver(function (mutations, observer) {{\n",
       "        var display = window.getComputedStyle(gd).display;\n",
       "        if (!display || display === 'none') {{\n",
       "            console.log([gd, 'removed!']);\n",
       "            Plotly.purge(gd);\n",
       "            observer.disconnect();\n",
       "        }}\n",
       "}});\n",
       "\n",
       "// Listen for the removal of the full notebook cells\n",
       "var notebookContainer = gd.closest('#notebook-container');\n",
       "if (notebookContainer) {{\n",
       "    x.observe(notebookContainer, {childList: true});\n",
       "}}\n",
       "\n",
       "// Listen for the clearing of the current output cell\n",
       "var outputEl = gd.closest('.output');\n",
       "if (outputEl) {{\n",
       "    x.observe(outputEl, {childList: true});\n",
       "}}\n",
       "\n",
       "                        })                };                });            </script>        </div>"
      ]
     },
     "metadata": {},
     "output_type": "display_data"
    }
   ],
   "source": [
    "# plot! plotly version\n",
    "fig = go.Figure()\n",
    "elements = g_df['name'].unique()\n",
    "fig.update_xaxes(type=\"log\", range=[-1,2]) \n",
    "fig.update_yaxes(type=\"log\", range=[1,4])\n",
    "# Create traces\n",
    "for cur_name in elements:\n",
    "  index = (g_df[g_df['name']==cur_name].index.values)[0]\n",
    "  x_vals = [g_df['x'][i] for i in range(g_df.shape[0]) if g_df['name'][i] == cur_name]\n",
    "  y_vals = [g_df['y'][i] for i in range(g_df.shape[0]) if g_df['name'][i] == cur_name]\n",
    "  fig.add_trace(go.Scatter(x=x_vals, y=y_vals,\n",
    "                      mode=\"lines\",\n",
    "                      name=g_df['label'][index]\n",
    "                      ))\n",
    "  slope = g_df['slope'][index]\n",
    "  # get the mid-ish point to add the label\n",
    "  #calculate the midpoints for labels\n",
    "  xmid = math.sqrt(xmin * xmax)\n",
    "  ymid = slope * xmid\n",
    "  y0gbytes = ymid\n",
    "  x0gbytes = y0gbytes/slope\n",
    "  fig.add_annotation(text=cur_name+str(slope),\n",
    "                  xref=\"paper\", yref=\"paper\",\n",
    "                  x=x0gbytes, y=y0gbytes, showarrow=False,\n",
    "                  textangle=-45)\n",
    "fig.update_layout(\n",
    "    autosize=False,\n",
    "    width=1200,\n",
    "    height=800,\n",
    "    title=\"Empirical Roofline Graph\",\n",
    "    xaxis_title=\"FLOPs / Byte\",\n",
    "    yaxis_title=\"GFLOPs / Second\"\n",
    ")\n",
    "\n",
    "\n",
    "fig.show()"
   ]
  }
 ],
 "metadata": {
  "colab": {
   "authorship_tag": "ABX9TyNpwYb7lRMkdDTVGMkAF4It",
   "collapsed_sections": [],
   "include_colab_link": true,
   "name": "roofline_python.ipynb",
   "provenance": []
  },
  "kernelspec": {
   "display_name": "Python 3",
   "language": "python",
   "name": "python3"
  },
  "language_info": {
   "codemirror_mode": {
    "name": "ipython",
    "version": 3
   },
   "file_extension": ".py",
   "mimetype": "text/x-python",
   "name": "python",
   "nbconvert_exporter": "python",
   "pygments_lexer": "ipython3",
   "version": "3.8.5"
  }
 },
 "nbformat": 4,
 "nbformat_minor": 1
}
