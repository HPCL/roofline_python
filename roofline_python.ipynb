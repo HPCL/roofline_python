{
 "cells": [
  {
   "cell_type": "markdown",
   "metadata": {
    "colab_type": "text",
    "id": "view-in-github"
   },
   "source": [
    "<a href=\"https://colab.research.google.com/github/HPCL/roofline_python/blob/main/roofline_python.ipynb\" target=\"_parent\"><img src=\"https://colab.research.google.com/assets/colab-badge.svg\" alt=\"Open In Colab\"/></a>"
   ]
  },
  {
   "cell_type": "code",
   "execution_count": 1,
   "metadata": {
    "id": "-w3_yCQ2Rtxm"
   },
   "outputs": [],
   "source": [
    "import io\n",
    "import json\n",
    "import pandas as pd\n",
    "import matplotlib.pyplot as plt\n",
    "import seaborn as sns\n",
    "import numpy as np\n",
    "import math\n",
    "import plotly.graph_objects as go"
   ]
  },
  {
   "cell_type": "markdown",
   "metadata": {
    "id": "YIPJ80JK5eOI"
   },
   "source": [
    "## google colab users: you can run the next code cell (and comment out the jupyter code cell that is after)\n",
    "## jupyter notebook users do the opposite\n",
    "\n",
    "### change the file name to upload the json file that you want.\n"
   ]
  },
  {
   "cell_type": "code",
   "execution_count": 2,
   "metadata": {
    "colab": {
     "base_uri": "https://localhost:8080/",
     "height": 619,
     "resources": {
      "http://localhost:8080/nbextensions/google.colab/files.js": {
       "data": "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",
       "headers": [
        [
         "content-type",
         "application/javascript"
        ]
       ],
       "ok": true,
       "status": 200,
       "status_text": ""
      }
     }
    },
    "id": "FCYlmyCUS2bm",
    "outputId": "73090afc-b20f-4a33-fc7b-2c2c034ce5d7"
   },
   "outputs": [],
   "source": [
    "# GOOGLE COLAB\n",
    "# Load the json file\n",
    "#from google.colab import files\n",
    "#uploaded = files.upload()\n",
    "\n",
    "# Load \n",
    "#filename = \"roofline.json\"\n",
    "#data = json.loads(uploaded[filename].decode(\"utf-8\"))\n",
    "#data"
   ]
  },
  {
   "cell_type": "code",
   "execution_count": 3,
   "metadata": {
    "id": "C637tDJ_2Rxh"
   },
   "outputs": [
    {
     "data": {
      "text/plain": [
       "{'empirical': {'gbytes': {'data': [['L1', 13932.9],\n",
       "    ['L2', 3608.6],\n",
       "    ['L3', 1361.2],\n",
       "    ['DRAM', 203.2]],\n",
       "   'metadata': {'TIMESTAMP_DATA': [1619015024.88,\n",
       "     1619015005.99,\n",
       "     1619015015.51],\n",
       "    'FLOPS': 1,\n",
       "    'TIMESTAMP_DB': 1619020917.299774,\n",
       "    'OPENMP_THREADS': 1}},\n",
       "  'gflops': {'data': [['FP64 Vector GFLOPs FMA', 3499.9],\n",
       "    ['FP64 Vector GFLOPs', 1749.95],\n",
       "    ['FP64 Scalar GFLOPs FMA', 218.75],\n",
       "    ['FP64 Scalar GFLOPs', 109.375]],\n",
       "   'metadata': {'TIMESTAMP_DATA': [1619019163.24,\n",
       "     1619019173.98,\n",
       "     1619019184.74],\n",
       "    'FLOPS': 64,\n",
       "    'TIMESTAMP_DB': 1619020917.299511,\n",
       "    'OPENMP_THREADS': 2}},\n",
       "  'metadata': {'ERT_VERSION': '1.1.0',\n",
       "   'HOSTNAME': ['cn624', [], ['192.168.100.177']],\n",
       "   'CONFIG': {'ERT_WORKING_SET_MIN': ['1'],\n",
       "    'ERT_CFLAGS': ['-O3',\n",
       "     '-march=skylake-avx512',\n",
       "     '-mtune=skylake',\n",
       "     '-fopenmp-simd'],\n",
       "    'ERT_CC': ['mpic++'],\n",
       "    'ERT_WSS_MULT': [1.1],\n",
       "    'ERT_HIP': [False],\n",
       "    'ERT_MPI_CFLAGS': [],\n",
       "    'ERT_MPI_LDFLAGS': [],\n",
       "    'ERT_MEMORY_MAX': ['2147482548'],\n",
       "    'ERT_PROCS_THREADS': ['44,88'],\n",
       "    'ERT_LDFLAGS': [],\n",
       "    'ERT_LDLIBS': [],\n",
       "    'ERT_RUN': ['export',\n",
       "     'SLURM_CORES=$((',\n",
       "     '44',\n",
       "     '/',\n",
       "     'ERT_MPI_PROCS',\n",
       "     '));',\n",
       "     'export',\n",
       "     'OMP_PLACES=sockets;',\n",
       "     'export',\n",
       "     'OMP_PROC_BIND=close;',\n",
       "     'export',\n",
       "     'OMP_NUM_THREADS=ERT_OPENMP_THREADS;',\n",
       "     'srun',\n",
       "     '-n',\n",
       "     'ERT_MPI_PROCS',\n",
       "     '-c',\n",
       "     '$SLURM_CORES',\n",
       "     '--cpu_bind=cores',\n",
       "     './ERT_CODE'],\n",
       "    'ERT_OCL': [False],\n",
       "    'ERT_FLOPS': ['1,2,4,8,16,32,64,128,256'],\n",
       "    'ERT_OPENMP_CFLAGS': ['-fopenmp'],\n",
       "    'ERT_MPI': ['True'],\n",
       "    'ERT_TRIALS_MIN': ['3'],\n",
       "    'ERT_DRIVER': ['driver1'],\n",
       "    'ERT_RESULTS': ['Result.skylake_gold_mpi'],\n",
       "    'ERT_OPENMP': ['True'],\n",
       "    'ERT_OPENMP_THREADS': ['1-88'],\n",
       "    'ERT_KERNEL': ['kernel1'],\n",
       "    'ERT_PRECISION': ['FP64'],\n",
       "    'ERT_MPI_PROCS': ['1,4,11,44'],\n",
       "    'ERT_LD': ['mpic++'],\n",
       "    'ERT_NUM_EXPERIMENTS': ['3'],\n",
       "    'ERT_OPENMP_LDFLAGS': ['-fopenmp'],\n",
       "    'ERT_GPU': [False],\n",
       "    'ERT_ALIGN': ['32'],\n",
       "    'ERT_GNUPLOT': ['gnuplot']},\n",
       "   'MPI_PROCS': 44,\n",
       "   'UNAME': ['Linux',\n",
       "    'cn624',\n",
       "    '3.10.0-1127.19.1.el7.x86_64',\n",
       "    '#1 SMP Tue Aug 25 17:23:54 UTC 2020',\n",
       "    'x86_64',\n",
       "    'x86_64']}},\n",
       " 'spec': {'gbytes': {'data': []}, 'gflops': {'data': []}}}"
      ]
     },
     "execution_count": 3,
     "metadata": {},
     "output_type": "execute_result"
    }
   ],
   "source": [
    "# JUPYTER NOTEBOOK\n",
    "#filename = \"roofline_a64_DP.json\"\n",
    "filename = \"roofline_cascadelake_DP.json\"\n",
    "#filename = \"roofline.json\"\n",
    "with open(filename) as file:\n",
    "    data = json.load(file)\n",
    "data"
   ]
  },
  {
   "cell_type": "markdown",
   "metadata": {
    "id": "picddnf2UUiF"
   },
   "source": [
    "## Run all below to automatically decode json and create a roofline plot."
   ]
  },
  {
   "cell_type": "code",
   "execution_count": 4,
   "metadata": {
    "colab": {
     "base_uri": "https://localhost:8080/"
    },
    "id": "DCawuAKNZrQk",
    "outputId": "ff39e7ae-096c-4408-9537-6628c68cecdc"
   },
   "outputs": [
    {
     "data": {
      "text/plain": [
       "{'data': [['L1', 13932.9], ['L2', 3608.6], ['L3', 1361.2], ['DRAM', 203.2]],\n",
       " 'metadata': {'TIMESTAMP_DATA': [1619015024.88, 1619015005.99, 1619015015.51],\n",
       "  'FLOPS': 1,\n",
       "  'TIMESTAMP_DB': 1619020917.299774,\n",
       "  'OPENMP_THREADS': 1}}"
      ]
     },
     "execution_count": 4,
     "metadata": {},
     "output_type": "execute_result"
    }
   ],
   "source": [
    "# Parse the gbytes section\n",
    "gbytes = data['empirical']['gbytes']\n",
    "gbytes"
   ]
  },
  {
   "cell_type": "code",
   "execution_count": 5,
   "metadata": {
    "colab": {
     "base_uri": "https://localhost:8080/",
     "height": 142
    },
    "id": "e6rnhZJaocTn",
    "outputId": "48e882d7-caa2-4d42-bfb0-98aa39441200"
   },
   "outputs": [
    {
     "data": {
      "text/html": [
       "<div>\n",
       "<style scoped>\n",
       "    .dataframe tbody tr th:only-of-type {\n",
       "        vertical-align: middle;\n",
       "    }\n",
       "\n",
       "    .dataframe tbody tr th {\n",
       "        vertical-align: top;\n",
       "    }\n",
       "\n",
       "    .dataframe thead th {\n",
       "        text-align: right;\n",
       "    }\n",
       "</style>\n",
       "<table border=\"1\" class=\"dataframe\">\n",
       "  <thead>\n",
       "    <tr style=\"text-align: right;\">\n",
       "      <th></th>\n",
       "      <th>name</th>\n",
       "      <th>slope</th>\n",
       "      <th>x</th>\n",
       "      <th>y</th>\n",
       "    </tr>\n",
       "  </thead>\n",
       "  <tbody>\n",
       "    <tr>\n",
       "      <th>0</th>\n",
       "      <td>L1</td>\n",
       "      <td>13932.9</td>\n",
       "      <td>0</td>\n",
       "      <td>0</td>\n",
       "    </tr>\n",
       "    <tr>\n",
       "      <th>1</th>\n",
       "      <td>L2</td>\n",
       "      <td>3608.6</td>\n",
       "      <td>0</td>\n",
       "      <td>0</td>\n",
       "    </tr>\n",
       "    <tr>\n",
       "      <th>2</th>\n",
       "      <td>L3</td>\n",
       "      <td>1361.2</td>\n",
       "      <td>0</td>\n",
       "      <td>0</td>\n",
       "    </tr>\n",
       "    <tr>\n",
       "      <th>3</th>\n",
       "      <td>DRAM</td>\n",
       "      <td>203.2</td>\n",
       "      <td>0</td>\n",
       "      <td>0</td>\n",
       "    </tr>\n",
       "  </tbody>\n",
       "</table>\n",
       "</div>"
      ],
      "text/plain": [
       "   name    slope  x  y\n",
       "0    L1  13932.9  0  0\n",
       "1    L2   3608.6  0  0\n",
       "2    L3   1361.2  0  0\n",
       "3  DRAM    203.2  0  0"
      ]
     },
     "execution_count": 5,
     "metadata": {},
     "output_type": "execute_result"
    }
   ],
   "source": [
    "# Load gbytes data into Pandas dataframe\n",
    "gbytes_df = pd.DataFrame(gbytes['data'], columns=['name', 'slope'])\n",
    "gbytes_df['slope'] = gbytes_df['slope'] \n",
    "# Add the default x and y intercept\n",
    "gbytes_df['x'] = 0\n",
    "gbytes_df['y'] = 0\n",
    "gbytes_df"
   ]
  },
  {
   "cell_type": "code",
   "execution_count": 6,
   "metadata": {
    "colab": {
     "base_uri": "https://localhost:8080/"
    },
    "id": "UYjKsEpbV1eQ",
    "outputId": "901e7238-2260-44c4-c44d-4361adc6dc06"
   },
   "outputs": [
    {
     "data": {
      "text/plain": [
       "{'data': [['FP64 Vector GFLOPs FMA', 3499.9],\n",
       "  ['FP64 Vector GFLOPs', 1749.95],\n",
       "  ['FP64 Scalar GFLOPs FMA', 218.75],\n",
       "  ['FP64 Scalar GFLOPs', 109.375]],\n",
       " 'metadata': {'TIMESTAMP_DATA': [1619019163.24, 1619019173.98, 1619019184.74],\n",
       "  'FLOPS': 64,\n",
       "  'TIMESTAMP_DB': 1619020917.299511,\n",
       "  'OPENMP_THREADS': 2}}"
      ]
     },
     "execution_count": 6,
     "metadata": {},
     "output_type": "execute_result"
    }
   ],
   "source": [
    "# Parse the gflop data section\n",
    "gflops = data['empirical']['gflops']\n",
    "gflops"
   ]
  },
  {
   "cell_type": "code",
   "execution_count": 7,
   "metadata": {
    "colab": {
     "base_uri": "https://localhost:8080/",
     "height": 80
    },
    "id": "GhPSCQx7jLbT",
    "outputId": "0a6f3850-06fd-47cc-e52f-8be209ffc672"
   },
   "outputs": [
    {
     "data": {
      "text/html": [
       "<div>\n",
       "<style scoped>\n",
       "    .dataframe tbody tr th:only-of-type {\n",
       "        vertical-align: middle;\n",
       "    }\n",
       "\n",
       "    .dataframe tbody tr th {\n",
       "        vertical-align: top;\n",
       "    }\n",
       "\n",
       "    .dataframe thead th {\n",
       "        text-align: right;\n",
       "    }\n",
       "</style>\n",
       "<table border=\"1\" class=\"dataframe\">\n",
       "  <thead>\n",
       "    <tr style=\"text-align: right;\">\n",
       "      <th></th>\n",
       "      <th>name</th>\n",
       "      <th>y</th>\n",
       "      <th>x</th>\n",
       "      <th>slope</th>\n",
       "    </tr>\n",
       "  </thead>\n",
       "  <tbody>\n",
       "    <tr>\n",
       "      <th>0</th>\n",
       "      <td>FP64 Vector GFLOPs FMA</td>\n",
       "      <td>3499.900</td>\n",
       "      <td>100</td>\n",
       "      <td>3499.9</td>\n",
       "    </tr>\n",
       "    <tr>\n",
       "      <th>1</th>\n",
       "      <td>FP64 Vector GFLOPs</td>\n",
       "      <td>1749.950</td>\n",
       "      <td>100</td>\n",
       "      <td>3499.9</td>\n",
       "    </tr>\n",
       "    <tr>\n",
       "      <th>2</th>\n",
       "      <td>FP64 Scalar GFLOPs FMA</td>\n",
       "      <td>218.750</td>\n",
       "      <td>100</td>\n",
       "      <td>3499.9</td>\n",
       "    </tr>\n",
       "    <tr>\n",
       "      <th>3</th>\n",
       "      <td>FP64 Scalar GFLOPs</td>\n",
       "      <td>109.375</td>\n",
       "      <td>100</td>\n",
       "      <td>3499.9</td>\n",
       "    </tr>\n",
       "  </tbody>\n",
       "</table>\n",
       "</div>"
      ],
      "text/plain": [
       "                     name         y    x   slope\n",
       "0  FP64 Vector GFLOPs FMA  3499.900  100  3499.9\n",
       "1      FP64 Vector GFLOPs  1749.950  100  3499.9\n",
       "2  FP64 Scalar GFLOPs FMA   218.750  100  3499.9\n",
       "3      FP64 Scalar GFLOPs   109.375  100  3499.9"
      ]
     },
     "execution_count": 7,
     "metadata": {},
     "output_type": "execute_result"
    }
   ],
   "source": [
    "# Load gflops data into a Pandas dataframe\n",
    "gflops_df = pd.DataFrame(gflops['data'], columns=['name', 'y'])\n",
    "# Add the default x intercept and \"slope\" (really the value)\n",
    "gflops_df['x'] = 100\n",
    "gflops_df['slope'] = gflops['data'][0][1]\n",
    "gflops_df"
   ]
  },
  {
   "cell_type": "code",
   "execution_count": 8,
   "metadata": {
    "colab": {
     "base_uri": "https://localhost:8080/",
     "height": 235
    },
    "id": "Y0qnnn9IxiXC",
    "outputId": "e44ad544-dcc5-4618-8974-779b7b816c7e"
   },
   "outputs": [
    {
     "data": {
      "text/html": [
       "<div>\n",
       "<style scoped>\n",
       "    .dataframe tbody tr th:only-of-type {\n",
       "        vertical-align: middle;\n",
       "    }\n",
       "\n",
       "    .dataframe tbody tr th {\n",
       "        vertical-align: top;\n",
       "    }\n",
       "\n",
       "    .dataframe thead th {\n",
       "        text-align: right;\n",
       "    }\n",
       "</style>\n",
       "<table border=\"1\" class=\"dataframe\">\n",
       "  <thead>\n",
       "    <tr style=\"text-align: right;\">\n",
       "      <th></th>\n",
       "      <th>name</th>\n",
       "      <th>slope</th>\n",
       "      <th>x</th>\n",
       "      <th>y</th>\n",
       "    </tr>\n",
       "  </thead>\n",
       "  <tbody>\n",
       "    <tr>\n",
       "      <th>0</th>\n",
       "      <td>L1</td>\n",
       "      <td>13932.9</td>\n",
       "      <td>0.000000</td>\n",
       "      <td>0.0</td>\n",
       "    </tr>\n",
       "    <tr>\n",
       "      <th>1</th>\n",
       "      <td>L2</td>\n",
       "      <td>3608.6</td>\n",
       "      <td>0.000000</td>\n",
       "      <td>0.0</td>\n",
       "    </tr>\n",
       "    <tr>\n",
       "      <th>2</th>\n",
       "      <td>L3</td>\n",
       "      <td>1361.2</td>\n",
       "      <td>0.000000</td>\n",
       "      <td>0.0</td>\n",
       "    </tr>\n",
       "    <tr>\n",
       "      <th>3</th>\n",
       "      <td>DRAM</td>\n",
       "      <td>203.2</td>\n",
       "      <td>0.000000</td>\n",
       "      <td>0.0</td>\n",
       "    </tr>\n",
       "    <tr>\n",
       "      <th>4</th>\n",
       "      <td>L1</td>\n",
       "      <td>13932.9</td>\n",
       "      <td>0.251197</td>\n",
       "      <td>3499.9</td>\n",
       "    </tr>\n",
       "    <tr>\n",
       "      <th>5</th>\n",
       "      <td>L2</td>\n",
       "      <td>3608.6</td>\n",
       "      <td>0.969878</td>\n",
       "      <td>3499.9</td>\n",
       "    </tr>\n",
       "    <tr>\n",
       "      <th>6</th>\n",
       "      <td>L3</td>\n",
       "      <td>1361.2</td>\n",
       "      <td>2.571187</td>\n",
       "      <td>3499.9</td>\n",
       "    </tr>\n",
       "    <tr>\n",
       "      <th>7</th>\n",
       "      <td>DRAM</td>\n",
       "      <td>203.2</td>\n",
       "      <td>17.223917</td>\n",
       "      <td>3499.9</td>\n",
       "    </tr>\n",
       "  </tbody>\n",
       "</table>\n",
       "</div>"
      ],
      "text/plain": [
       "   name    slope          x       y\n",
       "0    L1  13932.9   0.000000     0.0\n",
       "1    L2   3608.6   0.000000     0.0\n",
       "2    L3   1361.2   0.000000     0.0\n",
       "3  DRAM    203.2   0.000000     0.0\n",
       "4    L1  13932.9   0.251197  3499.9\n",
       "5    L2   3608.6   0.969878  3499.9\n",
       "6    L3   1361.2   2.571187  3499.9\n",
       "7  DRAM    203.2  17.223917  3499.9"
      ]
     },
     "execution_count": 8,
     "metadata": {},
     "output_type": "execute_result"
    }
   ],
   "source": [
    "# Calculate the point where each memory line meets the peak line, add to dataframe\n",
    "# y=mx+b -> x = (y-b)/m = (y-0)/m = y/m\n",
    "rows = len(gbytes_df)\n",
    "peak = gflops_df['y'][0]\n",
    "new_xes = []\n",
    "\n",
    "for row in range(rows):\n",
    "  name = gbytes_df['name'][row]\n",
    "  x = peak / gbytes_df['slope'][row]\n",
    "  gbytes_df.loc[len(gbytes_df.index)] = [name, gbytes_df['slope'][row], x, peak]\n",
    "  new_xes.append(x)\n",
    "\n",
    "gbytes_df"
   ]
  },
  {
   "cell_type": "code",
   "execution_count": 9,
   "metadata": {
    "id": "JEXfx8Wrin9g"
   },
   "outputs": [],
   "source": [
    "# Find the x coordinate to start the peak line at\n",
    "#peak_x_min = min(new_xes)\n",
    "#gflops_df.loc[len(gflops_df)] = [gflops_df['name'][0], gflops_df['y'][0], peak_x_min, gflops_df['y'][0]]"
   ]
  },
  {
   "cell_type": "code",
   "execution_count": 10,
   "metadata": {},
   "outputs": [],
   "source": [
    "# Find the x coordinates to start the roof lines at\n",
    "peak_mem = max([m for m in gbytes_df['slope']])\n",
    "peak_rows = len(gflops_df)\n",
    "for i in range(peak_rows):\n",
    "    x_val = gflops_df['y'][i] / peak_mem\n",
    "    gflops_df.loc[len(gflops_df)] = [gflops_df['name'][i], gflops_df['y'][i], x_val, gflops_df['y'][i]]"
   ]
  },
  {
   "cell_type": "code",
   "execution_count": 11,
   "metadata": {
    "id": "XsOfiYddJ-5y"
   },
   "outputs": [],
   "source": [
    "# Make the label columns for the graph\n",
    "gbytes_df['label'] = gbytes_df['name'] + ' ' + gbytes_df['slope'].astype(str) + ' ' + 'GB/s'\n",
    "gflops_df['label'] = gflops_df['name'] + ' ' + gflops_df['slope'].astype(str) + ' ' + 'GFLOPs/s'\n",
    "# Make type column for identifying later\n",
    "gbytes_df['type'] = 'memory' \n",
    "gflops_df['type'] = 'peak'"
   ]
  },
  {
   "cell_type": "code",
   "execution_count": 12,
   "metadata": {
    "colab": {
     "base_uri": "https://localhost:8080/",
     "height": 297
    },
    "id": "luIW0XXCZ0Z9",
    "outputId": "b8c0e6fe-e433-45d9-ef36-81e87bf701bd"
   },
   "outputs": [
    {
     "data": {
      "text/html": [
       "<div>\n",
       "<style scoped>\n",
       "    .dataframe tbody tr th:only-of-type {\n",
       "        vertical-align: middle;\n",
       "    }\n",
       "\n",
       "    .dataframe tbody tr th {\n",
       "        vertical-align: top;\n",
       "    }\n",
       "\n",
       "    .dataframe thead th {\n",
       "        text-align: right;\n",
       "    }\n",
       "</style>\n",
       "<table border=\"1\" class=\"dataframe\">\n",
       "  <thead>\n",
       "    <tr style=\"text-align: right;\">\n",
       "      <th></th>\n",
       "      <th>name</th>\n",
       "      <th>y</th>\n",
       "      <th>x</th>\n",
       "      <th>slope</th>\n",
       "      <th>label</th>\n",
       "      <th>type</th>\n",
       "    </tr>\n",
       "  </thead>\n",
       "  <tbody>\n",
       "    <tr>\n",
       "      <th>0</th>\n",
       "      <td>FP64 Vector GFLOPs FMA</td>\n",
       "      <td>3499.900</td>\n",
       "      <td>100.000000</td>\n",
       "      <td>3499.900</td>\n",
       "      <td>FP64 Vector GFLOPs FMA 3499.9 GFLOPs/s</td>\n",
       "      <td>peak</td>\n",
       "    </tr>\n",
       "    <tr>\n",
       "      <th>1</th>\n",
       "      <td>FP64 Vector GFLOPs</td>\n",
       "      <td>1749.950</td>\n",
       "      <td>100.000000</td>\n",
       "      <td>3499.900</td>\n",
       "      <td>FP64 Vector GFLOPs 3499.9 GFLOPs/s</td>\n",
       "      <td>peak</td>\n",
       "    </tr>\n",
       "    <tr>\n",
       "      <th>2</th>\n",
       "      <td>FP64 Scalar GFLOPs FMA</td>\n",
       "      <td>218.750</td>\n",
       "      <td>100.000000</td>\n",
       "      <td>3499.900</td>\n",
       "      <td>FP64 Scalar GFLOPs FMA 3499.9 GFLOPs/s</td>\n",
       "      <td>peak</td>\n",
       "    </tr>\n",
       "    <tr>\n",
       "      <th>3</th>\n",
       "      <td>FP64 Scalar GFLOPs</td>\n",
       "      <td>109.375</td>\n",
       "      <td>100.000000</td>\n",
       "      <td>3499.900</td>\n",
       "      <td>FP64 Scalar GFLOPs 3499.9 GFLOPs/s</td>\n",
       "      <td>peak</td>\n",
       "    </tr>\n",
       "    <tr>\n",
       "      <th>4</th>\n",
       "      <td>FP64 Vector GFLOPs FMA</td>\n",
       "      <td>3499.900</td>\n",
       "      <td>0.251197</td>\n",
       "      <td>3499.900</td>\n",
       "      <td>FP64 Vector GFLOPs FMA 3499.9 GFLOPs/s</td>\n",
       "      <td>peak</td>\n",
       "    </tr>\n",
       "    <tr>\n",
       "      <th>5</th>\n",
       "      <td>FP64 Vector GFLOPs</td>\n",
       "      <td>1749.950</td>\n",
       "      <td>0.125598</td>\n",
       "      <td>1749.950</td>\n",
       "      <td>FP64 Vector GFLOPs 1749.95 GFLOPs/s</td>\n",
       "      <td>peak</td>\n",
       "    </tr>\n",
       "    <tr>\n",
       "      <th>6</th>\n",
       "      <td>FP64 Scalar GFLOPs FMA</td>\n",
       "      <td>218.750</td>\n",
       "      <td>0.015700</td>\n",
       "      <td>218.750</td>\n",
       "      <td>FP64 Scalar GFLOPs FMA 218.75 GFLOPs/s</td>\n",
       "      <td>peak</td>\n",
       "    </tr>\n",
       "    <tr>\n",
       "      <th>7</th>\n",
       "      <td>FP64 Scalar GFLOPs</td>\n",
       "      <td>109.375</td>\n",
       "      <td>0.007850</td>\n",
       "      <td>109.375</td>\n",
       "      <td>FP64 Scalar GFLOPs 109.375 GFLOPs/s</td>\n",
       "      <td>peak</td>\n",
       "    </tr>\n",
       "    <tr>\n",
       "      <th>8</th>\n",
       "      <td>L1</td>\n",
       "      <td>0.000</td>\n",
       "      <td>0.000000</td>\n",
       "      <td>13932.900</td>\n",
       "      <td>L1 13932.9 GB/s</td>\n",
       "      <td>memory</td>\n",
       "    </tr>\n",
       "    <tr>\n",
       "      <th>9</th>\n",
       "      <td>L2</td>\n",
       "      <td>0.000</td>\n",
       "      <td>0.000000</td>\n",
       "      <td>3608.600</td>\n",
       "      <td>L2 3608.6 GB/s</td>\n",
       "      <td>memory</td>\n",
       "    </tr>\n",
       "    <tr>\n",
       "      <th>10</th>\n",
       "      <td>L3</td>\n",
       "      <td>0.000</td>\n",
       "      <td>0.000000</td>\n",
       "      <td>1361.200</td>\n",
       "      <td>L3 1361.2 GB/s</td>\n",
       "      <td>memory</td>\n",
       "    </tr>\n",
       "    <tr>\n",
       "      <th>11</th>\n",
       "      <td>DRAM</td>\n",
       "      <td>0.000</td>\n",
       "      <td>0.000000</td>\n",
       "      <td>203.200</td>\n",
       "      <td>DRAM 203.2 GB/s</td>\n",
       "      <td>memory</td>\n",
       "    </tr>\n",
       "    <tr>\n",
       "      <th>12</th>\n",
       "      <td>L1</td>\n",
       "      <td>3499.900</td>\n",
       "      <td>0.251197</td>\n",
       "      <td>13932.900</td>\n",
       "      <td>L1 13932.9 GB/s</td>\n",
       "      <td>memory</td>\n",
       "    </tr>\n",
       "    <tr>\n",
       "      <th>13</th>\n",
       "      <td>L2</td>\n",
       "      <td>3499.900</td>\n",
       "      <td>0.969878</td>\n",
       "      <td>3608.600</td>\n",
       "      <td>L2 3608.6 GB/s</td>\n",
       "      <td>memory</td>\n",
       "    </tr>\n",
       "    <tr>\n",
       "      <th>14</th>\n",
       "      <td>L3</td>\n",
       "      <td>3499.900</td>\n",
       "      <td>2.571187</td>\n",
       "      <td>1361.200</td>\n",
       "      <td>L3 1361.2 GB/s</td>\n",
       "      <td>memory</td>\n",
       "    </tr>\n",
       "    <tr>\n",
       "      <th>15</th>\n",
       "      <td>DRAM</td>\n",
       "      <td>3499.900</td>\n",
       "      <td>17.223917</td>\n",
       "      <td>203.200</td>\n",
       "      <td>DRAM 203.2 GB/s</td>\n",
       "      <td>memory</td>\n",
       "    </tr>\n",
       "  </tbody>\n",
       "</table>\n",
       "</div>"
      ],
      "text/plain": [
       "                      name         y           x      slope  \\\n",
       "0   FP64 Vector GFLOPs FMA  3499.900  100.000000   3499.900   \n",
       "1       FP64 Vector GFLOPs  1749.950  100.000000   3499.900   \n",
       "2   FP64 Scalar GFLOPs FMA   218.750  100.000000   3499.900   \n",
       "3       FP64 Scalar GFLOPs   109.375  100.000000   3499.900   \n",
       "4   FP64 Vector GFLOPs FMA  3499.900    0.251197   3499.900   \n",
       "5       FP64 Vector GFLOPs  1749.950    0.125598   1749.950   \n",
       "6   FP64 Scalar GFLOPs FMA   218.750    0.015700    218.750   \n",
       "7       FP64 Scalar GFLOPs   109.375    0.007850    109.375   \n",
       "8                       L1     0.000    0.000000  13932.900   \n",
       "9                       L2     0.000    0.000000   3608.600   \n",
       "10                      L3     0.000    0.000000   1361.200   \n",
       "11                    DRAM     0.000    0.000000    203.200   \n",
       "12                      L1  3499.900    0.251197  13932.900   \n",
       "13                      L2  3499.900    0.969878   3608.600   \n",
       "14                      L3  3499.900    2.571187   1361.200   \n",
       "15                    DRAM  3499.900   17.223917    203.200   \n",
       "\n",
       "                                     label    type  \n",
       "0   FP64 Vector GFLOPs FMA 3499.9 GFLOPs/s    peak  \n",
       "1       FP64 Vector GFLOPs 3499.9 GFLOPs/s    peak  \n",
       "2   FP64 Scalar GFLOPs FMA 3499.9 GFLOPs/s    peak  \n",
       "3       FP64 Scalar GFLOPs 3499.9 GFLOPs/s    peak  \n",
       "4   FP64 Vector GFLOPs FMA 3499.9 GFLOPs/s    peak  \n",
       "5      FP64 Vector GFLOPs 1749.95 GFLOPs/s    peak  \n",
       "6   FP64 Scalar GFLOPs FMA 218.75 GFLOPs/s    peak  \n",
       "7      FP64 Scalar GFLOPs 109.375 GFLOPs/s    peak  \n",
       "8                          L1 13932.9 GB/s  memory  \n",
       "9                           L2 3608.6 GB/s  memory  \n",
       "10                          L3 1361.2 GB/s  memory  \n",
       "11                         DRAM 203.2 GB/s  memory  \n",
       "12                         L1 13932.9 GB/s  memory  \n",
       "13                          L2 3608.6 GB/s  memory  \n",
       "14                          L3 1361.2 GB/s  memory  \n",
       "15                         DRAM 203.2 GB/s  memory  "
      ]
     },
     "execution_count": 12,
     "metadata": {},
     "output_type": "execute_result"
    }
   ],
   "source": [
    "# Concatenate the gbyte and gflop data into one dataframe to plot\n",
    "g_df = pd.concat([gflops_df, gbytes_df], ignore_index=True)\n",
    "g_df"
   ]
  },
  {
   "cell_type": "code",
   "execution_count": null,
   "metadata": {},
   "outputs": [],
   "source": []
  },
  {
   "cell_type": "code",
   "execution_count": 13,
   "metadata": {
    "colab": {
     "base_uri": "https://localhost:8080/"
    },
    "id": "E99jsOFkmnJT",
    "outputId": "39a8b712-885d-45a3-c665-be8e27c26800"
   },
   "outputs": [
    {
     "ename": "KeyError",
     "evalue": "''",
     "output_type": "error",
     "traceback": [
      "\u001b[0;31m---------------------------------------------------------------------------\u001b[0m",
      "\u001b[0;31mKeyError\u001b[0m                                  Traceback (most recent call last)",
      "\u001b[0;32m<ipython-input-13-57d43493a8d4>\u001b[0m in \u001b[0;36m<module>\u001b[0;34m\u001b[0m\n\u001b[1;32m      1\u001b[0m \u001b[0;31m# Get config metadata to add to a table next to the plot\u001b[0m\u001b[0;34m\u001b[0m\u001b[0;34m\u001b[0m\u001b[0;34m\u001b[0m\u001b[0m\n\u001b[0;32m----> 2\u001b[0;31m \u001b[0mhost_info\u001b[0m \u001b[0;34m=\u001b[0m \u001b[0mgbytes\u001b[0m\u001b[0;34m[\u001b[0m\u001b[0;34m'metadata'\u001b[0m\u001b[0;34m]\u001b[0m\u001b[0;34m[\u001b[0m\u001b[0;34m''\u001b[0m\u001b[0;34m]\u001b[0m\u001b[0;34m[\u001b[0m\u001b[0;36m3\u001b[0m\u001b[0;34m]\u001b[0m\u001b[0;34m\u001b[0m\u001b[0;34m\u001b[0m\u001b[0m\n\u001b[0m\u001b[1;32m      3\u001b[0m \u001b[0;34m\u001b[0m\u001b[0m\n\u001b[1;32m      4\u001b[0m \u001b[0mhost_list\u001b[0m \u001b[0;34m=\u001b[0m \u001b[0mhost_info\u001b[0m\u001b[0;34m.\u001b[0m\u001b[0msplit\u001b[0m\u001b[0;34m(\u001b[0m\u001b[0;34m\"'\"\u001b[0m\u001b[0;34m)\u001b[0m\u001b[0;34m\u001b[0m\u001b[0;34m\u001b[0m\u001b[0m\n\u001b[1;32m      5\u001b[0m \u001b[0;34m\u001b[0m\u001b[0m\n",
      "\u001b[0;31mKeyError\u001b[0m: ''"
     ]
    }
   ],
   "source": [
    "# Get config metadata to add to a table next to the plot\n",
    "host_info = gbytes['metadata'][''][3]\n",
    "\n",
    "host_list = host_info.split(\"'\")\n",
    "\n",
    "host_name = host_list[1]\n",
    "print(host_name)\n",
    "flop_info = gbytes['metadata'][''][0]\n",
    "\n",
    "flop_list = flop_info.split(\" \")\n",
    "\n",
    "mem_flops = flop_list[-1]\n",
    "print(mem_flops)\n",
    "omp_info = gbytes['metadata'][''][1]\n",
    "\n",
    "omp_list = omp_info.split(\" \")\n",
    "\n",
    "mem_omp_threads = omp_list[1]\n",
    "print(mem_omp_threads)\n",
    "# Not working yet - trying to load more config data into a table to display next to the plot...\n",
    "# print(type(gbytes['metadata']['']))\n",
    "# config_str = gbytes['metadata'][''][6]\n",
    "# print(config_str[8:])\n",
    "# config = json.loads(config_str[8:])\n",
    "# config\n",
    "# config = [x for x in config if 'CONFIG'.]\n",
    "# Load metadata into a Pandas dataframe\n",
    "# metadata = pd.DataFrame(config, columns=metadata.keys())\n",
    "# metadata.keys()"
   ]
  },
  {
   "cell_type": "code",
   "execution_count": null,
   "metadata": {
    "colab": {
     "base_uri": "https://localhost:8080/"
    },
    "id": "CnFsL_3WRxHy",
    "outputId": "4a97d20f-531b-46bd-eebb-a5a204208235"
   },
   "outputs": [],
   "source": [
    "flop_info = gflops['metadata'][''][1]\n",
    "print(flop_info)\n",
    "flop_list = flop_info.split(\" \")\n",
    "print(flop_list)\n",
    "flops = flop_list[-1]\n",
    "print(flops)\n",
    "omp_info = gflops['metadata'][''][2]\n",
    "print(omp_info)\n",
    "omp_list = omp_info.split(\" \")\n",
    "print(omp_list)\n",
    "omp_threads = omp_list[1]\n",
    "print(omp_threads)"
   ]
  },
  {
   "cell_type": "code",
   "execution_count": null,
   "metadata": {
    "colab": {
     "base_uri": "https://localhost:8080/"
    },
    "id": "aGarO-3t4XU6",
    "outputId": "9fb8c5eb-a50d-4f20-9514-c89a7be2b4b5"
   },
   "outputs": [],
   "source": [
    "import re\n",
    "# parse the config file to add to the table \n",
    "metad = gflops['metadata']['']\n",
    "for i in range(len(metad)):\n",
    "  conf = metad[i]\n",
    "  if conf.startswith('CONFIG'):\n",
    "    config = metad[i]\n",
    "    break\n",
    "config_list = config.split(\"'\")\n",
    "config_list = config_list[1:]\n",
    "\n",
    "config_for_pd = [('HOST',host_name)]\n",
    "for j in range(0, len(config_list)-2, 4):\n",
    "  # add logic to deal with flags - multiple values per key\n",
    "  value = config_list[j+2]\n",
    "  if re.search('[a-zA-Z0-9]', value):\n",
    "    config_for_pd.append((config_list[j], value))\n",
    "config_for_pd"
   ]
  },
  {
   "cell_type": "code",
   "execution_count": null,
   "metadata": {
    "colab": {
     "base_uri": "https://localhost:8080/",
     "height": 948
    },
    "id": "ZfP2gGl-CGhi",
    "outputId": "5f3b6378-dd29-4e8f-d3ef-49329907a907"
   },
   "outputs": [],
   "source": [
    "metadata_df = pd.DataFrame(config_for_pd, columns=[\"Config\", \"Value\"])\n",
    "metadata_df"
   ]
  },
  {
   "cell_type": "markdown",
   "metadata": {
    "id": "UpvVlhuY8jBs"
   },
   "source": [
    "## plot roofline without application points - using seaborn/matplotlib"
   ]
  },
  {
   "cell_type": "code",
   "execution_count": 23,
   "metadata": {
    "colab": {
     "base_uri": "https://localhost:8080/",
     "height": 598
    },
    "id": "Zi6QtzwMuEkI",
    "outputId": "1005c1a5-fe63-4a8a-a746-23ef91701668"
   },
   "outputs": [
    {
     "ename": "ValueError",
     "evalue": "The palette list has the wrong number of colors.",
     "output_type": "error",
     "traceback": [
      "\u001b[0;31m---------------------------------------------------------------------------\u001b[0m",
      "\u001b[0;31mValueError\u001b[0m                                Traceback (most recent call last)",
      "\u001b[0;32m<ipython-input-23-138a0528db4c>\u001b[0m in \u001b[0;36m<module>\u001b[0;34m\u001b[0m\n\u001b[1;32m     23\u001b[0m \u001b[0;31m# plot the lines and peak flop labels\u001b[0m\u001b[0;34m\u001b[0m\u001b[0;34m\u001b[0m\u001b[0;34m\u001b[0m\u001b[0m\n\u001b[1;32m     24\u001b[0m \u001b[0mfig\u001b[0m\u001b[0;34m,\u001b[0m \u001b[0;34m(\u001b[0m\u001b[0max\u001b[0m\u001b[0;34m,\u001b[0m\u001b[0max2\u001b[0m\u001b[0;34m)\u001b[0m \u001b[0;34m=\u001b[0m \u001b[0mplt\u001b[0m\u001b[0;34m.\u001b[0m\u001b[0msubplots\u001b[0m\u001b[0;34m(\u001b[0m\u001b[0;36m1\u001b[0m\u001b[0;34m,\u001b[0m \u001b[0;36m2\u001b[0m\u001b[0;34m,\u001b[0m \u001b[0mgridspec_kw\u001b[0m\u001b[0;34m=\u001b[0m\u001b[0;34m{\u001b[0m\u001b[0;34m'width_ratios'\u001b[0m\u001b[0;34m:\u001b[0m \u001b[0;34m[\u001b[0m\u001b[0;36m2\u001b[0m\u001b[0;34m,\u001b[0m \u001b[0;36m1\u001b[0m\u001b[0;34m]\u001b[0m\u001b[0;34m}\u001b[0m\u001b[0;34m)\u001b[0m\u001b[0;34m\u001b[0m\u001b[0;34m\u001b[0m\u001b[0m\n\u001b[0;32m---> 25\u001b[0;31m \u001b[0msns\u001b[0m\u001b[0;34m.\u001b[0m\u001b[0mlineplot\u001b[0m\u001b[0;34m(\u001b[0m\u001b[0mdata\u001b[0m\u001b[0;34m=\u001b[0m\u001b[0mg_df\u001b[0m\u001b[0;34m,\u001b[0m \u001b[0mx\u001b[0m\u001b[0;34m=\u001b[0m\u001b[0;34m\"x\"\u001b[0m\u001b[0;34m,\u001b[0m \u001b[0my\u001b[0m\u001b[0;34m=\u001b[0m\u001b[0;34m\"y\"\u001b[0m\u001b[0;34m,\u001b[0m \u001b[0mhue\u001b[0m\u001b[0;34m=\u001b[0m\u001b[0;34m\"label\"\u001b[0m\u001b[0;34m,\u001b[0m\u001b[0mpalette\u001b[0m\u001b[0;34m=\u001b[0m\u001b[0mpalette\u001b[0m\u001b[0;34m,\u001b[0m \u001b[0max\u001b[0m\u001b[0;34m=\u001b[0m\u001b[0max\u001b[0m\u001b[0;34m,\u001b[0m \u001b[0mlinewidth\u001b[0m\u001b[0;34m=\u001b[0m\u001b[0;36m3\u001b[0m\u001b[0;34m)\u001b[0m\u001b[0;34m\u001b[0m\u001b[0;34m\u001b[0m\u001b[0m\n\u001b[0m\u001b[1;32m     26\u001b[0m \u001b[0;34m\u001b[0m\u001b[0m\n\u001b[1;32m     27\u001b[0m \u001b[0;31m# plot the line label(s)\u001b[0m\u001b[0;34m\u001b[0m\u001b[0;34m\u001b[0m\u001b[0;34m\u001b[0m\u001b[0m\n",
      "\u001b[0;32m/opt/anaconda3/lib/python3.8/site-packages/seaborn/_decorators.py\u001b[0m in \u001b[0;36minner_f\u001b[0;34m(*args, **kwargs)\u001b[0m\n\u001b[1;32m     44\u001b[0m             )\n\u001b[1;32m     45\u001b[0m         \u001b[0mkwargs\u001b[0m\u001b[0;34m.\u001b[0m\u001b[0mupdate\u001b[0m\u001b[0;34m(\u001b[0m\u001b[0;34m{\u001b[0m\u001b[0mk\u001b[0m\u001b[0;34m:\u001b[0m \u001b[0marg\u001b[0m \u001b[0;32mfor\u001b[0m \u001b[0mk\u001b[0m\u001b[0;34m,\u001b[0m \u001b[0marg\u001b[0m \u001b[0;32min\u001b[0m \u001b[0mzip\u001b[0m\u001b[0;34m(\u001b[0m\u001b[0msig\u001b[0m\u001b[0;34m.\u001b[0m\u001b[0mparameters\u001b[0m\u001b[0;34m,\u001b[0m \u001b[0margs\u001b[0m\u001b[0;34m)\u001b[0m\u001b[0;34m}\u001b[0m\u001b[0;34m)\u001b[0m\u001b[0;34m\u001b[0m\u001b[0;34m\u001b[0m\u001b[0m\n\u001b[0;32m---> 46\u001b[0;31m         \u001b[0;32mreturn\u001b[0m \u001b[0mf\u001b[0m\u001b[0;34m(\u001b[0m\u001b[0;34m**\u001b[0m\u001b[0mkwargs\u001b[0m\u001b[0;34m)\u001b[0m\u001b[0;34m\u001b[0m\u001b[0;34m\u001b[0m\u001b[0m\n\u001b[0m\u001b[1;32m     47\u001b[0m     \u001b[0;32mreturn\u001b[0m \u001b[0minner_f\u001b[0m\u001b[0;34m\u001b[0m\u001b[0;34m\u001b[0m\u001b[0m\n\u001b[1;32m     48\u001b[0m \u001b[0;34m\u001b[0m\u001b[0m\n",
      "\u001b[0;32m/opt/anaconda3/lib/python3.8/site-packages/seaborn/relational.py\u001b[0m in \u001b[0;36mlineplot\u001b[0;34m(x, y, hue, size, style, data, palette, hue_order, hue_norm, sizes, size_order, size_norm, dashes, markers, style_order, units, estimator, ci, n_boot, seed, sort, err_style, err_kws, legend, ax, **kwargs)\u001b[0m\n\u001b[1;32m    682\u001b[0m     )\n\u001b[1;32m    683\u001b[0m \u001b[0;34m\u001b[0m\u001b[0m\n\u001b[0;32m--> 684\u001b[0;31m     \u001b[0mp\u001b[0m\u001b[0;34m.\u001b[0m\u001b[0mmap_hue\u001b[0m\u001b[0;34m(\u001b[0m\u001b[0mpalette\u001b[0m\u001b[0;34m=\u001b[0m\u001b[0mpalette\u001b[0m\u001b[0;34m,\u001b[0m \u001b[0morder\u001b[0m\u001b[0;34m=\u001b[0m\u001b[0mhue_order\u001b[0m\u001b[0;34m,\u001b[0m \u001b[0mnorm\u001b[0m\u001b[0;34m=\u001b[0m\u001b[0mhue_norm\u001b[0m\u001b[0;34m)\u001b[0m\u001b[0;34m\u001b[0m\u001b[0;34m\u001b[0m\u001b[0m\n\u001b[0m\u001b[1;32m    685\u001b[0m     \u001b[0mp\u001b[0m\u001b[0;34m.\u001b[0m\u001b[0mmap_size\u001b[0m\u001b[0;34m(\u001b[0m\u001b[0msizes\u001b[0m\u001b[0;34m=\u001b[0m\u001b[0msizes\u001b[0m\u001b[0;34m,\u001b[0m \u001b[0morder\u001b[0m\u001b[0;34m=\u001b[0m\u001b[0msize_order\u001b[0m\u001b[0;34m,\u001b[0m \u001b[0mnorm\u001b[0m\u001b[0;34m=\u001b[0m\u001b[0msize_norm\u001b[0m\u001b[0;34m)\u001b[0m\u001b[0;34m\u001b[0m\u001b[0;34m\u001b[0m\u001b[0m\n\u001b[1;32m    686\u001b[0m     \u001b[0mp\u001b[0m\u001b[0;34m.\u001b[0m\u001b[0mmap_style\u001b[0m\u001b[0;34m(\u001b[0m\u001b[0mmarkers\u001b[0m\u001b[0;34m=\u001b[0m\u001b[0mmarkers\u001b[0m\u001b[0;34m,\u001b[0m \u001b[0mdashes\u001b[0m\u001b[0;34m=\u001b[0m\u001b[0mdashes\u001b[0m\u001b[0;34m,\u001b[0m \u001b[0morder\u001b[0m\u001b[0;34m=\u001b[0m\u001b[0mstyle_order\u001b[0m\u001b[0;34m)\u001b[0m\u001b[0;34m\u001b[0m\u001b[0;34m\u001b[0m\u001b[0m\n",
      "\u001b[0;32m/opt/anaconda3/lib/python3.8/site-packages/seaborn/_core.py\u001b[0m in \u001b[0;36mmap\u001b[0;34m(cls, plotter, *args, **kwargs)\u001b[0m\n\u001b[1;32m     51\u001b[0m         \u001b[0;31m# This method is assigned the __init__ docstring\u001b[0m\u001b[0;34m\u001b[0m\u001b[0;34m\u001b[0m\u001b[0;34m\u001b[0m\u001b[0m\n\u001b[1;32m     52\u001b[0m         \u001b[0mmethod_name\u001b[0m \u001b[0;34m=\u001b[0m \u001b[0;34m\"_{}_map\"\u001b[0m\u001b[0;34m.\u001b[0m\u001b[0mformat\u001b[0m\u001b[0;34m(\u001b[0m\u001b[0mcls\u001b[0m\u001b[0;34m.\u001b[0m\u001b[0m__name__\u001b[0m\u001b[0;34m[\u001b[0m\u001b[0;34m:\u001b[0m\u001b[0;34m-\u001b[0m\u001b[0;36m7\u001b[0m\u001b[0;34m]\u001b[0m\u001b[0;34m.\u001b[0m\u001b[0mlower\u001b[0m\u001b[0;34m(\u001b[0m\u001b[0;34m)\u001b[0m\u001b[0;34m)\u001b[0m\u001b[0;34m\u001b[0m\u001b[0;34m\u001b[0m\u001b[0m\n\u001b[0;32m---> 53\u001b[0;31m         \u001b[0msetattr\u001b[0m\u001b[0;34m(\u001b[0m\u001b[0mplotter\u001b[0m\u001b[0;34m,\u001b[0m \u001b[0mmethod_name\u001b[0m\u001b[0;34m,\u001b[0m \u001b[0mcls\u001b[0m\u001b[0;34m(\u001b[0m\u001b[0mplotter\u001b[0m\u001b[0;34m,\u001b[0m \u001b[0;34m*\u001b[0m\u001b[0margs\u001b[0m\u001b[0;34m,\u001b[0m \u001b[0;34m**\u001b[0m\u001b[0mkwargs\u001b[0m\u001b[0;34m)\u001b[0m\u001b[0;34m)\u001b[0m\u001b[0;34m\u001b[0m\u001b[0;34m\u001b[0m\u001b[0m\n\u001b[0m\u001b[1;32m     54\u001b[0m         \u001b[0;32mreturn\u001b[0m \u001b[0mplotter\u001b[0m\u001b[0;34m\u001b[0m\u001b[0;34m\u001b[0m\u001b[0m\n\u001b[1;32m     55\u001b[0m \u001b[0;34m\u001b[0m\u001b[0m\n",
      "\u001b[0;32m/opt/anaconda3/lib/python3.8/site-packages/seaborn/_core.py\u001b[0m in \u001b[0;36m__init__\u001b[0;34m(self, plotter, palette, order, norm)\u001b[0m\n\u001b[1;32m    116\u001b[0m \u001b[0;34m\u001b[0m\u001b[0m\n\u001b[1;32m    117\u001b[0m                 \u001b[0mcmap\u001b[0m \u001b[0;34m=\u001b[0m \u001b[0mnorm\u001b[0m \u001b[0;34m=\u001b[0m \u001b[0;32mNone\u001b[0m\u001b[0;34m\u001b[0m\u001b[0;34m\u001b[0m\u001b[0m\n\u001b[0;32m--> 118\u001b[0;31m                 levels, lookup_table = self.categorical_mapping(\n\u001b[0m\u001b[1;32m    119\u001b[0m                     \u001b[0mdata\u001b[0m\u001b[0;34m,\u001b[0m \u001b[0mpalette\u001b[0m\u001b[0;34m,\u001b[0m \u001b[0morder\u001b[0m\u001b[0;34m,\u001b[0m\u001b[0;34m\u001b[0m\u001b[0;34m\u001b[0m\u001b[0m\n\u001b[1;32m    120\u001b[0m                 )\n",
      "\u001b[0;32m/opt/anaconda3/lib/python3.8/site-packages/seaborn/_core.py\u001b[0m in \u001b[0;36mcategorical_mapping\u001b[0;34m(self, data, palette, order)\u001b[0m\n\u001b[1;32m    202\u001b[0m                 \u001b[0;32mif\u001b[0m \u001b[0mlen\u001b[0m\u001b[0;34m(\u001b[0m\u001b[0mpalette\u001b[0m\u001b[0;34m)\u001b[0m \u001b[0;34m!=\u001b[0m \u001b[0mn_colors\u001b[0m\u001b[0;34m:\u001b[0m\u001b[0;34m\u001b[0m\u001b[0;34m\u001b[0m\u001b[0m\n\u001b[1;32m    203\u001b[0m                     \u001b[0merr\u001b[0m \u001b[0;34m=\u001b[0m \u001b[0;34m\"The palette list has the wrong number of colors.\"\u001b[0m\u001b[0;34m\u001b[0m\u001b[0;34m\u001b[0m\u001b[0m\n\u001b[0;32m--> 204\u001b[0;31m                     \u001b[0;32mraise\u001b[0m \u001b[0mValueError\u001b[0m\u001b[0;34m(\u001b[0m\u001b[0merr\u001b[0m\u001b[0;34m)\u001b[0m\u001b[0;34m\u001b[0m\u001b[0;34m\u001b[0m\u001b[0m\n\u001b[0m\u001b[1;32m    205\u001b[0m                 \u001b[0mcolors\u001b[0m \u001b[0;34m=\u001b[0m \u001b[0mpalette\u001b[0m\u001b[0;34m\u001b[0m\u001b[0;34m\u001b[0m\u001b[0m\n\u001b[1;32m    206\u001b[0m             \u001b[0;32melse\u001b[0m\u001b[0;34m:\u001b[0m\u001b[0;34m\u001b[0m\u001b[0;34m\u001b[0m\u001b[0m\n",
      "\u001b[0;31mValueError\u001b[0m: The palette list has the wrong number of colors."
     ]
    },
    {
     "data": {
      "image/png": "[encoded data removed]",
      "text/plain": [
       "<Figure size 864x576 with 2 Axes>"
      ]
     },
     "metadata": {},
     "output_type": "display_data"
    },
    {
     "data": {
      "text/plain": [
       "<Figure size 3456x3456 with 0 Axes>"
      ]
     },
     "metadata": {},
     "output_type": "display_data"
    },
    {
     "data": {
      "image/png": "[encoded data removed]",
      "text/plain": [
       "<Figure size 864x576 with 2 Axes>"
      ]
     },
     "metadata": {},
     "output_type": "display_data"
    }
   ],
   "source": [
    "# calculate the axes scale\n",
    "xmin =   0.01\n",
    "xmax = 100.00\n",
    "ymin = 10 # default\n",
    "ymin = 10 ** int(math.floor(math.log10(g_df['slope'][0]*xmin)))\n",
    "ymax = ymin ** int(math.floor(math.log10(g_df['slope'][0]*10)))\n",
    "\n",
    "#calculate the midpoints for labels\n",
    "xmid = math.sqrt(xmin * xmax)\n",
    "ymid = g_df['slope'][0] * xmid\n",
    "y0gbytes = ymid\n",
    "x0gbytes = y0gbytes/g_df['slope'][0]\n",
    "alpha = 1.065\n",
    "\n",
    "# set some general plot settings\n",
    "fig, (ax,ax2) = plt.subplots(1, 2, gridspec_kw={'width_ratios': [2, 1]})\n",
    "plt.figure(figsize=(48,48))\n",
    "title = \"Empirical Roofline Graph \"\n",
    "sns.set(rc={'figure.figsize':(12,8)})\n",
    "#sns.set(font=\"Times New Roman\",font_scale=1.8)\n",
    "palette = sns.color_palette( \"Dark2\", int(len(g_df)/2))\n",
    "\n",
    "# plot the lines and peak flop labels\n",
    "fig, (ax,ax2) = plt.subplots(1, 2, gridspec_kw={'width_ratios': [2, 1]})\n",
    "sns.lineplot(data=g_df, x=\"x\", y=\"y\", hue=\"label\",palette=palette, ax=ax, linewidth=3)\n",
    "\n",
    "# plot the line label(s)\n",
    "for i in range(len(gflops_df.name.unique())):\n",
    "    ax.text(xmax, gflops_df['y'][i]*alpha, g_df['label'][i], size='medium', ha=\"right\")\n",
    "for index in range(len(gbytes_df.name.unique())):\n",
    "    mem = gbytes_df['name'][index]\n",
    "    (xmax, slope) = max([(gbytes_df['x'][i],gbytes_df['slope'][i]) for i in range(len(gbytes_df['x'])) if gbytes_df['name'][i]==mem])\n",
    "    xmid = math.sqrt(xmin * xmax)\n",
    "    ylab = slope * xmin\n",
    "    #y0gbytes = ymid\n",
    "    x0gbytes = y0gbytes/slope\n",
    "    alpha = 1.25\n",
    "    angle = math.degrees(math.atan(slope))/2\n",
    "    ax.text(x0gbytes, y0gbytes*alpha, gbytes_df['label'][index], size='medium', rotation=angle)\n",
    "\n",
    "# add table of configs\n",
    "bbox=[0, 0, 1, 1]\n",
    "ax2.axis('off')\n",
    "ax2.axis('tight')\n",
    "mpl_table = ax2.table(cellText = metadata_df.values, bbox=bbox, colLabels=metadata_df.columns, edges='horizontal')\n",
    "mpl_table.auto_set_font_size(False)\n",
    "mpl_table.set_fontsize(font_size)\n",
    "\n",
    "# add grid lines, title, legend\n",
    "ax.grid(b=True, which='both')\n",
    "ax.set_title(title, fontsize=20)\n",
    "ax.legend(loc='lower right')\n",
    "#sns.set(font_scale=2.5)\n",
    "\n",
    "fig.tight_layout();\n",
    "\n",
    "# save if desired\n",
    "ax.figure.savefig(\"roofline.svg\");\n",
    "\n",
    "plt.show();"
   ]
  },
  {
   "cell_type": "markdown",
   "metadata": {
    "id": "Aa67vUukE9pg"
   },
   "source": [
    "## Add application performance points\n",
    " - these can be loaded from a csv (below)"
   ]
  },
  {
   "cell_type": "code",
   "execution_count": 15,
   "metadata": {
    "colab": {
     "base_uri": "https://localhost:8080/",
     "height": 259,
     "resources": {
      "http://localhost:8080/nbextensions/google.colab/files.js": {
       "data": "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",
       "headers": [
        [
         "content-type",
         "application/javascript"
        ]
       ],
       "ok": true,
       "status": 200,
       "status_text": ""
      }
     }
    },
    "id": "e3kpwYicHhhf",
    "outputId": "ae157216-918f-4b5e-f5d8-4387e6e73ab3"
   },
   "outputs": [
    {
     "data": {
      "text/html": [
       "<div>\n",
       "<style scoped>\n",
       "    .dataframe tbody tr th:only-of-type {\n",
       "        vertical-align: middle;\n",
       "    }\n",
       "\n",
       "    .dataframe tbody tr th {\n",
       "        vertical-align: top;\n",
       "    }\n",
       "\n",
       "    .dataframe thead th {\n",
       "        text-align: right;\n",
       "    }\n",
       "</style>\n",
       "<table border=\"1\" class=\"dataframe\">\n",
       "  <thead>\n",
       "    <tr style=\"text-align: right;\">\n",
       "      <th></th>\n",
       "      <th>Arithmetic Intensity</th>\n",
       "      <th>Total Flops</th>\n",
       "      <th>Time (s)</th>\n",
       "      <th>Cycles</th>\n",
       "      <th>Label</th>\n",
       "      <th>Gflops/Sec</th>\n",
       "    </tr>\n",
       "  </thead>\n",
       "  <tbody>\n",
       "    <tr>\n",
       "      <th>0</th>\n",
       "      <td>0.060913</td>\n",
       "      <td>1.100000e+12</td>\n",
       "      <td>20.124886</td>\n",
       "      <td>33987267505</td>\n",
       "      <td>MM default Intel</td>\n",
       "      <td>54.658695</td>\n",
       "    </tr>\n",
       "    <tr>\n",
       "      <th>1</th>\n",
       "      <td>0.367749</td>\n",
       "      <td>1.150000e+12</td>\n",
       "      <td>0.778172</td>\n",
       "      <td>1411543353</td>\n",
       "      <td>MM transpose Intel</td>\n",
       "      <td>1477.822384</td>\n",
       "    </tr>\n",
       "    <tr>\n",
       "      <th>2</th>\n",
       "      <td>0.062318</td>\n",
       "      <td>1.100000e+12</td>\n",
       "      <td>12.965219</td>\n",
       "      <td>34794798908</td>\n",
       "      <td>MM unrolljam Intel</td>\n",
       "      <td>84.842377</td>\n",
       "    </tr>\n",
       "    <tr>\n",
       "      <th>3</th>\n",
       "      <td>0.100600</td>\n",
       "      <td>1.520000e+12</td>\n",
       "      <td>30.566550</td>\n",
       "      <td>31811658633</td>\n",
       "      <td>MM block 64 Intel</td>\n",
       "      <td>49.727562</td>\n",
       "    </tr>\n",
       "  </tbody>\n",
       "</table>\n",
       "</div>"
      ],
      "text/plain": [
       "   Arithmetic Intensity   Total Flops   Time (s)       Cycles  \\\n",
       "0              0.060913  1.100000e+12  20.124886  33987267505   \n",
       "1              0.367749  1.150000e+12   0.778172   1411543353   \n",
       "2              0.062318  1.100000e+12  12.965219  34794798908   \n",
       "3              0.100600  1.520000e+12  30.566550  31811658633   \n",
       "\n",
       "                Label   Gflops/Sec  \n",
       "0    MM default Intel    54.658695  \n",
       "1  MM transpose Intel  1477.822384  \n",
       "2  MM unrolljam Intel    84.842377  \n",
       "3   MM block 64 Intel    49.727562  "
      ]
     },
     "execution_count": 15,
     "metadata": {},
     "output_type": "execute_result"
    }
   ],
   "source": [
    "# GOOGLE COLAB\n",
    "# Load the csv file\n",
    "#from google.colab import files\n",
    "#uploaded = files.upload()\n",
    "# Load \n",
    "#csv_filename = \"app_data.csv\"\n",
    "#app_df = pd.read_csv(csv_filename)\n",
    "\n",
    "# JUPYTER NOTEBOOK\n",
    "#csv_filename = \"app_data.csv\"\n",
    "#csv_filename = \"a64_fuj.csv\"\n",
    "#csv_filename = \"mm_block_a64_fuj.csv\"\n",
    "csv_filename = \"mm_block_cas_int.csv\"\n",
    "with open(csv_filename) as csv_file:\n",
    "    app_df = pd.read_csv(csv_file)\n",
    "# data\n",
    "\n",
    "app_df['Gflops/Sec'] = (app_df['Total Flops']/app_df['Time (s)'])/1000000000\n",
    "app_df"
   ]
  },
  {
   "cell_type": "code",
   "execution_count": 21,
   "metadata": {
    "colab": {
     "base_uri": "https://localhost:8080/",
     "height": 526
    },
    "id": "Q3tXm2jVJLKn",
    "outputId": "857c10e3-84fa-45b0-f68c-514c3990db55"
   },
   "outputs": [
    {
     "name": "stdout",
     "output_type": "stream",
     "text": [
      "8\n"
     ]
    },
    {
     "ename": "ValueError",
     "evalue": "The palette list has the wrong number of colors.",
     "output_type": "error",
     "traceback": [
      "\u001b[0;31m---------------------------------------------------------------------------\u001b[0m",
      "\u001b[0;31mValueError\u001b[0m                                Traceback (most recent call last)",
      "\u001b[0;32m<ipython-input-21-cc09e367af2a>\u001b[0m in \u001b[0;36m<module>\u001b[0;34m\u001b[0m\n\u001b[1;32m     29\u001b[0m \u001b[0;34m\u001b[0m\u001b[0m\n\u001b[1;32m     30\u001b[0m \u001b[0;31m# plot the lines and peak flop label\u001b[0m\u001b[0;34m\u001b[0m\u001b[0;34m\u001b[0m\u001b[0;34m\u001b[0m\u001b[0m\n\u001b[0;32m---> 31\u001b[0;31m \u001b[0max\u001b[0m \u001b[0;34m=\u001b[0m \u001b[0msns\u001b[0m\u001b[0;34m.\u001b[0m\u001b[0mlineplot\u001b[0m\u001b[0;34m(\u001b[0m\u001b[0mdata\u001b[0m\u001b[0;34m=\u001b[0m\u001b[0mg_df\u001b[0m\u001b[0;34m,\u001b[0m \u001b[0mx\u001b[0m\u001b[0;34m=\u001b[0m\u001b[0;34m\"x\"\u001b[0m\u001b[0;34m,\u001b[0m \u001b[0my\u001b[0m\u001b[0;34m=\u001b[0m\u001b[0;34m\"y\"\u001b[0m\u001b[0;34m,\u001b[0m \u001b[0mhue\u001b[0m\u001b[0;34m=\u001b[0m\u001b[0;34m\"label\"\u001b[0m\u001b[0;34m,\u001b[0m \u001b[0mpalette\u001b[0m\u001b[0;34m=\u001b[0m\u001b[0mpalette\u001b[0m\u001b[0;34m,\u001b[0m \u001b[0mlinewidth\u001b[0m\u001b[0;34m=\u001b[0m\u001b[0;36m3\u001b[0m\u001b[0;34m)\u001b[0m\u001b[0;34m\u001b[0m\u001b[0;34m\u001b[0m\u001b[0m\n\u001b[0m\u001b[1;32m     32\u001b[0m \u001b[0max\u001b[0m\u001b[0;34m.\u001b[0m\u001b[0mset\u001b[0m\u001b[0;34m(\u001b[0m\u001b[0mxlabel\u001b[0m\u001b[0;34m=\u001b[0m\u001b[0;34m'FLOPs / Byte'\u001b[0m\u001b[0;34m,\u001b[0m \u001b[0mylabel\u001b[0m\u001b[0;34m=\u001b[0m\u001b[0;34m'GFLOPs / Second'\u001b[0m\u001b[0;34m)\u001b[0m\u001b[0;34m\u001b[0m\u001b[0;34m\u001b[0m\u001b[0m\n\u001b[1;32m     33\u001b[0m \u001b[0max\u001b[0m\u001b[0;34m.\u001b[0m\u001b[0mset\u001b[0m\u001b[0;34m(\u001b[0m\u001b[0mxscale\u001b[0m\u001b[0;34m=\u001b[0m\u001b[0;34m\"log\"\u001b[0m\u001b[0;34m,\u001b[0m \u001b[0myscale\u001b[0m\u001b[0;34m=\u001b[0m\u001b[0;34m\"log\"\u001b[0m\u001b[0;34m,\u001b[0m \u001b[0mxlim\u001b[0m\u001b[0;34m=\u001b[0m\u001b[0;34m(\u001b[0m\u001b[0mxmin\u001b[0m\u001b[0;34m,\u001b[0m \u001b[0mxmax\u001b[0m\u001b[0;34m)\u001b[0m\u001b[0;34m,\u001b[0m \u001b[0mylim\u001b[0m\u001b[0;34m=\u001b[0m\u001b[0;34m(\u001b[0m\u001b[0mymin\u001b[0m\u001b[0;34m,\u001b[0m\u001b[0mymax\u001b[0m\u001b[0;34m)\u001b[0m\u001b[0;34m)\u001b[0m\u001b[0;34m\u001b[0m\u001b[0;34m\u001b[0m\u001b[0m\n",
      "\u001b[0;32m/opt/anaconda3/lib/python3.8/site-packages/seaborn/_decorators.py\u001b[0m in \u001b[0;36minner_f\u001b[0;34m(*args, **kwargs)\u001b[0m\n\u001b[1;32m     44\u001b[0m             )\n\u001b[1;32m     45\u001b[0m         \u001b[0mkwargs\u001b[0m\u001b[0;34m.\u001b[0m\u001b[0mupdate\u001b[0m\u001b[0;34m(\u001b[0m\u001b[0;34m{\u001b[0m\u001b[0mk\u001b[0m\u001b[0;34m:\u001b[0m \u001b[0marg\u001b[0m \u001b[0;32mfor\u001b[0m \u001b[0mk\u001b[0m\u001b[0;34m,\u001b[0m \u001b[0marg\u001b[0m \u001b[0;32min\u001b[0m \u001b[0mzip\u001b[0m\u001b[0;34m(\u001b[0m\u001b[0msig\u001b[0m\u001b[0;34m.\u001b[0m\u001b[0mparameters\u001b[0m\u001b[0;34m,\u001b[0m \u001b[0margs\u001b[0m\u001b[0;34m)\u001b[0m\u001b[0;34m}\u001b[0m\u001b[0;34m)\u001b[0m\u001b[0;34m\u001b[0m\u001b[0;34m\u001b[0m\u001b[0m\n\u001b[0;32m---> 46\u001b[0;31m         \u001b[0;32mreturn\u001b[0m \u001b[0mf\u001b[0m\u001b[0;34m(\u001b[0m\u001b[0;34m**\u001b[0m\u001b[0mkwargs\u001b[0m\u001b[0;34m)\u001b[0m\u001b[0;34m\u001b[0m\u001b[0;34m\u001b[0m\u001b[0m\n\u001b[0m\u001b[1;32m     47\u001b[0m     \u001b[0;32mreturn\u001b[0m \u001b[0minner_f\u001b[0m\u001b[0;34m\u001b[0m\u001b[0;34m\u001b[0m\u001b[0m\n\u001b[1;32m     48\u001b[0m \u001b[0;34m\u001b[0m\u001b[0m\n",
      "\u001b[0;32m/opt/anaconda3/lib/python3.8/site-packages/seaborn/relational.py\u001b[0m in \u001b[0;36mlineplot\u001b[0;34m(x, y, hue, size, style, data, palette, hue_order, hue_norm, sizes, size_order, size_norm, dashes, markers, style_order, units, estimator, ci, n_boot, seed, sort, err_style, err_kws, legend, ax, **kwargs)\u001b[0m\n\u001b[1;32m    682\u001b[0m     )\n\u001b[1;32m    683\u001b[0m \u001b[0;34m\u001b[0m\u001b[0m\n\u001b[0;32m--> 684\u001b[0;31m     \u001b[0mp\u001b[0m\u001b[0;34m.\u001b[0m\u001b[0mmap_hue\u001b[0m\u001b[0;34m(\u001b[0m\u001b[0mpalette\u001b[0m\u001b[0;34m=\u001b[0m\u001b[0mpalette\u001b[0m\u001b[0;34m,\u001b[0m \u001b[0morder\u001b[0m\u001b[0;34m=\u001b[0m\u001b[0mhue_order\u001b[0m\u001b[0;34m,\u001b[0m \u001b[0mnorm\u001b[0m\u001b[0;34m=\u001b[0m\u001b[0mhue_norm\u001b[0m\u001b[0;34m)\u001b[0m\u001b[0;34m\u001b[0m\u001b[0;34m\u001b[0m\u001b[0m\n\u001b[0m\u001b[1;32m    685\u001b[0m     \u001b[0mp\u001b[0m\u001b[0;34m.\u001b[0m\u001b[0mmap_size\u001b[0m\u001b[0;34m(\u001b[0m\u001b[0msizes\u001b[0m\u001b[0;34m=\u001b[0m\u001b[0msizes\u001b[0m\u001b[0;34m,\u001b[0m \u001b[0morder\u001b[0m\u001b[0;34m=\u001b[0m\u001b[0msize_order\u001b[0m\u001b[0;34m,\u001b[0m \u001b[0mnorm\u001b[0m\u001b[0;34m=\u001b[0m\u001b[0msize_norm\u001b[0m\u001b[0;34m)\u001b[0m\u001b[0;34m\u001b[0m\u001b[0;34m\u001b[0m\u001b[0m\n\u001b[1;32m    686\u001b[0m     \u001b[0mp\u001b[0m\u001b[0;34m.\u001b[0m\u001b[0mmap_style\u001b[0m\u001b[0;34m(\u001b[0m\u001b[0mmarkers\u001b[0m\u001b[0;34m=\u001b[0m\u001b[0mmarkers\u001b[0m\u001b[0;34m,\u001b[0m \u001b[0mdashes\u001b[0m\u001b[0;34m=\u001b[0m\u001b[0mdashes\u001b[0m\u001b[0;34m,\u001b[0m \u001b[0morder\u001b[0m\u001b[0;34m=\u001b[0m\u001b[0mstyle_order\u001b[0m\u001b[0;34m)\u001b[0m\u001b[0;34m\u001b[0m\u001b[0;34m\u001b[0m\u001b[0m\n",
      "\u001b[0;32m/opt/anaconda3/lib/python3.8/site-packages/seaborn/_core.py\u001b[0m in \u001b[0;36mmap\u001b[0;34m(cls, plotter, *args, **kwargs)\u001b[0m\n\u001b[1;32m     51\u001b[0m         \u001b[0;31m# This method is assigned the __init__ docstring\u001b[0m\u001b[0;34m\u001b[0m\u001b[0;34m\u001b[0m\u001b[0;34m\u001b[0m\u001b[0m\n\u001b[1;32m     52\u001b[0m         \u001b[0mmethod_name\u001b[0m \u001b[0;34m=\u001b[0m \u001b[0;34m\"_{}_map\"\u001b[0m\u001b[0;34m.\u001b[0m\u001b[0mformat\u001b[0m\u001b[0;34m(\u001b[0m\u001b[0mcls\u001b[0m\u001b[0;34m.\u001b[0m\u001b[0m__name__\u001b[0m\u001b[0;34m[\u001b[0m\u001b[0;34m:\u001b[0m\u001b[0;34m-\u001b[0m\u001b[0;36m7\u001b[0m\u001b[0;34m]\u001b[0m\u001b[0;34m.\u001b[0m\u001b[0mlower\u001b[0m\u001b[0;34m(\u001b[0m\u001b[0;34m)\u001b[0m\u001b[0;34m)\u001b[0m\u001b[0;34m\u001b[0m\u001b[0;34m\u001b[0m\u001b[0m\n\u001b[0;32m---> 53\u001b[0;31m         \u001b[0msetattr\u001b[0m\u001b[0;34m(\u001b[0m\u001b[0mplotter\u001b[0m\u001b[0;34m,\u001b[0m \u001b[0mmethod_name\u001b[0m\u001b[0;34m,\u001b[0m \u001b[0mcls\u001b[0m\u001b[0;34m(\u001b[0m\u001b[0mplotter\u001b[0m\u001b[0;34m,\u001b[0m \u001b[0;34m*\u001b[0m\u001b[0margs\u001b[0m\u001b[0;34m,\u001b[0m \u001b[0;34m**\u001b[0m\u001b[0mkwargs\u001b[0m\u001b[0;34m)\u001b[0m\u001b[0;34m)\u001b[0m\u001b[0;34m\u001b[0m\u001b[0;34m\u001b[0m\u001b[0m\n\u001b[0m\u001b[1;32m     54\u001b[0m         \u001b[0;32mreturn\u001b[0m \u001b[0mplotter\u001b[0m\u001b[0;34m\u001b[0m\u001b[0;34m\u001b[0m\u001b[0m\n\u001b[1;32m     55\u001b[0m \u001b[0;34m\u001b[0m\u001b[0m\n",
      "\u001b[0;32m/opt/anaconda3/lib/python3.8/site-packages/seaborn/_core.py\u001b[0m in \u001b[0;36m__init__\u001b[0;34m(self, plotter, palette, order, norm)\u001b[0m\n\u001b[1;32m    116\u001b[0m \u001b[0;34m\u001b[0m\u001b[0m\n\u001b[1;32m    117\u001b[0m                 \u001b[0mcmap\u001b[0m \u001b[0;34m=\u001b[0m \u001b[0mnorm\u001b[0m \u001b[0;34m=\u001b[0m \u001b[0;32mNone\u001b[0m\u001b[0;34m\u001b[0m\u001b[0;34m\u001b[0m\u001b[0m\n\u001b[0;32m--> 118\u001b[0;31m                 levels, lookup_table = self.categorical_mapping(\n\u001b[0m\u001b[1;32m    119\u001b[0m                     \u001b[0mdata\u001b[0m\u001b[0;34m,\u001b[0m \u001b[0mpalette\u001b[0m\u001b[0;34m,\u001b[0m \u001b[0morder\u001b[0m\u001b[0;34m,\u001b[0m\u001b[0;34m\u001b[0m\u001b[0;34m\u001b[0m\u001b[0m\n\u001b[1;32m    120\u001b[0m                 )\n",
      "\u001b[0;32m/opt/anaconda3/lib/python3.8/site-packages/seaborn/_core.py\u001b[0m in \u001b[0;36mcategorical_mapping\u001b[0;34m(self, data, palette, order)\u001b[0m\n\u001b[1;32m    202\u001b[0m                 \u001b[0;32mif\u001b[0m \u001b[0mlen\u001b[0m\u001b[0;34m(\u001b[0m\u001b[0mpalette\u001b[0m\u001b[0;34m)\u001b[0m \u001b[0;34m!=\u001b[0m \u001b[0mn_colors\u001b[0m\u001b[0;34m:\u001b[0m\u001b[0;34m\u001b[0m\u001b[0;34m\u001b[0m\u001b[0m\n\u001b[1;32m    203\u001b[0m                     \u001b[0merr\u001b[0m \u001b[0;34m=\u001b[0m \u001b[0;34m\"The palette list has the wrong number of colors.\"\u001b[0m\u001b[0;34m\u001b[0m\u001b[0;34m\u001b[0m\u001b[0m\n\u001b[0;32m--> 204\u001b[0;31m                     \u001b[0;32mraise\u001b[0m \u001b[0mValueError\u001b[0m\u001b[0;34m(\u001b[0m\u001b[0merr\u001b[0m\u001b[0;34m)\u001b[0m\u001b[0;34m\u001b[0m\u001b[0;34m\u001b[0m\u001b[0m\n\u001b[0m\u001b[1;32m    205\u001b[0m                 \u001b[0mcolors\u001b[0m \u001b[0;34m=\u001b[0m \u001b[0mpalette\u001b[0m\u001b[0;34m\u001b[0m\u001b[0;34m\u001b[0m\u001b[0m\n\u001b[1;32m    206\u001b[0m             \u001b[0;32melse\u001b[0m\u001b[0;34m:\u001b[0m\u001b[0;34m\u001b[0m\u001b[0;34m\u001b[0m\u001b[0m\n",
      "\u001b[0;31mValueError\u001b[0m: The palette list has the wrong number of colors."
     ]
    }
   ],
   "source": [
    "# calculate the axes scale\n",
    "xmin =   0.01\n",
    "xmax = 100.00\n",
    "#ymin = 1 # default - change this?\n",
    "#ymin = 10 ** int(math.floor(math.log10(g_df['slope'][0]*xmin)))\n",
    "ymin = 1 ** int(math.floor(math.log10(g_df['slope'][0]*xmin)))\n",
    "#ymin= 0.01\n",
    "#ymax = ymin ** int(math.floor(math.log10(g_df['slope'][0]*1000)))\n",
    "ymax = (ymin*10) ** int(math.floor(math.log10(g_df['slope'][0]*10)))\n",
    "\n",
    "#calculate the midpoints for labels\n",
    "xmid = math.sqrt(xmin * xmax)\n",
    "ymid = g_df['slope'][0] * xmid\n",
    "#ylabel = ymid\n",
    "xlabel = ymid/g_df['slope'][0]\n",
    "alpha = 1.1\n",
    "\n",
    "# general plot settings\n",
    "#title = \"Empirical Roofline Graph \"\n",
    "sns.set(rc={'figure.figsize':(12,8)})\n",
    "sns.set(font_scale=1.65)\n",
    "palette = sns.color_palette( \"Dark2\", int(len(g_df)/2))\n",
    "print(len(palette))\n",
    "\n",
    "# plot the lines\n",
    "#ax = sns.lineplot(data=g_df, x=\"x\", y=\"y\", hue=\"label\",palette=palette)\n",
    "#ax.set(xlabel='FLOPs / Byte', ylabel='GFLOPs / Second', fontsize=14)\n",
    "#ax.set(xscale=\"log\", yscale=\"log\", xlim=(xmin, xmax), ylim=(ymin,ymax))\n",
    "\n",
    "# plot the lines and peak flop label\n",
    "ax = sns.lineplot(data=g_df, x=\"x\", y=\"y\", hue=\"label\", palette=palette, linewidth=3)\n",
    "ax.set(xlabel='FLOPs / Byte', ylabel='GFLOPs / Second')\n",
    "ax.set(xscale=\"log\", yscale=\"log\", xlim=(xmin, xmax), ylim=(ymin,ymax))\n",
    "\n",
    "# set axes labels and values, set log scale\n",
    "ax.set(xlabel='FLOPs / Byte', ylabel='GFLOPs / Second')\n",
    "ax.set(xscale=\"log\", yscale=\"log\", xlim=(xmin, xmax), ylim=(ymin,ymax))\n",
    "\n",
    "# plot the line label(s)\n",
    "for i in range(len(gflops_df.name.unique())):\n",
    "    ax.text(xmax, gflops_df['y'][i]*alpha, g_df['label'][i], size='medium', ha=\"right\")\n",
    "for index in range(len(gbytes_df.name.unique())):\n",
    "    mem = gbytes_df['name'][index]\n",
    "    (xmax, slope) = max([(gbytes_df['x'][i],gbytes_df['slope'][i]) for i in range(len(gbytes_df['x'])) if gbytes_df['name'][i]==mem])\n",
    "    xmid = math.sqrt(xmin * xmax)\n",
    "    ylab = slope * xmin\n",
    "    #xmin = ymin/slope\n",
    "    mem_alpha = 1.2\n",
    "    angle = math.degrees(math.atan(slope))/2-12\n",
    "    ax.text(xmin, ylab*mem_alpha, gbytes_df['label'][index], size='medium', rotation=angle)\n",
    "\n",
    "# plot the application information\n",
    "ax = sns.scatterplot(x=app_df['Arithmetic Intensity'], y=app_df['Gflops/Sec'], style=app_df['Label'], hue=app_df['Label'])\n",
    "\n",
    "ax.grid(b=True, which='both',)\n",
    "#ax.set_title(title, size='large')\n",
    "ax.legend(loc=\"lower right\")\n",
    "\n",
    "# save if desired\n",
    "ax.figure.savefig(\"cascadelake_roofline.png\")\n",
    "plt.show()"
   ]
  },
  {
   "cell_type": "code",
   "execution_count": 18,
   "metadata": {
    "id": "xv8fQMJ1POw5"
   },
   "outputs": [
    {
     "ename": "SyntaxError",
     "evalue": "invalid syntax (<ipython-input-18-c77b9ebcda38>, line 35)",
     "output_type": "error",
     "traceback": [
      "\u001b[0;36m  File \u001b[0;32m\"<ipython-input-18-c77b9ebcda38>\"\u001b[0;36m, line \u001b[0;32m35\u001b[0m\n\u001b[0;31m    ax = sns.lineplot(data=g_df, x=\"x\", y=\"y\", hue=\"label\",palette=palette)\u001b[0m\n\u001b[0m    ^\u001b[0m\n\u001b[0;31mSyntaxError\u001b[0m\u001b[0;31m:\u001b[0m invalid syntax\n"
     ]
    }
   ],
   "source": [
    "# # calculate the axes scale\n",
    "# xmin =   0.01\n",
    "# xmax = 100.00\n",
    "# ymin = 10 # default - change this?\n",
    "# ymin = 10 ** int(math.floor(math.log10(g_df['slope'][0]*xmin)))\n",
    "# ymax = ymin ** int(math.floor(math.log10(g_df['slope'][0]*10)))\n",
    "\n",
    "# #calculate the midpoints for labels\n",
    "# xmid = math.sqrt(xmin * xmax)\n",
    "# ymid = g_df['slope'][0] * xmid\n",
    "# y0gbytes = ymid\n",
    "# x0gbytes = y0gbytes/g_df['slope'][0]\n",
    "# alpha = 1.065\n",
    "\n",
    "xmin =   0.01\n",
    "xmax = 100.00\n",
    "ymin = 10 ** int(math.floor(math.log10(g_df['slope'][0]*xmin)))\n",
    "ymax = ymin ** int(math.floor(math.log10(g_df['slope'][0]*10)))\n",
    "\n",
    "#calculate the midpoints for labels\n",
    "xmid = math.sqrt(xmin * xmax)\n",
    "ymid = g_df['slope'][0] * xmid\n",
    "#y0gbytes = ymid\n",
    "x0gbytes = ymid/g_df['slope'][0]\n",
    "alpha = 1.065\n",
    "\n",
    "\n",
    "# general plot settings\n",
    "title = \"Empirical Roofline Graph \"\n",
    "#sns.set(rc={'figure.figsize':(12,8)})\n",
    "palette = sns.color_palette( \"Dark2\", int(len(g_df)/2))\n",
    "print(len(palette)\n",
    "\n",
    "# plot the lines\n",
    "ax = sns.lineplot(data=g_df, x=\"x\", y=\"y\", hue=\"label\",palette=palette)\n",
    "ax.set(xlabel='FLOPs / Byte', ylabel='GFLOPs / Second')\n",
    "ax.set(xscale=\"log\", yscale=\"log\", xlim=(xmin, xmax), ylim=(ymin,ymax))\n",
    "#ax = sns.lineplot(x=[0.85849, 0.85849], y=[0.0,1406.31], palette=\"Dark2_r\")\n",
    "#print(len(ax.lines))\n",
    "#ax.lines[4].set_linestyle(\"--\")\n",
    "\n",
    "# plot the line label(s)\n",
    "for i in range(len(gflops_df.name.unique())):\n",
    "    ax.text(xmax, ymid*alpha, g_df['label'][i], size='medium', ha=\"right\")\n",
    "for index in range(len(gbytes_df.name.unique())):\n",
    "    mem = gbytes_df['name'][index]\n",
    "    (xmax, slope) = max([(gbytes_df['x'][i],gbytes_df['slope'][i]) for i in range(len(gbytes_df['x'])) if gbytes_df['name'][i]==mem])\n",
    "    xmid = math.sqrt(xmin * xmax)\n",
    "    ymid = slope * xmid\n",
    "    y0gbytes = ymid\n",
    "    x0gbytes = y0gbytes/slope\n",
    "    alpha = 1.2\n",
    "    angle = math.degrees(math.atan(slope))/2-4\n",
    "    ax.text(x0gbytes, y0gbytes*alpha, gbytes_df['label'][index], size='medium', rotation=angle)\n",
    "\n",
    "ax.grid(b=True, which='both',)\n",
    "ax.set_title(title, size='large')\n",
    "ax.legend(loc=\"lower right\")\n",
    "\n",
    "#ymaxx = 1-(1406.31/10000)\n",
    "#plt.axvline(x=0.85849, ymax=.72,  color=\"k\", linestyle='--', )\n",
    "#ax.text(0.85849*0.8, y0gbytes, \"Machine Balance\", size='medium', rotation=90)\n",
    "\n",
    "# save if desired\n",
    "ax.figure.savefig(\"roofline.svg\")\n",
    "plt.show()"
   ]
  },
  {
   "cell_type": "markdown",
   "metadata": {
    "id": "mqscaFybfupc"
   },
   "source": [
    "### Plotly Version (Work in Progress)"
   ]
  },
  {
   "cell_type": "code",
   "execution_count": null,
   "metadata": {
    "id": "NZryeHPZZEDt"
   },
   "outputs": [],
   "source": [
    "# plot! plotly version\n",
    "fig = go.Figure()\n",
    "elements = g_df['name'].unique()\n",
    "fig.update_xaxes(type=\"log\", range=[-1,2]) \n",
    "fig.update_yaxes(type=\"log\", range=[1,4])\n",
    "# Create traces\n",
    "for cur_name in elements:\n",
    "  index = (g_df[g_df['name']==cur_name].index.values)[0]\n",
    "  x_vals = [g_df['x'][i] for i in range(g_df.shape[0]) if g_df['name'][i] == cur_name]\n",
    "  y_vals = [g_df['y'][i] for i in range(g_df.shape[0]) if g_df['name'][i] == cur_name]\n",
    "  fig.add_trace(go.Scatter(x=x_vals, y=y_vals,\n",
    "                      mode=\"lines\",\n",
    "                      name=g_df['label'][index]\n",
    "                      ))\n",
    "  slope = g_df['slope'][index]\n",
    "  # get the mid-ish point to add the label\n",
    "  #calculate the midpoints for labels\n",
    "  xmid = math.sqrt(xmin * xmax)\n",
    "  ymid = slope * xmid\n",
    "  y0gbytes = ymid\n",
    "  x0gbytes = y0gbytes/slope\n",
    "  fig.add_annotation(text=cur_name+str(slope),\n",
    "                  xref=\"paper\", yref=\"paper\",\n",
    "                  x=x0gbytes, y=y0gbytes, showarrow=False,\n",
    "                  textangle=-45)\n",
    "fig.update_layout(\n",
    "    autosize=False,\n",
    "    width=1200,\n",
    "    height=800,\n",
    "    title=\"Empirical Roofline Graph\",\n",
    "    xaxis_title=\"FLOPs / Byte\",\n",
    "    yaxis_title=\"GFLOPs / Second\"\n",
    ")\n",
    "\n",
    "\n",
    "fig.show()"
   ]
  },
  {
   "cell_type": "code",
   "execution_count": null,
   "metadata": {},
   "outputs": [],
   "source": []
  }
 ],
 "metadata": {
  "colab": {
   "authorship_tag": "ABX9TyNpwYb7lRMkdDTVGMkAF4It",
   "collapsed_sections": [],
   "include_colab_link": true,
   "name": "roofline_python.ipynb",
   "provenance": []
  },
  "kernelspec": {
   "display_name": "Python 3",
   "language": "python",
   "name": "python3"
  },
  "language_info": {
   "codemirror_mode": {
    "name": "ipython",
    "version": 3
   },
   "file_extension": ".py",
   "mimetype": "text/x-python",
   "name": "python",
   "nbconvert_exporter": "python",
   "pygments_lexer": "ipython3",
   "version": "3.8.5"
  }
 },
 "nbformat": 4,
 "nbformat_minor": 1
}
