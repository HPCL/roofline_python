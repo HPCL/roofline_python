{
 "cells": [
  {
   "cell_type": "code",
   "execution_count": 1,
   "metadata": {},
   "outputs": [],
   "source": [
    "import io\n",
    "import json\n",
    "import pandas as pd\n",
    "import matplotlib.pyplot as plt\n",
    "import seaborn as sns\n",
    "import numpy as np\n",
    "import math\n",
    "import roofline_python as roofline"
   ]
  },
  {
   "cell_type": "code",
   "execution_count": 2,
   "metadata": {},
   "outputs": [
    {
     "data": {
      "text/plain": [
       "{'empirical': {'metadata': {},\n",
       "  'gflops': {'data': [['FP64 GFLOPs', 2772.78]],\n",
       "   'metadata': {'': ['META_DATA',\n",
       "     'FLOPS          64',\n",
       "     'OPENMP_THREADS 80',\n",
       "     'ERT_VERSION  1.1.0',\n",
       "     \"HOSTNAME  ('apollo.cs.uoregon.edu', [], ['128.223.8.36'])\",\n",
       "     \"UNAME  uname_result(system='Linux', node='apollo', release='5.3.0-70-generic', version='#66-Ubuntu SMP Fri Jan 29 21:31:57 UTC 2021', machine='x86_64', processor='x86_64')\",\n",
       "     'TIMESTAMP_DATA  1619038298.9375675',\n",
       "     \"CONFIG  {'ERT_RESULTS': ['Results.apollo.skylake_gold'], 'ERT_DRIVER': ['driver1'], 'ERT_KERNEL': ['kernel1'], 'ERT_MPI': ['False'], 'ERT_MPI_CFLAGS': [], 'ERT_MPI_LDFLAGS': [], 'ERT_OPENMP': ['True'], 'ERT_OPENMP_CFLAGS': ['-fopenmp'], 'ERT_OPENMP_LDFLAGS': ['-fopenmp'], 'ERT_FLOPS': ['1,2,4,8,16,32,64,128'], 'ERT_ALIGN': ['32'], 'ERT_CC': ['icpc'], 'ERT_CFLAGS': ['-O3', '-march=skylake-avx512', '-qopt-zmm-usage=high'], 'ERT_LD': ['icpc'], 'ERT_LDFLAGS': [], 'ERT_LDLIBS': [], 'ERT_PRECISION': ['FP64'], 'ERT_RUN': ['export', 'OMP_ORC_BIND=close;', 'export', 'OMP_PLACES=sockets;', './ERT_CODE'], 'ERT_PROCS_THREADS': ['112'], 'ERT_OPENMP_THREADS': ['18,20,38,40,78,80'], 'ERT_NUM_EXPERIMENTS': ['5'], 'ERT_MEMORY_MAX': ['2147482548'], 'ERT_WORKING_SET_MIN': ['1'], 'ERT_TRIALS_MIN': ['1'], 'ERT_GNUPLOT': ['gnuplot'], 'ERT_GPU': [False], 'ERT_HIP': [False], 'ERT_OCL': [False], 'ERT_SYCL': [False], 'ERT_WSS_MULT': [1.1]}\",\n",
       "     'TIMESTAMP_DATA  1619038305.7113626',\n",
       "     'TIMESTAMP_DATA  1619038312.447366',\n",
       "     'TIMESTAMP_DATA  1619038319.1575305',\n",
       "     'TIMESTAMP_DATA  1619038325.916049'],\n",
       "    'TIMESTAMP_DB': 1619038621.4781697}},\n",
       "  'gbytes': {'data': [['L1', 8259.44], ['L2', 3120.85], ['DRAM', 200.3]],\n",
       "   'metadata': {'': ['FLOPS          4',\n",
       "     'OPENMP_THREADS 80',\n",
       "     'ERT_VERSION  1.1.0',\n",
       "     \"HOSTNAME  ('apollo.cs.uoregon.edu', [], ['128.223.8.36'])\",\n",
       "     \"UNAME  uname_result(system='Linux', node='apollo', release='5.3.0-70-generic', version='#66-Ubuntu SMP Fri Jan 29 21:31:57 UTC 2021', machine='x86_64', processor='x86_64')\",\n",
       "     'TIMESTAMP_DATA  1619037592.3827763',\n",
       "     \"CONFIG  {'ERT_RESULTS': ['Results.apollo.skylake_gold'], 'ERT_DRIVER': ['driver1'], 'ERT_KERNEL': ['kernel1'], 'ERT_MPI': ['False'], 'ERT_MPI_CFLAGS': [], 'ERT_MPI_LDFLAGS': [], 'ERT_OPENMP': ['True'], 'ERT_OPENMP_CFLAGS': ['-fopenmp'], 'ERT_OPENMP_LDFLAGS': ['-fopenmp'], 'ERT_FLOPS': ['1,2,4,8,16,32,64,128'], 'ERT_ALIGN': ['32'], 'ERT_CC': ['icpc'], 'ERT_CFLAGS': ['-O3', '-march=skylake-avx512', '-qopt-zmm-usage=high'], 'ERT_LD': ['icpc'], 'ERT_LDFLAGS': [], 'ERT_LDLIBS': [], 'ERT_PRECISION': ['FP64'], 'ERT_RUN': ['export', 'OMP_ORC_BIND=close;', 'export', 'OMP_PLACES=sockets;', './ERT_CODE'], 'ERT_PROCS_THREADS': ['112'], 'ERT_OPENMP_THREADS': ['18,20,38,40,78,80'], 'ERT_NUM_EXPERIMENTS': ['5'], 'ERT_MEMORY_MAX': ['2147482548'], 'ERT_WORKING_SET_MIN': ['1'], 'ERT_TRIALS_MIN': ['1'], 'ERT_GNUPLOT': ['gnuplot'], 'ERT_GPU': [False], 'ERT_HIP': [False], 'ERT_OCL': [False], 'ERT_SYCL': [False], 'ERT_WSS_MULT': [1.1]}\",\n",
       "     'TIMESTAMP_DATA  1619037597.3764522',\n",
       "     'TIMESTAMP_DATA  1619037602.4575253',\n",
       "     'TIMESTAMP_DATA  1619037607.320476',\n",
       "     'TIMESTAMP_DATA  1619037612.2389545'],\n",
       "    'TIMESTAMP_DB': 1619038621.4782283}}},\n",
       " 'spec': {'gflops': {'data': []}, 'gbytes': {'data': []}}}"
      ]
     },
     "execution_count": 2,
     "metadata": {},
     "output_type": "execute_result"
    }
   ],
   "source": [
    "filename = \"roofline.json\"\n",
    "with open(filename) as file:\n",
    "    data = json.load(file)\n",
    "data"
   ]
  },
  {
   "cell_type": "code",
   "execution_count": null,
   "metadata": {},
   "outputs": [],
   "source": []
  }
 ],
 "metadata": {
  "kernelspec": {
   "display_name": "Python 3",
   "language": "python",
   "name": "python3"
  },
  "language_info": {
   "codemirror_mode": {
    "name": "ipython",
    "version": 3
   },
   "file_extension": ".py",
   "mimetype": "text/x-python",
   "name": "python",
   "nbconvert_exporter": "python",
   "pygments_lexer": "ipython3",
   "version": "3.8.5"
  }
 },
 "nbformat": 4,
 "nbformat_minor": 4
}
